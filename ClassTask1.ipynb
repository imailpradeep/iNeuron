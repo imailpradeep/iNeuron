{
  "nbformat": 4,
  "nbformat_minor": 0,
  "metadata": {
    "colab": {
      "name": "ClassTask1.ipynb",
      "provenance": [],
      "collapsed_sections": []
    },
    "kernelspec": {
      "name": "python3",
      "display_name": "Python 3"
    },
    "language_info": {
      "name": "python"
    }
  },
  "cells": [
    {
      "cell_type": "markdown",
      "source": [
        "s = \"this is My First Python programming class and i am learNING python string and its function\"\n",
        " 1 . Try to extract data from index one to index 300 with a jump of 3 \n",
        " 2. Try to reverse a string without using reverse function \n",
        " 3. Try to split a string after conversion of entire string in uppercase \n",
        " 4. try to convert the whole string into lower case \n",
        " 5. Try to capitalize the whole string \n",
        " 6. Write a diference between isalnum() and isalpha()\n",
        " 7. Try to give an example of expand tab\n",
        " 8. Give an example of strip , lstrip and rstrip \n",
        " 9. Replace a string charecter by another charector by taking your own example \n",
        "\"sudhanshu\"\n",
        " 10. Try  to give a defination of string center function with and exmple \n",
        " 11. Write your own definition of compiler and interpretor without copy paste form internet in your own language\n",
        " 12. Python is a interpreted of compiled language give a clear ans with your understanding \n",
        " 13. Try to write a usecase of python with your understanding .\n",
        "\n",
        "\n",
        "you have to send a jupyter notebook to shivan@ineuron.ai before next saturday class 21st of may . "
      ],
      "metadata": {
        "id": "plBLNEkbuBD1"
      }
    },
    {
      "cell_type": "markdown",
      "source": [
        "1 . Try to extract data from index one to index 300 with a jump of 3"
      ],
      "metadata": {
        "id": "C0k9fUtlw0tt"
      }
    },
    {
      "cell_type": "code",
      "source": [
        "s = \"this is My First Python programming class and i am learNING python string and its function\""
      ],
      "metadata": {
        "id": "zY4RejwKuAia"
      },
      "execution_count": 1,
      "outputs": []
    },
    {
      "cell_type": "code",
      "execution_count": 2,
      "metadata": {
        "colab": {
          "base_uri": "https://localhost:8080/",
          "height": 35
        },
        "id": "CUE-T1tut_Mz",
        "outputId": "b69528b1-9dde-4009-c915-33e660e7a219"
      },
      "outputs": [
        {
          "output_type": "execute_result",
          "data": {
            "text/plain": [
              "'h   r tnrrmglsnimeNGyosi dtfco'"
            ],
            "application/vnd.google.colaboratory.intrinsic+json": {
              "type": "string"
            }
          },
          "metadata": {},
          "execution_count": 2
        }
      ],
      "source": [
        "s[1:300:3]"
      ]
    },
    {
      "cell_type": "markdown",
      "source": [
        "2. Try to reverse a string without using reverse function "
      ],
      "metadata": {
        "id": "bOX6ACtpw5kM"
      }
    },
    {
      "cell_type": "code",
      "source": [
        "s[300:0:-1] + s[0]"
      ],
      "metadata": {
        "colab": {
          "base_uri": "https://localhost:8080/",
          "height": 35
        },
        "id": "XrZcWnOOvtV6",
        "outputId": "5e5d5ba3-ba70-46f0-8a8a-4a53ec287470"
      },
      "execution_count": 7,
      "outputs": [
        {
          "output_type": "execute_result",
          "data": {
            "text/plain": [
              "'noitcnuf sti dna gnirts nohtyp GNINrael ma i dna ssalc gnimmargorp nohtyP tsriF yM si siht'"
            ],
            "application/vnd.google.colaboratory.intrinsic+json": {
              "type": "string"
            }
          },
          "metadata": {},
          "execution_count": 7
        }
      ]
    },
    {
      "cell_type": "markdown",
      "source": [
        "3. Try to split a string after conversion of entire string in uppercase"
      ],
      "metadata": {
        "id": "hHmxznrgxYKO"
      }
    },
    {
      "cell_type": "code",
      "source": [
        "S = s.upper()"
      ],
      "metadata": {
        "id": "ABzf8lczzh6q"
      },
      "execution_count": 12,
      "outputs": []
    },
    {
      "cell_type": "code",
      "source": [
        "S.split(' ')"
      ],
      "metadata": {
        "colab": {
          "base_uri": "https://localhost:8080/"
        },
        "id": "4gRHC_JcxKU0",
        "outputId": "55770723-22ba-49fd-dd80-52f7b106b513"
      },
      "execution_count": 13,
      "outputs": [
        {
          "output_type": "execute_result",
          "data": {
            "text/plain": [
              "['THIS',\n",
              " 'IS',\n",
              " 'MY',\n",
              " 'FIRST',\n",
              " 'PYTHON',\n",
              " 'PROGRAMMING',\n",
              " 'CLASS',\n",
              " 'AND',\n",
              " 'I',\n",
              " 'AM',\n",
              " 'LEARNING',\n",
              " 'PYTHON',\n",
              " 'STRING',\n",
              " 'AND',\n",
              " 'ITS',\n",
              " 'FUNCTION']"
            ]
          },
          "metadata": {},
          "execution_count": 13
        }
      ]
    },
    {
      "cell_type": "markdown",
      "source": [
        "4. try to convert the whole string into lower case\n",
        "\n"
      ],
      "metadata": {
        "id": "KTFX_P4e0VJC"
      }
    },
    {
      "cell_type": "code",
      "source": [
        "S.lower()"
      ],
      "metadata": {
        "colab": {
          "base_uri": "https://localhost:8080/",
          "height": 35
        },
        "id": "n9J92S98zdQ3",
        "outputId": "57fa478c-784e-421d-ece9-d52d40865e69"
      },
      "execution_count": 14,
      "outputs": [
        {
          "output_type": "execute_result",
          "data": {
            "text/plain": [
              "'this is my first python programming class and i am learning python string and its function'"
            ],
            "application/vnd.google.colaboratory.intrinsic+json": {
              "type": "string"
            }
          },
          "metadata": {},
          "execution_count": 14
        }
      ]
    },
    {
      "cell_type": "markdown",
      "source": [
        "5 . Try to capitalize the whole string "
      ],
      "metadata": {
        "id": "ZUvDRL0X0k2u"
      }
    },
    {
      "cell_type": "code",
      "source": [
        "s.capitalize()"
      ],
      "metadata": {
        "colab": {
          "base_uri": "https://localhost:8080/",
          "height": 35
        },
        "id": "k878leFq0chZ",
        "outputId": "4977f662-3569-45bb-f88b-05e1d55ae477"
      },
      "execution_count": 15,
      "outputs": [
        {
          "output_type": "execute_result",
          "data": {
            "text/plain": [
              "'This is my first python programming class and i am learning python string and its function'"
            ],
            "application/vnd.google.colaboratory.intrinsic+json": {
              "type": "string"
            }
          },
          "metadata": {},
          "execution_count": 15
        }
      ]
    },
    {
      "cell_type": "code",
      "source": [
        "s.title()"
      ],
      "metadata": {
        "colab": {
          "base_uri": "https://localhost:8080/",
          "height": 35
        },
        "id": "JbHqaWSl02Vv",
        "outputId": "7c29ac3d-f7f0-49fc-a3eb-3b239e80efec"
      },
      "execution_count": 16,
      "outputs": [
        {
          "output_type": "execute_result",
          "data": {
            "text/plain": [
              "'This Is My First Python Programming Class And I Am Learning Python String And Its Function'"
            ],
            "application/vnd.google.colaboratory.intrinsic+json": {
              "type": "string"
            }
          },
          "metadata": {},
          "execution_count": 16
        }
      ]
    },
    {
      "cell_type": "markdown",
      "source": [
        "6 . Write a diference between isalnum() and isalpha()"
      ],
      "metadata": {
        "id": "pNTiRtcG1P4r"
      }
    },
    {
      "cell_type": "markdown",
      "source": [
        "isalnum() returns true if the string is 'only alphabets and numbers' and false if 'only alphabets or numbers or spaces'\n",
        " isaplha() returns true if the string is 'only alphabets' and false if 'any numbers or spaces'"
      ],
      "metadata": {
        "id": "xi7usA5U1Tgo"
      }
    },
    {
      "cell_type": "markdown",
      "source": [
        "7. Try to give an example of expand tab"
      ],
      "metadata": {
        "id": "bCsf27yj3kRM"
      }
    },
    {
      "cell_type": "code",
      "source": [
        "x = '\\th \\tell \\to\\t'\n",
        "y = x.expandtabs(3)\n",
        "y"
      ],
      "metadata": {
        "colab": {
          "base_uri": "https://localhost:8080/",
          "height": 35
        },
        "id": "w-ZjzAFr3lMG",
        "outputId": "8c6728f3-3451-4a59-d4c4-ea9f02dbee47"
      },
      "execution_count": 40,
      "outputs": [
        {
          "output_type": "execute_result",
          "data": {
            "text/plain": [
              "'   h  ell   o  '"
            ],
            "application/vnd.google.colaboratory.intrinsic+json": {
              "type": "string"
            }
          },
          "metadata": {},
          "execution_count": 40
        }
      ]
    },
    {
      "cell_type": "markdown",
      "source": [
        "8 . Give an example of strip , lstrip and rstrip "
      ],
      "metadata": {
        "id": "R6EIA-GZ4wO1"
      }
    },
    {
      "cell_type": "code",
      "source": [
        "y.strip()"
      ],
      "metadata": {
        "colab": {
          "base_uri": "https://localhost:8080/",
          "height": 35
        },
        "id": "PnIDYsp84vl-",
        "outputId": "54daab0c-cccb-4f9d-cc8b-a8cabfb848af"
      },
      "execution_count": 41,
      "outputs": [
        {
          "output_type": "execute_result",
          "data": {
            "text/plain": [
              "'h  ell   o'"
            ],
            "application/vnd.google.colaboratory.intrinsic+json": {
              "type": "string"
            }
          },
          "metadata": {},
          "execution_count": 41
        }
      ]
    },
    {
      "cell_type": "code",
      "source": [
        "y.lstrip()"
      ],
      "metadata": {
        "colab": {
          "base_uri": "https://localhost:8080/",
          "height": 35
        },
        "id": "Jwos_NM14KDE",
        "outputId": "8bed7292-e90f-46da-c5c1-212dd836521c"
      },
      "execution_count": 42,
      "outputs": [
        {
          "output_type": "execute_result",
          "data": {
            "text/plain": [
              "'h  ell   o  '"
            ],
            "application/vnd.google.colaboratory.intrinsic+json": {
              "type": "string"
            }
          },
          "metadata": {},
          "execution_count": 42
        }
      ]
    },
    {
      "cell_type": "code",
      "source": [
        "y.rstrip()"
      ],
      "metadata": {
        "colab": {
          "base_uri": "https://localhost:8080/",
          "height": 35
        },
        "id": "Ho8yNx1t5mU0",
        "outputId": "68d92388-b51f-41a4-cb62-7780e94b315f"
      },
      "execution_count": 43,
      "outputs": [
        {
          "output_type": "execute_result",
          "data": {
            "text/plain": [
              "'   h  ell   o'"
            ],
            "application/vnd.google.colaboratory.intrinsic+json": {
              "type": "string"
            }
          },
          "metadata": {},
          "execution_count": 43
        }
      ]
    },
    {
      "cell_type": "markdown",
      "source": [
        "9. Replace a string charecter by another charector by taking your own example"
      ],
      "metadata": {
        "id": "DwIGyrsO6FEY"
      }
    },
    {
      "cell_type": "code",
      "source": [
        "x = 'goof'\n",
        "x=  x.replace('f','d')\n",
        "x"
      ],
      "metadata": {
        "colab": {
          "base_uri": "https://localhost:8080/",
          "height": 35
        },
        "id": "NDFmInno5paU",
        "outputId": "1cc0d77f-0dc5-46cc-e2ef-ded724e8a06e"
      },
      "execution_count": 50,
      "outputs": [
        {
          "output_type": "execute_result",
          "data": {
            "text/plain": [
              "'good'"
            ],
            "application/vnd.google.colaboratory.intrinsic+json": {
              "type": "string"
            }
          },
          "metadata": {},
          "execution_count": 50
        }
      ]
    },
    {
      "cell_type": "markdown",
      "source": [
        "10 . Try  to give a defination of string center function with and exmple"
      ],
      "metadata": {
        "id": "feMxeUuP7uvS"
      }
    },
    {
      "cell_type": "markdown",
      "source": [
        "The center() method will center align the string, using a specified character (space is default) as the fill character."
      ],
      "metadata": {
        "id": "cbFf4nhp9BOR"
      }
    },
    {
      "cell_type": "code",
      "source": [
        "s.center(100,' ')"
      ],
      "metadata": {
        "colab": {
          "base_uri": "https://localhost:8080/",
          "height": 35
        },
        "id": "p8RYPjiw6T5v",
        "outputId": "5ac1ca8c-cdd2-4246-89a8-cd2d2c4d2382"
      },
      "execution_count": 60,
      "outputs": [
        {
          "output_type": "execute_result",
          "data": {
            "text/plain": [
              "'     this is My First Python programming class and i am learNING python string and its function     '"
            ],
            "application/vnd.google.colaboratory.intrinsic+json": {
              "type": "string"
            }
          },
          "metadata": {},
          "execution_count": 60
        }
      ]
    },
    {
      "cell_type": "markdown",
      "source": [
        "11 . Write your own definition of compiler and interpretor without copy paste form internet in your own language"
      ],
      "metadata": {
        "id": "uRcdr1CC9NHG"
      }
    },
    {
      "cell_type": "markdown",
      "source": [
        "compiler works for programs by reading and converting each line to machine language and running it one line after another. It needs less memory. \n",
        " interpreter reads the whole program and then converts it to machine language"
      ],
      "metadata": {
        "id": "K80TEvmc96ig"
      }
    },
    {
      "cell_type": "markdown",
      "source": [
        "12 . Python is a interpreted of compiled language give a clear ans with your understanding "
      ],
      "metadata": {
        "id": "jbB7JLqKGKPf"
      }
    },
    {
      "cell_type": "markdown",
      "source": [
        "Python is compiled language. it runs through the lines one by one.\n"
      ],
      "metadata": {
        "id": "iQVz17Z3GL1Q"
      }
    },
    {
      "cell_type": "markdown",
      "source": [
        "13 . Try to write a usecase of python with your understanding ."
      ],
      "metadata": {
        "id": "LnCw2bziG3vm"
      }
    },
    {
      "cell_type": "markdown",
      "source": [
        "python can be used for data manipulation "
      ],
      "metadata": {
        "id": "-s6KUiFDG5eY"
      }
    },
    {
      "cell_type": "code",
      "source": [
        ""
      ],
      "metadata": {
        "id": "rjwJsx6U_bWk"
      },
      "execution_count": null,
      "outputs": []
    }
  ]
}