{
  "nbformat": 4,
  "nbformat_minor": 0,
  "metadata": {
    "colab": {
      "name": "Programming_Assignment6.ipynb",
      "provenance": [],
      "collapsed_sections": []
    },
    "kernelspec": {
      "name": "python3",
      "display_name": "Python 3"
    },
    "language_info": {
      "name": "python"
    }
  },
  "cells": [
    {
      "cell_type": "markdown",
      "source": [
        "1. Write a Python Program to Display Fibonacci Sequence Using Recursion?"
      ],
      "metadata": {
        "id": "YI3MjgTCGAMx"
      }
    },
    {
      "cell_type": "code",
      "source": [
        "print(\"COPIED COPIED  COPIED  COPIED  COPIED  COPIED\")\n",
        "num = int(input(\"Enter the number of sequence: \"))\n",
        "def fibonacci(i):\n",
        "  if i <2:\n",
        "    return i\n",
        "  else: \n",
        "    ans = fibonacci(i-1) + fibonacci(i-2)\n",
        "    return ans   \n",
        "    \n",
        "for i in range(num):\n",
        "  print(fibonacci(i))\n",
        "print(\"COPIED COPIED  COPIED  COPIED  COPIED  COPIED\")"
      ],
      "metadata": {
        "colab": {
          "base_uri": "https://localhost:8080/"
        },
        "id": "ukA3tr3nGEX9",
        "outputId": "02b2d18c-92b4-4374-aee6-a76e588aa96d"
      },
      "execution_count": 23,
      "outputs": [
        {
          "output_type": "stream",
          "name": "stdout",
          "text": [
            "COPIED COPIED  COPIED  COPIED  COPIED  COPIED\n",
            "Enter the number of sequence: 12\n",
            "0\n",
            "1\n",
            "1\n",
            "2\n",
            "3\n",
            "5\n",
            "8\n",
            "13\n",
            "21\n",
            "34\n",
            "55\n",
            "89\n",
            "COPIED COPIED  COPIED  COPIED  COPIED  COPIED\n"
          ]
        }
      ]
    },
    {
      "cell_type": "markdown",
      "source": [
        "2. Write a Python Program to Find Factorial of Number Using Recursion?"
      ],
      "metadata": {
        "id": "mFst6VpUMdjq"
      }
    },
    {
      "cell_type": "code",
      "source": [
        "num = int(input(\"Enter the number for factorial: \"))\n",
        "def factorial(x):\n",
        "  if x>1:\n",
        "    ans = x*factorial(x-1)\n",
        "    return ans\n",
        "  else:\n",
        "    ans = 1\n",
        "    return ans\n",
        "\n",
        "print(factorial(num))"
      ],
      "metadata": {
        "colab": {
          "base_uri": "https://localhost:8080/"
        },
        "id": "xB5ErQWJHRp8",
        "outputId": "4f5aea57-4c29-4d51-f8b2-f889138f42dd"
      },
      "execution_count": 31,
      "outputs": [
        {
          "output_type": "stream",
          "name": "stdout",
          "text": [
            "Enter the number for factorial: 3\n",
            "6\n"
          ]
        }
      ]
    },
    {
      "cell_type": "markdown",
      "source": [
        "3. Write a Python Program to calculate your Body Mass Index?"
      ],
      "metadata": {
        "id": "li_R0fgYMew0"
      }
    },
    {
      "cell_type": "code",
      "source": [
        "height = float(input(\"Enter your height in m: \"))\n",
        "weight = int(input(\"Enter your weight in Kg: \"))\n",
        "if (BMI<18.5):\n",
        "  result = \"underweight\"\n",
        "elif (BMI>= 18.5 and BMI<25):\n",
        "  result = \"normal weight\"\n",
        "elif (BMI>= 25 and BMI<30):\n",
        "  result = \"overweight\"\n",
        "elif (BMI>= 30):\n",
        "  result = \"overweight\"\n",
        "else:\n",
        "  result = \"try again\"\n",
        "BMI = weight/(height**2)\n",
        "print(f\"BMI is {BMI} it is classified as {result}\")\n"
      ],
      "metadata": {
        "colab": {
          "base_uri": "https://localhost:8080/"
        },
        "id": "Ev7BoyZJHRjv",
        "outputId": "e170e566-9635-41d4-fb47-d3f764cabc59"
      },
      "execution_count": 35,
      "outputs": [
        {
          "output_type": "stream",
          "name": "stdout",
          "text": [
            "Enter your height in m: 1.7\n",
            "Enter your weight in Kg: 75\n",
            "BMI is 25.95155709342561 it is classified as overweight\n"
          ]
        }
      ]
    },
    {
      "cell_type": "markdown",
      "source": [
        "4. Write a Python Program to calculate the natural logarithm of any number?"
      ],
      "metadata": {
        "id": "4JdjCaTWMimW"
      }
    },
    {
      "cell_type": "code",
      "source": [
        "import math\n",
        "num = float(input(\"Enter number: \"))\n",
        "ans = math.log(num)\n",
        "print(f\"the natural log of number {num} is {ans}\")"
      ],
      "metadata": {
        "colab": {
          "base_uri": "https://localhost:8080/"
        },
        "id": "SpBPpgeMHRfl",
        "outputId": "3f989bea-10aa-4697-94b2-ab937fda8c29"
      },
      "execution_count": 37,
      "outputs": [
        {
          "output_type": "stream",
          "name": "stdout",
          "text": [
            "Enter number: 2.72\n",
            "the natural log of number 2.72 is 1.000631880307906\n"
          ]
        }
      ]
    },
    {
      "cell_type": "markdown",
      "source": [
        "5. Write a Python Program for cube sum of first n natural numbers?"
      ],
      "metadata": {
        "id": "1JejZrmXMlyY"
      }
    },
    {
      "cell_type": "code",
      "source": [
        "n = float(input(\"Enter number: \"))\n",
        "ans = (n*(n+1)/2)**3\n",
        "print(f\"The cube sum of first {n} numbers is {ans}\")"
      ],
      "metadata": {
        "colab": {
          "base_uri": "https://localhost:8080/"
        },
        "id": "sngFqtJKMmTR",
        "outputId": "a898c473-691b-4c48-edbb-e6042c881cfb"
      },
      "execution_count": 39,
      "outputs": [
        {
          "output_type": "stream",
          "name": "stdout",
          "text": [
            "Enter number: 3\n",
            "The cube sum of first 3.0 numbers is 216.0\n"
          ]
        }
      ]
    },
    {
      "cell_type": "code",
      "source": [
        ""
      ],
      "metadata": {
        "id": "ksNLphTgo_IK"
      },
      "execution_count": null,
      "outputs": []
    }
  ]
}