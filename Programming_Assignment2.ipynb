{
  "nbformat": 4,
  "nbformat_minor": 0,
  "metadata": {
    "colab": {
      "name": "Programming_Assignment2.ipynb",
      "provenance": [],
      "collapsed_sections": []
    },
    "kernelspec": {
      "name": "python3",
      "display_name": "Python 3"
    },
    "language_info": {
      "name": "python"
    }
  },
  "cells": [
    {
      "cell_type": "markdown",
      "source": [
        "1. Write a Python program to convert kilometers to miles?"
      ],
      "metadata": {
        "id": "oe5OFJ0xj8oi"
      }
    },
    {
      "cell_type": "code",
      "execution_count": null,
      "metadata": {
        "colab": {
          "base_uri": "https://localhost:8080/"
        },
        "id": "O9ljoKTXj7UM",
        "outputId": "b5248b9d-7fea-4633-b87c-47d74ed5f084"
      },
      "outputs": [
        {
          "output_type": "stream",
          "name": "stdout",
          "text": [
            "Enter the kilometers: 160\n",
            "the value in miles in 100.0\n"
          ]
        }
      ],
      "source": [
        "Km = int(input(\"Enter the kilometers: \"))\n",
        "m = Km/1.6\n",
        "\n",
        "print(f'the value in miles is {m}')"
      ]
    },
    {
      "cell_type": "markdown",
      "source": [
        "2. Write a Python program to convert Celsius to Fahrenheit?"
      ],
      "metadata": {
        "id": "q3mXHQpHkhN-"
      }
    },
    {
      "cell_type": "code",
      "source": [
        "cel = int(input(\"Enter the celcius value: \"))\n",
        "faren = (cel)*9/5 + 32\n",
        "print(f'the value in farenheit is {faren}')"
      ],
      "metadata": {
        "colab": {
          "base_uri": "https://localhost:8080/"
        },
        "id": "L4SptROLkM6Y",
        "outputId": "3461e869-7f53-4b37-b3d3-a0956b38bfae"
      },
      "execution_count": null,
      "outputs": [
        {
          "output_type": "stream",
          "name": "stdout",
          "text": [
            "Enter the celcius value: -40\n",
            "the value in farenheit is -40.0\n"
          ]
        }
      ]
    },
    {
      "cell_type": "markdown",
      "source": [
        "3. Write a Python program to display calendar?"
      ],
      "metadata": {
        "id": "BKUgmMmzrGVI"
      }
    },
    {
      "cell_type": "code",
      "source": [
        "import calendar\n",
        "year = int(input(\"Enter the year: \"))\n",
        "month = int(input(\"Enter the month number: \"))\n",
        "\n",
        "print(calendar.month(year, month))"
      ],
      "metadata": {
        "colab": {
          "base_uri": "https://localhost:8080/"
        },
        "id": "YO0aGNKirWax",
        "outputId": "2e33b69b-b6e7-4f93-dcd5-3c748b7eeb0e"
      },
      "execution_count": null,
      "outputs": [
        {
          "output_type": "stream",
          "name": "stdout",
          "text": [
            "Enter the year: 2022\n",
            "Enter the month number: 5\n",
            "      May 2022\n",
            "Mo Tu We Th Fr Sa Su\n",
            "                   1\n",
            " 2  3  4  5  6  7  8\n",
            " 9 10 11 12 13 14 15\n",
            "16 17 18 19 20 21 22\n",
            "23 24 25 26 27 28 29\n",
            "30 31\n",
            "\n"
          ]
        }
      ]
    },
    {
      "cell_type": "markdown",
      "source": [
        "4. Write a Python program to solve quadratic equation?"
      ],
      "metadata": {
        "id": "KqduZNkfryuf"
      }
    },
    {
      "cell_type": "code",
      "source": [
        "import math\n",
        "print('The equation is of the form ax^2 + bx + c = 0')\n",
        "a = int(input(\"Enter the a: \"))\n",
        "b = int(input(\"Enter the b: \"))\n",
        "c = int(input(\"Enter the c: \"))\n",
        "try:\n",
        "  ans1 = (-1*b + math.sqrt(b**2 - 4*a*c))/2*a\n",
        "  ans2 = (-1*b - math.sqrt(b**2 - 4*a*c))/2*a\n",
        "except:\n",
        "  print(\"Try again\")\n",
        "print(f'the value of x is {ans1} or {ans2}')\n"
      ],
      "metadata": {
        "colab": {
          "base_uri": "https://localhost:8080/"
        },
        "id": "KbVkwTWJrzrF",
        "outputId": "0895e484-8c28-408d-de07-60614ce4589e"
      },
      "execution_count": 5,
      "outputs": [
        {
          "output_type": "stream",
          "name": "stdout",
          "text": [
            "The equation is of the form ax^2 + bx + c = 0\n",
            "Enter the a: 2\n",
            "Enter the b: 4\n",
            "Enter the c: 1\n",
            "the value of x is -1.1715728752538097 or -6.82842712474619\n"
          ]
        }
      ]
    },
    {
      "cell_type": "markdown",
      "source": [
        "5. Write a Python program to swap two variables without temp variable?"
      ],
      "metadata": {
        "id": "owcW-G9gzdeY"
      }
    },
    {
      "cell_type": "code",
      "source": [
        "a = int(input(\"Enter the integer a: \"))\n",
        "b = int(input(\"Enter the integer b: \"))\n",
        "print( f\"the original values are {a} and {b}\")\n",
        "a,b = b,a\n",
        "print( f\"the swapped values are {a} and {b}\")"
      ],
      "metadata": {
        "id": "tKzvUUBTrznT",
        "colab": {
          "base_uri": "https://localhost:8080/"
        },
        "outputId": "4f7b43b4-a05c-4576-c3ae-e6c23d170df8"
      },
      "execution_count": 7,
      "outputs": [
        {
          "output_type": "stream",
          "name": "stdout",
          "text": [
            "Enter the integer a: 23\n",
            "Enter the integer b: 12\n",
            "the original values are 23 and 12\n",
            "the swapped values are 12 and 23\n"
          ]
        }
      ]
    },
    {
      "cell_type": "code",
      "source": [
        ""
      ],
      "metadata": {
        "id": "MRa1XwYtk2OP"
      },
      "execution_count": null,
      "outputs": []
    }
  ]
}