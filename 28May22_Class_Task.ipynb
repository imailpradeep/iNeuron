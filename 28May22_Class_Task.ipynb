{
  "nbformat": 4,
  "nbformat_minor": 0,
  "metadata": {
    "colab": {
      "name": "28May22_Class_Task.ipynb",
      "provenance": [],
      "collapsed_sections": []
    },
    "kernelspec": {
      "name": "python3",
      "display_name": "Python 3"
    },
    "language_info": {
      "name": "python"
    }
  },
  "cells": [
    {
      "cell_type": "code",
      "source": [
        "q1 :\n",
        "ineruon \n",
        "ineruon ineruon \n",
        "ineruon ineruon ineruon\n",
        "ineruon ineruon ineruon ineruon\n",
        "\n",
        "q2 - \n",
        "\n",
        "          ineruon\n",
        "    ineruon      ineruon\n",
        "ineruon\t\tineruon \tineruon\n",
        "\tineruon\t\t ineruon\n",
        "\t\t  ineruon\n",
        "\n",
        "l = [[1,2,3,4] , (2,3,4,5,6) , (3,4,5,6,7) , set([23,4,5,45,4,4,5,45,45,4,5]) , {'k1' :\"sudh\" , \"k2\" : \"ineuron\",\"k3\":\n",
        "            \"kumar\" , 3:6 , 7:8} , [\"ineuron\" , \"data science \"]]\n",
        "\n",
        "q3 : Try to extract all the list entity \n",
        "q4 : Try to extract all the dict enteties\n",
        "q5 : Try to extract all the tuples entities\n",
        "q6 : Try to extract all the numerical data it may b a part of dict key and values \n",
        "q7 : Try to give summation of all the numeric data \n",
        "q8 : Try to filter out all the odd values out all numeric data which is a part of a list \n",
        "q9 : Try to extract \"ineruon\" out of thi  s data\n",
        "q10 :Try to find out a number of occurances of all the data \n",
        "q11 : Try to find out number of keys in dict element\n",
        "q12 : Try to filter out all the string data \n",
        "****q13 : Try to Find  out alphanum in data\n",
        "q14 : Try to find out multiplication of all numeric value in  the individual collection inside dataset \n",
        "q15 : Try to unwrape all the collection inside collection and create a flat list "
      ],
      "metadata": {
        "id": "CUG8Ji5bbPZn"
      },
      "execution_count": null,
      "outputs": []
    },
    {
      "cell_type": "code",
      "source": [
        "for i in range(5):\n",
        "  if i == 4:\n",
        "    i = 3\n",
        "  for j in range(i):\n",
        "    print(\"ineuron\", end = \" \")\n",
        "  print()"
      ],
      "metadata": {
        "colab": {
          "base_uri": "https://localhost:8080/"
        },
        "id": "eaxYjQS6tA4v",
        "outputId": "803de65c-4744-4699-e258-1db8677cafa9"
      },
      "execution_count": 26,
      "outputs": [
        {
          "output_type": "stream",
          "name": "stdout",
          "text": [
            "\n",
            "ineuron \n",
            "ineuron ineuron \n",
            "ineuron ineuron ineuron \n",
            "ineuron ineuron ineuron \n"
          ]
        }
      ]
    },
    {
      "cell_type": "code",
      "source": [
        ""
      ],
      "metadata": {
        "id": "Qt6DbNpstDFh"
      },
      "execution_count": null,
      "outputs": []
    },
    {
      "cell_type": "code",
      "source": [
        "l = [[1,2,3,4] , (2,3,4,5,6) , (3,4,5,6,7) , set([23,4,5,45,4,4,5,45,45,4,5]) , {'k1' :\"sudh\" , \"k2\" : \"ineuron\",\"k3\":\n",
        "            \"kumar\" , 3:6 , 7:8} , [\"ineuron\" , \"data science \"]]"
      ],
      "metadata": {
        "id": "PcjEBxDCbPJo"
      },
      "execution_count": 14,
      "outputs": []
    },
    {
      "cell_type": "code",
      "source": [
        "for ele in l:\n",
        "  if type(ele) == list:\n",
        "    print(ele)"
      ],
      "metadata": {
        "colab": {
          "base_uri": "https://localhost:8080/"
        },
        "id": "C9rVmg0YbPDg",
        "outputId": "3fe31b47-bc47-4290-e969-791c6ac53398"
      },
      "execution_count": 2,
      "outputs": [
        {
          "output_type": "stream",
          "name": "stdout",
          "text": [
            "[1, 2, 3, 4]\n",
            "['ineuron', 'data science ']\n"
          ]
        }
      ]
    },
    {
      "cell_type": "code",
      "source": [
        "for ele in l:\n",
        "  if type(ele) == dict:\n",
        "    print(ele)"
      ],
      "metadata": {
        "colab": {
          "base_uri": "https://localhost:8080/"
        },
        "id": "6XaJa-ZgbO8s",
        "outputId": "3c4316f3-883d-4e22-d314-c2ad7c78572a"
      },
      "execution_count": 3,
      "outputs": [
        {
          "output_type": "stream",
          "name": "stdout",
          "text": [
            "{'k1': 'sudh', 'k2': 'ineuron', 'k3': 'kumar', 3: 6, 7: 8}\n"
          ]
        }
      ]
    },
    {
      "cell_type": "code",
      "source": [
        "for ele in l:\n",
        "  if type(ele) == tuple:\n",
        "    print(ele)"
      ],
      "metadata": {
        "colab": {
          "base_uri": "https://localhost:8080/"
        },
        "id": "GWga9-9sb7qJ",
        "outputId": "d1b9c889-ee27-49d6-c7ad-f1f6e499b915"
      },
      "execution_count": 4,
      "outputs": [
        {
          "output_type": "stream",
          "name": "stdout",
          "text": [
            "(2, 3, 4, 5, 6)\n",
            "(3, 4, 5, 6, 7)\n"
          ]
        }
      ]
    },
    {
      "cell_type": "code",
      "source": [
        "for i in l :\n",
        "    if type(i) == list or type(i) == tuple or type(i) == set :\n",
        "        for j in i :\n",
        "            if type(j) == int or type(j) == float:\n",
        "                print(j)\n",
        "    if type(i) == dict :\n",
        "        for k,v  in i.items():\n",
        "            if type(k) == int or type(k) == float:\n",
        "                print(k)\n",
        "            if type(v) == int or type(v) == float:\n",
        "                print(v)"
      ],
      "metadata": {
        "colab": {
          "base_uri": "https://localhost:8080/"
        },
        "id": "H8yZAPbUb7mS",
        "outputId": "74ef3c38-adb9-4eee-bb42-aaf721ea50d4"
      },
      "execution_count": 7,
      "outputs": [
        {
          "output_type": "stream",
          "name": "stdout",
          "text": [
            "1\n",
            "2\n",
            "3\n",
            "4\n",
            "2\n",
            "3\n",
            "4\n",
            "5\n",
            "6\n",
            "3\n",
            "4\n",
            "5\n",
            "6\n",
            "7\n",
            "45\n",
            "4\n",
            "5\n",
            "23\n",
            "3\n",
            "6\n",
            "7\n",
            "8\n"
          ]
        }
      ]
    },
    {
      "cell_type": "code",
      "source": [
        "sum = 0\n",
        "for i in l :\n",
        "    if type(i) == list or type(i) == tuple or type(i) == set :\n",
        "        for j in i :\n",
        "            if type(j) == int or type(j) == float:\n",
        "                sum += j\n",
        "    if type(i) == dict :\n",
        "        for k,v  in i.items():\n",
        "            if type(k) == int or type(k) == float:\n",
        "                sum += k\n",
        "            if type(v) == int or type(v) == float:\n",
        "                sum += v\n",
        "print(sum)"
      ],
      "metadata": {
        "colab": {
          "base_uri": "https://localhost:8080/"
        },
        "id": "5peX8JTgb7i8",
        "outputId": "79b30cae-8f4f-4302-9461-fbdfb1b9b084"
      },
      "execution_count": 9,
      "outputs": [
        {
          "output_type": "stream",
          "name": "stdout",
          "text": [
            "156\n"
          ]
        }
      ]
    },
    {
      "cell_type": "code",
      "source": [
        "for i in l :\n",
        "    if type(i) == list :\n",
        "        for j in i :\n",
        "            if (type(j) == int or type(j) == float) and j%2 != 0:\n",
        "                print(j)"
      ],
      "metadata": {
        "colab": {
          "base_uri": "https://localhost:8080/"
        },
        "id": "R4QmBGRmb7fh",
        "outputId": "9a807012-f784-4b2c-8ff7-ca858efc99d7"
      },
      "execution_count": 11,
      "outputs": [
        {
          "output_type": "stream",
          "name": "stdout",
          "text": [
            "1\n",
            "3\n"
          ]
        }
      ]
    },
    {
      "cell_type": "code",
      "source": [
        "for i in l :\n",
        "    if type(i) == list or type(i) == tuple or type(i) == set :\n",
        "        for j in i :\n",
        "            if j == \"ineuron\":\n",
        "                print(j)\n",
        "    if type(i) == dict :\n",
        "        for k,v  in i.items():\n",
        "            if k == \"ineuron\":\n",
        "                print(k)\n",
        "            if v == \"ineuron\":\n",
        "                print(v)"
      ],
      "metadata": {
        "colab": {
          "base_uri": "https://localhost:8080/"
        },
        "id": "Cl_d9S7bjKzI",
        "outputId": "e5e6e310-98fc-416c-d1c1-863ec59b17d0"
      },
      "execution_count": 12,
      "outputs": [
        {
          "output_type": "stream",
          "name": "stdout",
          "text": [
            "ineuron\n",
            "ineuron\n"
          ]
        }
      ]
    },
    {
      "cell_type": "code",
      "source": [
        "elements = []\n",
        "for i in l :\n",
        "    if type(i) == list or type(i) == tuple or type(i) == set :\n",
        "        for j in i :\n",
        "            elements.append(j)\n",
        "    if type(i) == dict :\n",
        "        for k,v  in i.items():\n",
        "            elements.append(k)\n",
        "            elements.append(v)\n",
        "set_ele = set(elements)\n",
        "for ele in set_ele:\n",
        "  print(f\"The count of {ele} is {elements.count(ele)}\")"
      ],
      "metadata": {
        "colab": {
          "base_uri": "https://localhost:8080/"
        },
        "id": "db4C_sR4jKuC",
        "outputId": "f1299f2d-be69-46d7-f398-40ab52bcf542"
      },
      "execution_count": 17,
      "outputs": [
        {
          "output_type": "stream",
          "name": "stdout",
          "text": [
            "[1, 2, 3, 4, 2, 3, 4, 5, 6, 3, 4, 5, 6, 7, 45, 4, 5, 23, 'k1', 'sudh', 'k2', 'ineuron', 'k3', 'kumar', 3, 6, 7, 8, 'ineuron', 'data science ']\n",
            "The count of k2 is 1\n",
            "The count of 1 is 1\n",
            "The count of 2 is 2\n",
            "The count of 3 is 4\n",
            "The count of 4 is 4\n",
            "The count of 5 is 3\n",
            "The count of 6 is 3\n",
            "The count of 7 is 2\n",
            "The count of k3 is 1\n",
            "The count of 8 is 1\n",
            "The count of 45 is 1\n",
            "The count of k1 is 1\n",
            "The count of data science  is 1\n",
            "The count of ineuron is 2\n",
            "The count of 23 is 1\n",
            "The count of sudh is 1\n",
            "The count of kumar is 1\n"
          ]
        }
      ]
    },
    {
      "cell_type": "code",
      "source": [
        "count = 0\n",
        "for i in l :\n",
        "    if type(i) == dict :\n",
        "      for k  in i.items():\n",
        "        count += 1\n",
        "print(count)"
      ],
      "metadata": {
        "colab": {
          "base_uri": "https://localhost:8080/"
        },
        "id": "Z2sZKMhSojIv",
        "outputId": "22bd48e5-e2f2-4cca-b4ca-72475d6a0b6c"
      },
      "execution_count": 19,
      "outputs": [
        {
          "output_type": "stream",
          "name": "stdout",
          "text": [
            "5\n"
          ]
        }
      ]
    },
    {
      "cell_type": "code",
      "source": [
        "for i in l :\n",
        "    if type(i) == list or type(i) == tuple or type(i) == set :\n",
        "        for j in i :\n",
        "            if type(j) == str :\n",
        "                print(j)\n",
        "    if type(i) == dict :\n",
        "        for k,v  in i.items():\n",
        "            if type(k) == str:\n",
        "                print(k)\n",
        "            if type(v) == str:\n",
        "                print(v)"
      ],
      "metadata": {
        "colab": {
          "base_uri": "https://localhost:8080/"
        },
        "id": "lqIlapzKojFF",
        "outputId": "ef071c2c-f470-4885-8c94-7a639c237a41"
      },
      "execution_count": 20,
      "outputs": [
        {
          "output_type": "stream",
          "name": "stdout",
          "text": [
            "k1\n",
            "sudh\n",
            "k2\n",
            "ineuron\n",
            "k3\n",
            "kumar\n",
            "ineuron\n",
            "data science \n"
          ]
        }
      ]
    },
    {
      "cell_type": "code",
      "source": [
        "for i in l :\n",
        "    if type(i) == list or type(i) == tuple or type(i) == set :\n",
        "        for j in i :\n",
        "            if type(j) == str :\n",
        "              if j.isalnum():\n",
        "                print(j)\n",
        "    if type(i) == dict :\n",
        "        for k,v  in i.items():\n",
        "            if type(k) == str :\n",
        "              if k.isalnum():\n",
        "                print(k)\n",
        "            if type(v) == str:\n",
        "              if v.isalnum():\n",
        "                print(v)"
      ],
      "metadata": {
        "colab": {
          "base_uri": "https://localhost:8080/"
        },
        "id": "usyFTyxCojAj",
        "outputId": "aa84ce27-f723-407d-eafa-54a2482c10d2"
      },
      "execution_count": 23,
      "outputs": [
        {
          "output_type": "stream",
          "name": "stdout",
          "text": [
            "k1\n",
            "sudh\n",
            "k2\n",
            "ineuron\n",
            "k3\n",
            "kumar\n",
            "ineuron\n"
          ]
        }
      ]
    },
    {
      "cell_type": "code",
      "source": [
        "ans = 1\n",
        "for i in l :\n",
        "    if type(i) == list or type(i) == tuple or type(i) == set :\n",
        "        for j in i :\n",
        "            if type(j) == int or type(j) == float:\n",
        "                ans *= j\n",
        "    if type(i) == dict :\n",
        "        for k,v  in i.items():\n",
        "            if type(k) == int or type(k) == float:\n",
        "                ans *= k\n",
        "            if type(v) == int or type(v) == float:\n",
        "                ans *= v\n",
        "print(ans)"
      ],
      "metadata": {
        "colab": {
          "base_uri": "https://localhost:8080/"
        },
        "id": "uaE7crXhjKqX",
        "outputId": "7d806cca-7c3c-47d8-a2b5-cfc591840bd8"
      },
      "execution_count": 25,
      "outputs": [
        {
          "output_type": "stream",
          "name": "stdout",
          "text": [
            "908605071360000\n"
          ]
        }
      ]
    },
    {
      "cell_type": "code",
      "source": [
        "elements = []\n",
        "for i in l :\n",
        "    if type(i) == list or type(i) == tuple or type(i) == set :\n",
        "        for j in i :\n",
        "            elements.append(j)\n",
        "    if type(i) == dict :\n",
        "        for k,v  in i.items():\n",
        "            elements.append(k)\n",
        "            elements.append(v)\n",
        "print(elements)"
      ],
      "metadata": {
        "colab": {
          "base_uri": "https://localhost:8080/"
        },
        "id": "YYibB5cvb7b3",
        "outputId": "af0c95b9-45d4-405c-9569-454609faa7c0"
      },
      "execution_count": 24,
      "outputs": [
        {
          "output_type": "stream",
          "name": "stdout",
          "text": [
            "[1, 2, 3, 4, 2, 3, 4, 5, 6, 3, 4, 5, 6, 7, 45, 4, 5, 23, 'k1', 'sudh', 'k2', 'ineuron', 'k3', 'kumar', 3, 6, 7, 8, 'ineuron', 'data science ']\n"
          ]
        }
      ]
    },
    {
      "cell_type": "code",
      "execution_count": null,
      "metadata": {
        "id": "HJz427LfbNL-"
      },
      "outputs": [],
      "source": [
        ""
      ]
    }
  ]
}