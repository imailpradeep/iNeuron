{
  "nbformat": 4,
  "nbformat_minor": 0,
  "metadata": {
    "colab": {
      "name": "Assignment4.ipynb",
      "provenance": []
    },
    "kernelspec": {
      "name": "python3",
      "display_name": "Python 3"
    },
    "language_info": {
      "name": "python"
    }
  },
  "cells": [
    {
      "cell_type": "markdown",
      "source": [
        "1. What exactly is []?"
      ],
      "metadata": {
        "id": "59ZlwyF0NuhU"
      }
    },
    {
      "cell_type": "markdown",
      "source": [
        "empty list"
      ],
      "metadata": {
        "id": "YoJ0XEkaNwbK"
      }
    },
    {
      "cell_type": "markdown",
      "source": [
        "2. In a list of values stored in a variable called spam, how would you assign the value &#39;hello&#39; as the\n",
        "third value? (Assume [2, 4, 6, 8, 10] are in spam.)"
      ],
      "metadata": {
        "id": "0Gvjb2h0N78l"
      }
    },
    {
      "cell_type": "code",
      "source": [
        "spam = [2, 4, 6, 8, 10]\n",
        "spam[2] = \"hello\""
      ],
      "metadata": {
        "id": "BbYtr3mfN1hr"
      },
      "execution_count": 3,
      "outputs": []
    },
    {
      "cell_type": "code",
      "source": [
        "spam = ['a', 'b', 'c','d']"
      ],
      "metadata": {
        "id": "uwuv87MvOHpP"
      },
      "execution_count": 6,
      "outputs": []
    },
    {
      "cell_type": "markdown",
      "source": [
        "3. What is the value of spam[int(int(&#39;3&#39; * 2) / 11)]?"
      ],
      "metadata": {
        "id": "3xCtPq1pOaHf"
      }
    },
    {
      "cell_type": "markdown",
      "source": [
        "'d'"
      ],
      "metadata": {
        "id": "fB0YnmcIOkT2"
      }
    },
    {
      "cell_type": "markdown",
      "source": [
        "4. What is the value of spam[-1]?"
      ],
      "metadata": {
        "id": "GjjmuYlSOpvj"
      }
    },
    {
      "cell_type": "markdown",
      "source": [
        "'d'"
      ],
      "metadata": {
        "id": "9xSO6yfVOq7u"
      }
    },
    {
      "cell_type": "markdown",
      "source": [
        "5. What is the value of spam[:2]?"
      ],
      "metadata": {
        "id": "O7V67V9VO4o5"
      }
    },
    {
      "cell_type": "markdown",
      "source": [
        "['a', 'b']"
      ],
      "metadata": {
        "id": "eBFtrtx3O8Di"
      }
    },
    {
      "cell_type": "code",
      "source": [
        "bacon = [3.14, 'cat', 11, 'cat', True]"
      ],
      "metadata": {
        "id": "t9tEZdy6OTrd"
      },
      "execution_count": 12,
      "outputs": []
    },
    {
      "cell_type": "markdown",
      "source": [
        "6. What is the value of bacon.index('cat')?"
      ],
      "metadata": {
        "id": "_t_QSLrKPNxy"
      }
    },
    {
      "cell_type": "markdown",
      "source": [
        "1"
      ],
      "metadata": {
        "id": "cCN1ZYiTPby4"
      }
    },
    {
      "cell_type": "markdown",
      "source": [
        "7. How does bacon.append(99) change the look of the list value in bacon?"
      ],
      "metadata": {
        "id": "pnNFYwhEPft3"
      }
    },
    {
      "cell_type": "markdown",
      "source": [
        "[3.14, 'cat', 11, 'cat', True, 99]"
      ],
      "metadata": {
        "id": "u5QsMcZaPndT"
      }
    },
    {
      "cell_type": "markdown",
      "source": [
        "8. How does bacon.remove(&#39;cat&#39;) change the look of the list in bacon?"
      ],
      "metadata": {
        "id": "xrljaD3oPqDA"
      }
    },
    {
      "cell_type": "markdown",
      "source": [
        "[3.14, 11, 'cat', True, 99]"
      ],
      "metadata": {
        "id": "ZmBr_VKKPwlR"
      }
    },
    {
      "cell_type": "markdown",
      "source": [
        "9. What are the list concatenation and list replication operators?"
      ],
      "metadata": {
        "id": "RBWzVFzrP4At"
      }
    },
    {
      "cell_type": "markdown",
      "source": [
        "list concatenation operator join lists <br>\n",
        "list1 + list2 <br>\n",
        "<br>\n",
        "list replication operator\n",
        "list1*3\n"
      ],
      "metadata": {
        "id": "ujhBaY2FP55a"
      }
    },
    {
      "cell_type": "markdown",
      "source": [
        "10. What is difference between the list methods append() and insert()?"
      ],
      "metadata": {
        "id": "WsDtDWihRvvA"
      }
    },
    {
      "cell_type": "markdown",
      "source": [
        "list.append() adds to the end of the list <br>\n",
        "list.insert( position, element) inserts the element in to the given position"
      ],
      "metadata": {
        "id": "iWw9o-RuRyam"
      }
    },
    {
      "cell_type": "markdown",
      "source": [
        "11. What are the two methods for removing items from a list?"
      ],
      "metadata": {
        "id": "4ioDsh5BSSX1"
      }
    },
    {
      "cell_type": "markdown",
      "source": [
        "list.pop() removes and returns the last element<br>\n",
        "list.remove(element) removes the mentioned element from the list"
      ],
      "metadata": {
        "id": "r9IfqdQUSTcb"
      }
    },
    {
      "cell_type": "markdown",
      "source": [
        "12. Describe how list values and string values are identical."
      ],
      "metadata": {
        "id": "Dsl27CMzSmcd"
      }
    },
    {
      "cell_type": "markdown",
      "source": [
        "list is a mutable sequence of elements of various types. string is an immutable sequence of characters <br>\n",
        "list[index] => string[index] <br>\n",
        "list[::-1] => string[::-1] <br>\n",
        "list[:2] => string[:2] <br>"
      ],
      "metadata": {
        "id": "5fAb3YxqSzvx"
      }
    },
    {
      "cell_type": "markdown",
      "source": [
        "13. What is the difference between tuples and lists?"
      ],
      "metadata": {
        "id": "Z1ro4ij3VaOn"
      }
    },
    {
      "cell_type": "markdown",
      "source": [
        "tuples are immutable tupple() <br>\n",
        "lists are mutable list[]"
      ],
      "metadata": {
        "id": "z9KEEfvpVe5b"
      }
    },
    {
      "cell_type": "markdown",
      "source": [
        "14. How do you type a tuple value that only contains the integer 42?"
      ],
      "metadata": {
        "id": "s5C9zFkXVqms"
      }
    },
    {
      "cell_type": "markdown",
      "source": [
        "tup = (45,)\n"
      ],
      "metadata": {
        "id": "C06BmTH1V9mu"
      }
    },
    {
      "cell_type": "markdown",
      "source": [
        "15. How do you get a list value&#39;s tuple form? How do you get a tuple value&#39;s list form?"
      ],
      "metadata": {
        "id": "0YnUGy3zWhdW"
      }
    },
    {
      "cell_type": "markdown",
      "source": [
        "list(tuple_name) <br>\n",
        "tuple(list_name)"
      ],
      "metadata": {
        "id": "EjhWWTDVXAff"
      }
    },
    {
      "cell_type": "markdown",
      "source": [
        "16. Variables that &quot;contain&quot; list values are not necessarily lists themselves. Instead, what do they\n",
        "contain?"
      ],
      "metadata": {
        "id": "9zFmAaONXP9F"
      }
    },
    {
      "cell_type": "markdown",
      "source": [
        "iterable or indices"
      ],
      "metadata": {
        "id": "UheApUQjXUW0"
      }
    },
    {
      "cell_type": "markdown",
      "source": [
        "17. How do you distinguish between copy.copy() and copy.deepcopy()?"
      ],
      "metadata": {
        "id": "576F0GWybUqU"
      }
    },
    {
      "cell_type": "markdown",
      "source": [
        "The difference between shallow and deep copying is only relevant for compound objects (objects that contain other objects, like lists or class instances):\n",
        "\n",
        "A shallow copy constructs a new compound object and then (to the extent possible) inserts references into it to the objects found in the original.\n",
        "\n",
        "A deep copy constructs a new compound object and then, recursively, inserts copies into it of the objects found in the original.\n",
        "<br>\n",
        "https://stackoverflow.com/questions/17246693/what-is-the-difference-between-shallow-copy-deepcopy-and-normal-assignment-oper/17246744#17246744"
      ],
      "metadata": {
        "id": "tnD9jv3Eik-f"
      }
    },
    {
      "cell_type": "code",
      "source": [
        ""
      ],
      "metadata": {
        "id": "NjeqU06Hg2Eq"
      },
      "execution_count": null,
      "outputs": []
    }
  ]
}