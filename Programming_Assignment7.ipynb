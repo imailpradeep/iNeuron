{
  "nbformat": 4,
  "nbformat_minor": 0,
  "metadata": {
    "colab": {
      "name": "Programming_Assignment7.ipynb",
      "provenance": [],
      "collapsed_sections": []
    },
    "kernelspec": {
      "name": "python3",
      "display_name": "Python 3"
    },
    "language_info": {
      "name": "python"
    }
  },
  "cells": [
    {
      "cell_type": "markdown",
      "source": [
        "1. Write a Python Program to find sum of array?"
      ],
      "metadata": {
        "id": "g41kcoVSpoIK"
      }
    },
    {
      "cell_type": "code",
      "source": [
        "rows = int(input(\"Enter the number of rows in array: \"))\n",
        "cols = int(input(\"Enter the number of columns in array: \"))\n",
        "\n",
        "sum = 0\n",
        "\n",
        "for i in range(rows):\n",
        "  for j in range(cols): \n",
        "    element = int(input(\"Enter the elements row-wise: \"))\n",
        "    sum += element\n",
        "\n",
        "print(f\"The sum of elements in the array in {sum}\")"
      ],
      "metadata": {
        "colab": {
          "base_uri": "https://localhost:8080/"
        },
        "id": "u36ACusGpj8w",
        "outputId": "19c89726-4df3-4bb9-c322-9b79a1dfa0cc"
      },
      "execution_count": 1,
      "outputs": [
        {
          "output_type": "stream",
          "name": "stdout",
          "text": [
            "Enter the number of rows in array: 3\n",
            "Enter the number of columns in array: 3\n",
            "Enter the elements row-wise3\n",
            "Enter the elements row-wise2\n",
            "Enter the elements row-wise5\n",
            "Enter the elements row-wise4\n",
            "Enter the elements row-wise6\n",
            "Enter the elements row-wise7\n",
            "Enter the elements row-wise8\n",
            "Enter the elements row-wise1\n",
            "Enter the elements row-wise9\n",
            "The sum of elements in the array in 45\n"
          ]
        }
      ]
    },
    {
      "cell_type": "markdown",
      "source": [
        "2. Write a Python Program to find largest element in an array?"
      ],
      "metadata": {
        "id": "ERoEYXcZq9Vz"
      }
    },
    {
      "cell_type": "code",
      "source": [
        "rows = int(input(\"Enter the number of rows in array: \"))\n",
        "cols = int(input(\"Enter the number of columns in array: \"))\n",
        "\n",
        "for i in range(rows):\n",
        "  for j in range(cols): \n",
        "    element = int(input(\"Enter the elements row-wise: \"))\n",
        "    if (i == 0 and j == 0):\n",
        "      max = element\n",
        "    if(max<element):\n",
        "      max = element\n",
        "\n",
        "print(f\"The max element in the array is {max}\")"
      ],
      "metadata": {
        "colab": {
          "base_uri": "https://localhost:8080/"
        },
        "id": "8CD3NtbBpmCW",
        "outputId": "885840a7-4ce5-49fa-df77-110a91e87dad"
      },
      "execution_count": 5,
      "outputs": [
        {
          "output_type": "stream",
          "name": "stdout",
          "text": [
            "Enter the number of rows in array: 2\n",
            "Enter the number of columns in array: 2\n",
            "Enter the elements row-wise: 4\n",
            "Enter the elements row-wise: 6\n",
            "Enter the elements row-wise: 8\n",
            "Enter the elements row-wise: 9\n",
            "The max element in the array is 9\n"
          ]
        }
      ]
    },
    {
      "cell_type": "markdown",
      "source": [
        "3. Write a Python Program for array rotation?"
      ],
      "metadata": {
        "id": "4G2jITHisGHt"
      }
    },
    {
      "cell_type": "code",
      "source": [
        "print(\"COPIED COPIED COPIED  How to initialize 2D array COPIED COPIED COPIED\")\n",
        "\n",
        "rotation = 1 # int(input(\"Enter 1 for 90 deg, 2 for 180 deg, 3 for 270 deg and 4 for 360 deg rotation: \"))\n",
        "rows = int(input(\"Enter the number of rows in array: \"))\n",
        "cols = int(input(\"Enter the number of columns in array: \"))\n",
        "\n",
        "rotate = int(input(\"Enter 1 to rotate 90deg, 2 to rotate 180deg, 3 to rotate 270deg and 4 to rotate360deg: \"))\n",
        "array = []\n",
        "new_array = []\n",
        "refl_array = []\n",
        "for i in range(rows):\n",
        "  col = []\n",
        "  for j in range(cols): \n",
        "    element = int(input(\"Enter the elements row-wise: \"))\n",
        "    col.append(element)\n",
        "  array.append(col)\n",
        "\n",
        "print(\"The original array is \", array)\n",
        "# creating a zero array for assignment operator\n",
        "\n",
        "def rotate_90():\n",
        "  for i in range(cols):\n",
        "    new_col = []\n",
        "    for j in range(rows):\n",
        "      new_col.append(None) \n",
        "    new_array.append(new_col)\n",
        "\n",
        "  for i in range(rows):\n",
        "    for j in range(cols): \n",
        "      new_array[j][rows-1-i] = array[i][j]\n",
        "\n",
        "if (rotate == 1):\n",
        "  rotate_90()\n",
        "elif (rotate == 2):\n",
        "  rotate_90()\n",
        "  rotate_90()\n",
        "elif (rotate == 3):\n",
        "  rotate_90()\n",
        "  rotate_90()\n",
        "  rotate_90()\n",
        "elif (rotate == 4):\n",
        "  new_array = array\n",
        "else:\n",
        "  print(\"try again\")\n",
        "\n",
        "print(\"The rotated array is \", new_array)\n",
        "\n",
        "# for reflecting array across diagonal\n",
        "for i in range(cols):\n",
        "  refl_row = []\n",
        "  for j in range(rows):\n",
        "    element = array[j][i]\n",
        "    refl_row.append(element)\n",
        "  refl_array.append(refl_row)\n",
        "#print(\"the reflected array is \", refl_array )\n",
        "\n",
        "print(\"COPIED COPIED COPIED  How to initialize 2D array COPIED COPIED COPIED\")"
      ],
      "metadata": {
        "colab": {
          "base_uri": "https://localhost:8080/"
        },
        "id": "bP5WERqWsIOU",
        "outputId": "6ee81e44-e11f-4a7e-968a-a38b6163205e"
      },
      "execution_count": 20,
      "outputs": [
        {
          "output_type": "stream",
          "name": "stdout",
          "text": [
            "COPIED COPIED COPIED  How to initialize 2D array COPIED COPIED COPIED\n",
            "Enter the number of rows in array: 2\n",
            "Enter the number of columns in array: 1\n",
            "Enter 1 to rotate 90deg, 2 to rotate 180deg, 3 to rotate 270deg and 4 to rotate360deg: 3\n",
            "Enter the elements row-wise: 23\n",
            "Enter the elements row-wise: 45\n",
            "The original array is  [[23], [45]]\n",
            "The rotated array is  [[45, 23], [None, None], [None, None]]\n",
            "COPIED COPIED COPIED  How to initialize 2D array COPIED COPIED COPIED\n"
          ]
        }
      ]
    },
    {
      "cell_type": "markdown",
      "source": [
        "4. Write a Python Program to Split the array and add the first part to the end?"
      ],
      "metadata": {
        "id": "nLMcpoJ2GBZN"
      }
    },
    {
      "cell_type": "code",
      "source": [
        "length = 0\n",
        "element = 0\n",
        "list = []\n",
        "while element!= 'Pradeep23456^23456':\n",
        "  element = input(\"Enter the elements in the array. input Pradeep23456^23456 to stop \")\n",
        "  if element == 'Pradeep23456^23456':\n",
        "    break\n",
        "  length += 1\n",
        "  list.append(element)\n",
        "\n",
        "print(\"Old list is\",list)\n",
        "\n",
        "list1 = list[:int(length/2)]\n",
        "list2 = list[int(length/2):]\n",
        "list2.extend(list1)\n",
        "print(\"New list is\", list2)"
      ],
      "metadata": {
        "colab": {
          "base_uri": "https://localhost:8080/"
        },
        "id": "Fhkp4OIlwOIl",
        "outputId": "ba5f2d2b-efaf-4614-910e-6a914b835bae"
      },
      "execution_count": 40,
      "outputs": [
        {
          "output_type": "stream",
          "name": "stdout",
          "text": [
            "Enter the elements in the array. input Pradeep23456^23456 to stop 23\n",
            "Enter the elements in the array. input Pradeep23456^23456 to stop 34\n",
            "Enter the elements in the array. input Pradeep23456^23456 to stop 45\n",
            "Enter the elements in the array. input Pradeep23456^23456 to stop 67\n",
            "Enter the elements in the array. input Pradeep23456^23456 to stop Pradeep23456^23456\n",
            "Old list is ['23', '34', '45', '67']\n",
            "New list is ['45', '67', '23', '34']\n"
          ]
        }
      ]
    },
    {
      "cell_type": "markdown",
      "source": [
        "5. Write a Python Program to check if given array is Monotonic?"
      ],
      "metadata": {
        "id": "HcuPZBYAJ0GI"
      }
    },
    {
      "cell_type": "code",
      "source": [
        "length = 0\n",
        "element = 0\n",
        "list = []\n",
        "while element!= '999999999':\n",
        "  element = int(input(\"Enter the elements in the array. input 999999999 to stop \"))\n",
        "  if element == 999999999:\n",
        "    break\n",
        "  length += 1\n",
        "  list.append(element)\n",
        "\n",
        "for i in range(length):\n",
        "  if i == 0:\n",
        "    continue\n",
        "  elif list[i]<list[i-1]:\n",
        "    x = 1\n",
        "    break\n",
        "  else:\n",
        "    x = 0\n",
        "\n",
        "if (x == 0):\n",
        "  print(\"The list is monotone\")\n",
        "else:\n",
        "  print(\"the list is not monotone\")\n"
      ],
      "metadata": {
        "colab": {
          "base_uri": "https://localhost:8080/"
        },
        "id": "Rwz1qvjawOCm",
        "outputId": "ffa00523-86db-4e6a-a79e-3e26e04b412c"
      },
      "execution_count": 50,
      "outputs": [
        {
          "output_type": "stream",
          "name": "stdout",
          "text": [
            "Enter the elements in the array. input 999999999 to stop 23\n",
            "Enter the elements in the array. input 999999999 to stop 34\n",
            "Enter the elements in the array. input 999999999 to stop 65\n",
            "Enter the elements in the array. input 999999999 to stop 78\n",
            "Enter the elements in the array. input 999999999 to stop 89\n",
            "Enter the elements in the array. input 999999999 to stop 999999999\n",
            "The list is monotone\n"
          ]
        }
      ]
    },
    {
      "cell_type": "code",
      "source": [
        ""
      ],
      "metadata": {
        "id": "P4jUJO0rwN_N"
      },
      "execution_count": 48,
      "outputs": []
    },
    {
      "cell_type": "code",
      "source": [
        ""
      ],
      "metadata": {
        "id": "dPOPMTaCpl7F"
      },
      "execution_count": null,
      "outputs": []
    }
  ]
}