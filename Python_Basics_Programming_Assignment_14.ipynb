{
  "nbformat": 4,
  "nbformat_minor": 0,
  "metadata": {
    "colab": {
      "provenance": []
    },
    "kernelspec": {
      "name": "python3",
      "display_name": "Python 3"
    },
    "language_info": {
      "name": "python"
    }
  },
  "cells": [
    {
      "cell_type": "markdown",
      "source": [
        "Question 1:<br>\n",
        "Define a class with a generator which can iterate the numbers, which are divisible by 7, between a given range 0 and n.<br>\n",
        "\n",
        "Question 2:<br>\n",
        "Write a program to compute the frequency of the words from the input. The output\n",
        "should output after sorting the key alphanumerically.<br>\n",
        "Suppose the following input is supplied to the program:\n",
        "New to Python or choosing between Python 2 and Python 3? Read Python 2 or\n",
        "Python 3.\n",
        "Then, the output should be:\n",
        "2:2\n",
        "3.:1\n",
        "3?:1\n",
        "New:1\n",
        "Python:5\n",
        "Read:1\n",
        "and:1\n",
        "between:1\n",
        "choosing:1\n",
        "or:2\n",
        "to:1\n",
        "<br>\n",
        "Question 3:\n",
        "<br>\n",
        "Define a class Person and its two child classes: Male and Female. All classes have a\n",
        "method &quot;getGender&quot; which can print &quot;Male&quot; for Male class and &quot;Female&quot; for Female\n",
        "class.\n",
        "<br>\n",
        "Question 4:\n",
        "Please write a program to generate all sentences where subject is in [&quot;I&quot;, &quot;You&quot;] and\n",
        "verb is in [&quot;Play&quot;, &quot;Love&quot;] and the object is in [&quot;Hockey&quot;,&quot;Football&quot;].\n",
        "<br>\n",
        "Question 5:\n",
        "Please write a program to compress and decompress the string &quot;hello world!hello\n",
        "world!hello world!hello world!&quot;.\n",
        "<br>\n",
        "Question 6:\n",
        "Please write a binary search function which searches an item in a sorted list. The\n",
        "function should return the index of element to be searched in the list."
      ],
      "metadata": {
        "id": "jo__N49VEqpG"
      }
    },
    {
      "cell_type": "markdown",
      "source": [
        "\n",
        "Question 1:\n",
        "Define a class with a generator which can iterate the numbers, which are divisible by 7, between a given range 0 and n."
      ],
      "metadata": {
        "id": "Ds2rUSjNGUbF"
      }
    },
    {
      "cell_type": "code",
      "execution_count": null,
      "metadata": {
        "colab": {
          "base_uri": "https://localhost:8080/"
        },
        "id": "ZVyJtXv5EiRp",
        "outputId": "1e86f9f0-3331-4419-9856-ff4a0f6acb86"
      },
      "outputs": [
        {
          "output_type": "stream",
          "name": "stdout",
          "text": [
            "0\n",
            "7\n",
            "14\n",
            "21\n",
            "28\n",
            "35\n",
            "42\n",
            "49\n",
            "56\n",
            "63\n",
            "70\n",
            "77\n",
            "84\n",
            "91\n",
            "98\n"
          ]
        }
      ],
      "source": [
        "class Gen7:\n",
        "  def __init__(self,UpperLimit):\n",
        "    self.UpperLimit = UpperLimit\n",
        "\n",
        "  def generator(self):\n",
        "    return (i for i in range(self.UpperLimit) if i%7 == 0) \n",
        "\n",
        "\n",
        "p1=Gen7(100)\n",
        "#p1.generator()\n",
        "for a in p1.generator():\n",
        "  print(a)"
      ]
    },
    {
      "cell_type": "markdown",
      "source": [
        "Question 2:<br>\n",
        "Write a program to compute the frequency of the words from the input. The output\n",
        "should output after sorting the key alphanumerically."
      ],
      "metadata": {
        "id": "_ND5PTIsOcVx"
      }
    },
    {
      "cell_type": "code",
      "source": [
        "'''\n",
        "import string\n",
        "\n",
        "def wordlist(a):\n",
        "  list_of_words = a.split()\n",
        "  output = []\n",
        "  for word in list_of_words:\n",
        "    output.append(word.lower())\n",
        "  output1 = sorted(output)\n",
        "  \n",
        "  output2 = []\n",
        "  for word in output1:\n",
        "    wordnew = []\n",
        "    for alphabet in word:\n",
        "      if alphabet in string.punctuation:\n",
        "        word.replace(alphabet,\"\")\n",
        "      else:\n",
        "        wordnew.append(alphabet)\n",
        "    wordnew = ''.join(wordnew)\n",
        "    output2.append(wordnew)\n",
        "\n",
        "  return output2\n",
        "\n",
        "list1 = wordlist(\"ew to Python or choosing between Python 2 and Python 3? Read Python 2 or Python 3. Then, the output should be: 2:2 3.:1 3?:1 New:1 Python:5 Read:1 and:1 between:1 choosing:1 or:2 to:1 \")\n",
        "print(\"Initial list: \\n\", list1)\n",
        "\n",
        "\n",
        "list2 = []\n",
        "for word in list1:\n",
        "  if word not in list2:\n",
        "    list2.append(word)\n",
        "\n",
        "wordfreq = []\n",
        "for word in list2:\n",
        "    wordfreq.append(list1.count(word))\n",
        "\n",
        "#print(\"Pairs\\n\" + str(list(zip(list2, wordfreq))))\n",
        "for i in range(len(list2)):\n",
        "  print(f\"{list2[i]} occurs {wordfreq[i]} times\")\n",
        "\n",
        "'''"
      ],
      "metadata": {
        "id": "FW6qCzZKNMHW",
        "colab": {
          "base_uri": "https://localhost:8080/",
          "height": 139
        },
        "outputId": "d18fda0a-7196-47aa-be6d-3cf05d410255"
      },
      "execution_count": null,
      "outputs": [
        {
          "output_type": "execute_result",
          "data": {
            "text/plain": [
              "'\\nimport string\\n\\ndef wordlist(a):\\n  list_of_words = a.split()\\n  output = []\\n  for word in list_of_words:\\n    output.append(word.lower())\\n  output1 = sorted(output)\\n  \\n  output2 = []\\n  for word in output1:\\n    wordnew = []\\n    for alphabet in word:\\n      if alphabet in string.punctuation:\\n        word.replace(alphabet,\"\")\\n      else:\\n        wordnew.append(alphabet)\\n    wordnew = \\'\\'.join(wordnew)\\n    output2.append(wordnew)\\n\\n  return output2\\n\\nlist1 = wordlist(\"ew to Python or choosing between Python 2 and Python 3? Read Python 2 or Python 3. Then, the output should be: 2:2 3.:1 3?:1 New:1 Python:5 Read:1 and:1 between:1 choosing:1 or:2 to:1 \")\\nprint(\"Initial list: \\n\", list1)\\n\\n\\nlist2 = []\\nfor word in list1:\\n  if word not in list2:\\n    list2.append(word)\\n\\nwordfreq = []\\nfor word in list2:\\n    wordfreq.append(list1.count(word))\\n\\n#print(\"Pairs\\n\" + str(list(zip(list2, wordfreq))))\\nfor i in range(len(list2)):\\n  print(f\"{list2[i]} occurs {wordfreq[i]} times\")\\n\\n'"
            ],
            "application/vnd.google.colaboratory.intrinsic+json": {
              "type": "string"
            }
          },
          "metadata": {},
          "execution_count": 72
        }
      ]
    },
    {
      "cell_type": "markdown",
      "source": [
        "Suppose the following input is supplied to the program: New to Python or choosing between Python 2 and Python 3? Read Python 2 or Python 3. Then, the output should be: 2:2 3.:1 3?:1 New:1 Python:5 Read:1 and:1 between:1 choosing:1 or:2 to:1"
      ],
      "metadata": {
        "id": "YBK5ISgide2M"
      }
    },
    {
      "cell_type": "code",
      "source": [
        "import string\n",
        "\n",
        "def wordlist(a):\n",
        "  list_of_words = a.split()\n",
        "  output = []\n",
        "  for word in list_of_words:\n",
        "    output.append(word)\n",
        "  return sorted(output)\n",
        "\n",
        "list1 = wordlist(\"New to Python or choosing between Python 2 and Python 3? Read Python 2 or Python 3. \")\n",
        "\n",
        "\n",
        "list2 = []\n",
        "for word in list1:\n",
        "  if word not in list2:\n",
        "    list2.append(word)\n",
        "\n",
        "wordfreq = []\n",
        "for word in list2:\n",
        "    wordfreq.append(list1.count(word))\n",
        "\n",
        "#print(\"Pairs\\n\" + str(list(zip(list2, wordfreq))))\n",
        "for i in range(len(list2)):\n",
        "  print(f\"{list2[i]}:{wordfreq[i]} \", end = \"\")\n"
      ],
      "metadata": {
        "id": "yrDP4gufsjpW",
        "colab": {
          "base_uri": "https://localhost:8080/"
        },
        "outputId": "6e730600-797a-46a1-f06b-a42fe2edaa74"
      },
      "execution_count": null,
      "outputs": [
        {
          "output_type": "stream",
          "name": "stdout",
          "text": [
            "2:2 3.:1 3?:1 New:1 Python:5 Read:1 and:1 between:1 choosing:1 or:2 to:1 "
          ]
        }
      ]
    },
    {
      "cell_type": "markdown",
      "source": [
        "Question 3:\n",
        "Define a class Person and its two child classes: Male and Female. All classes have a method \"getGender\" which can print \"Male\" for Male class and \"Female\" for Female class. "
      ],
      "metadata": {
        "id": "bbxZ3Zujf0Pf"
      }
    },
    {
      "cell_type": "code",
      "source": [
        "class Person:\n",
        "  def __init__(self):\n",
        "    pass\n",
        "    \n",
        "  @classmethod\n",
        "  def Male(self):\n",
        "    print('Male')\n",
        "  def Female(self):\n",
        "    print('Female')\n",
        "\n",
        "prad = Person()\n",
        "prad.Male()\n",
        "#prad.Female()"
      ],
      "metadata": {
        "colab": {
          "base_uri": "https://localhost:8080/"
        },
        "id": "RJ2cLUuAe-zC",
        "outputId": "684e7751-e5b2-45e1-ce1b-1909015e067b"
      },
      "execution_count": null,
      "outputs": [
        {
          "output_type": "stream",
          "name": "stdout",
          "text": [
            "Male\n"
          ]
        }
      ]
    },
    {
      "cell_type": "markdown",
      "source": [
        "Question 4: Please write a program to generate all sentences where subject is in [\"I\", \"You\"] and verb is in [\"Play\", \"Love\"] and the object is in [\"Hockey\",\"Football\"]. "
      ],
      "metadata": {
        "id": "pYQECiAs22HL"
      }
    },
    {
      "cell_type": "code",
      "source": [
        "import random\n",
        "sub = [\"I\", \"You\"]\n",
        "verb =  [\"Play\", \"Love\"] \n",
        "obj = [\"Hockey\",\"Football\"]\n",
        "\n",
        "#print(random.choice(sub) + \" \" + random.choice(verb) + \" \" + random.choice(obj))\n",
        "\n",
        "for i in range(len(sub)):\n",
        "  for j in range(len(verb)):\n",
        "    for k in range(len(obj)):\n",
        "      print(f\"{sub[i]} {verb[j]} {obj[k]}\")"
      ],
      "metadata": {
        "id": "EDg6BdX3hk1w",
        "colab": {
          "base_uri": "https://localhost:8080/"
        },
        "outputId": "2d310f9f-4ab3-46ec-fc4a-785236ceb1fd"
      },
      "execution_count": null,
      "outputs": [
        {
          "output_type": "stream",
          "name": "stdout",
          "text": [
            "I Play Hockey\n",
            "I Play Football\n",
            "I Love Hockey\n",
            "I Love Football\n",
            "You Play Hockey\n",
            "You Play Football\n",
            "You Love Hockey\n",
            "You Love Football\n"
          ]
        }
      ]
    },
    {
      "cell_type": "markdown",
      "source": [
        "Question 5: Please write a program to compress and decompress the string \"hello world!hello world!hello world!hello world!\". "
      ],
      "metadata": {
        "id": "aK3BK7Xn70Dr"
      }
    },
    {
      "cell_type": "code",
      "source": [
        "str1 = \"hello world!hello world!hello world!hello world!\"\n",
        "#str.replace(\" \",\"\")\n",
        "\n",
        "\n",
        "def compress(str1):\n",
        "  list1 = list(str1)\n",
        "  output = []\n",
        "  output1 = \"\"\n",
        "  for element in list1:\n",
        "    if element not in output:\n",
        "      output.append(element)\n",
        "      output.append((list1.count(element)))\n",
        "      output1 = output1+element\n",
        "      output1 = output1 + str(list1.count(element))\n",
        "  \n",
        "  return output1\n",
        "\n",
        "print(compress(\"hello world!hello world!hello world!hello world!\"))\n",
        "\n",
        "def decompress(sentence2):\n",
        "  list1 = list(sentence2)\n",
        "  output1 = ''\n",
        "  for i in range(len(sentence2)):\n",
        "    if i%2 == 0 and i<(len(sentence2)-1):\n",
        "      output1 = output1 + list1[i]*int(list1[i+1])\n",
        "      #print(list1[i]*int(list1[i+1]), end='')\n",
        "    else:\n",
        "      pass\n",
        "  return output1\n",
        "\n",
        "print(decompress(\"h4e4l9o8 4w4r4d4!4\"))\n",
        "#will not work if there are doublr digits"
      ],
      "metadata": {
        "colab": {
          "base_uri": "https://localhost:8080/"
        },
        "id": "2mNbICRU4IyR",
        "outputId": "2112fa03-7d6e-485d-d7fe-605743b383b4"
      },
      "execution_count": null,
      "outputs": [
        {
          "output_type": "stream",
          "name": "stdout",
          "text": [
            "h4e4l12o8 4w4r4d4!4\n",
            "hhhheeeellllllllloooooooo    wwwwrrrrdddd!!!!\n"
          ]
        }
      ]
    },
    {
      "cell_type": "markdown",
      "source": [
        "Question 6: Please write a binary search function which searches an item in a sorted list. The function should return the index of element to be searched in the list."
      ],
      "metadata": {
        "id": "TFoNW10_PlzX"
      }
    },
    {
      "cell_type": "code",
      "source": [
        "import random\n",
        "list1 = [random.randint(1,100) for x in range(100)]\n",
        "\n",
        "list1 = sorted(list1)\n",
        "low = 0\n",
        "high = len(list1)\n",
        "list1"
      ],
      "metadata": {
        "colab": {
          "base_uri": "https://localhost:8080/"
        },
        "id": "NBTvnM0p7-Im",
        "outputId": "0c7dadea-6505-43ab-9324-3f9bcd7da4b2"
      },
      "execution_count": 3,
      "outputs": [
        {
          "output_type": "execute_result",
          "data": {
            "text/plain": [
              "[1,\n",
              " 1,\n",
              " 2,\n",
              " 3,\n",
              " 5,\n",
              " 7,\n",
              " 8,\n",
              " 8,\n",
              " 8,\n",
              " 9,\n",
              " 9,\n",
              " 11,\n",
              " 13,\n",
              " 13,\n",
              " 13,\n",
              " 16,\n",
              " 16,\n",
              " 16,\n",
              " 17,\n",
              " 17,\n",
              " 17,\n",
              " 18,\n",
              " 20,\n",
              " 20,\n",
              " 23,\n",
              " 23,\n",
              " 24,\n",
              " 24,\n",
              " 26,\n",
              " 26,\n",
              " 26,\n",
              " 29,\n",
              " 30,\n",
              " 30,\n",
              " 30,\n",
              " 31,\n",
              " 32,\n",
              " 33,\n",
              " 34,\n",
              " 35,\n",
              " 35,\n",
              " 36,\n",
              " 37,\n",
              " 39,\n",
              " 41,\n",
              " 41,\n",
              " 42,\n",
              " 43,\n",
              " 50,\n",
              " 50,\n",
              " 53,\n",
              " 55,\n",
              " 56,\n",
              " 57,\n",
              " 59,\n",
              " 60,\n",
              " 60,\n",
              " 61,\n",
              " 61,\n",
              " 62,\n",
              " 63,\n",
              " 63,\n",
              " 65,\n",
              " 65,\n",
              " 66,\n",
              " 67,\n",
              " 67,\n",
              " 68,\n",
              " 68,\n",
              " 70,\n",
              " 71,\n",
              " 71,\n",
              " 71,\n",
              " 72,\n",
              " 72,\n",
              " 72,\n",
              " 74,\n",
              " 76,\n",
              " 77,\n",
              " 78,\n",
              " 79,\n",
              " 81,\n",
              " 81,\n",
              " 82,\n",
              " 83,\n",
              " 84,\n",
              " 84,\n",
              " 87,\n",
              " 87,\n",
              " 87,\n",
              " 89,\n",
              " 91,\n",
              " 91,\n",
              " 92,\n",
              " 92,\n",
              " 93,\n",
              " 94,\n",
              " 94,\n",
              " 96,\n",
              " 96]"
            ]
          },
          "metadata": {},
          "execution_count": 3
        }
      ]
    },
    {
      "cell_type": "code",
      "source": [
        "def binarySearch(list1, x, low, high):\n",
        "  mid = int ((low + high) / 2)\n",
        "  if x == list1[mid]:\n",
        "    return mid\n",
        "  elif x > list1[mid]: # x is on the right side\n",
        "    return binarySearch(list1, x, mid + 1, high)\n",
        "  else: # x is on the left side\n",
        "    return binarySearch(list1, x, low, mid - 1) \n",
        "\n",
        "binarySearch(list1,96,0,99)"
      ],
      "metadata": {
        "colab": {
          "base_uri": "https://localhost:8080/"
        },
        "id": "jY7ZuLNBIg4I",
        "outputId": "78e9f5f5-d513-4ce8-978c-62a5601d8cdf"
      },
      "execution_count": 6,
      "outputs": [
        {
          "output_type": "execute_result",
          "data": {
            "text/plain": [
              "98"
            ]
          },
          "metadata": {},
          "execution_count": 6
        }
      ]
    },
    {
      "cell_type": "code",
      "source": [],
      "metadata": {
        "id": "E_ZCb5FhfMBN"
      },
      "execution_count": null,
      "outputs": []
    }
  ]
}