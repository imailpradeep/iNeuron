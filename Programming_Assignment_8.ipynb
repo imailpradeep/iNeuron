{
  "nbformat": 4,
  "nbformat_minor": 0,
  "metadata": {
    "colab": {
      "name": " Programming Assignment_8.ipynb",
      "provenance": [],
      "collapsed_sections": []
    },
    "kernelspec": {
      "name": "python3",
      "display_name": "Python 3"
    },
    "language_info": {
      "name": "python"
    }
  },
  "cells": [
    {
      "cell_type": "markdown",
      "source": [
        "1. Write a Python Program to Add Two Matrices?"
      ],
      "metadata": {
        "id": "0Dgzx04oMHPY"
      }
    },
    {
      "cell_type": "code",
      "source": [
        "rows = int(input(\"Enter number of rows: \"))\n",
        "cols = int(input(\"Enter number of columns: \"))\n",
        "\n",
        "mat1 = []\n",
        "mat2 = []\n",
        "mat = []\n",
        "\n",
        "for i in range(rows):\n",
        "  col = []\n",
        "  for j in range(cols):\n",
        "    col.append(int(input(\"enter element of Matrix 1: \")))\n",
        "  mat1.append(col)\n",
        "\n",
        "for i in range(rows):\n",
        "  col = []\n",
        "  for j in range(cols):\n",
        "    col.append(int(input(\"enter element of Matrix 2: \")))\n",
        "  mat2.append(col)\n",
        "\n",
        "for i in range(rows):\n",
        "  col = []\n",
        "  for j in range(cols):\n",
        "    col.append(mat1[i][j] + mat2[i][j])\n",
        "  mat.append(col)\n",
        "\n",
        "print(\"The added matrix is\" , mat)"
      ],
      "metadata": {
        "colab": {
          "base_uri": "https://localhost:8080/"
        },
        "id": "ZgmJMVxAMGnW",
        "outputId": "9d0a9ad2-2bc7-47bc-d289-8313bcfbe771"
      },
      "execution_count": 2,
      "outputs": [
        {
          "output_type": "stream",
          "name": "stdout",
          "text": [
            "Enter number of rows: 2\n",
            "Enter number of columns: 2\n",
            "enter element of Matrix 1: 1\n",
            "enter element of Matrix 1: 2\n",
            "enter element of Matrix 1: 1\n",
            "enter element of Matrix 1: 2\n",
            "enter element of Matrix 2: 1\n",
            "enter element of Matrix 2: 2\n",
            "enter element of Matrix 2: 1\n",
            "enter element of Matrix 2: 2\n",
            "The added matrix is [[2, 4], [2, 4]]\n"
          ]
        }
      ]
    },
    {
      "cell_type": "markdown",
      "source": [
        "2. Write a Python Program to Multiply Two Matrices?"
      ],
      "metadata": {
        "id": "Z8dxpvqAOiwL"
      }
    },
    {
      "cell_type": "code",
      "source": [
        "m = int(input(\"Enter number of rows in first matrix: \"))\n",
        "n = int(input(\"Enter number of columns in first matrix: \"))\n",
        "\n",
        "mat1 = []\n",
        "mat2 = []\n",
        "mat = []\n",
        "\n",
        "for i in range(m):\n",
        "  col = []\n",
        "  for j in range(n):\n",
        "    col.append(int(input(\"enter element of Matrix 1: \")))\n",
        "  mat1.append(col)\n",
        "\n",
        "print('no. of columns of first matrix = no. of rows of second matrix')\n",
        "p = int(input(\"Enter number of columns in second matrix: \"))\n",
        "for i in range(n):\n",
        "  col = []\n",
        "  for j in range(p):\n",
        "    col.append(int(input(\"enter element of Matrix 2: \")))\n",
        "  mat2.append(col)\n",
        "\n",
        "for i in range(m):\n",
        "  col = []\n",
        "  for j in range(p):\n",
        "    col.append(0)\n",
        "  mat.append(col)\n",
        "\n",
        "for i in range(m):\n",
        "  for j in range(p):\n",
        "    for k in range(n):\n",
        "      mat[i][j] += mat1[i][k]*mat2[k][j]\n",
        "\n",
        "print(mat)"
      ],
      "metadata": {
        "colab": {
          "base_uri": "https://localhost:8080/"
        },
        "id": "WqpiZpFZMGjM",
        "outputId": "8dd8970e-0081-44be-c3e3-6d78a076468c"
      },
      "execution_count": 7,
      "outputs": [
        {
          "output_type": "stream",
          "name": "stdout",
          "text": [
            "Enter number of rows in first matrix: 2\n",
            "Enter number of columns in first matrix: 2\n",
            "enter element of Matrix 1: 1\n",
            "enter element of Matrix 1: 1\n",
            "enter element of Matrix 1: 1\n",
            "enter element of Matrix 1: 1\n",
            "no. of columns of first matrix = no. of rows of second matrix\n",
            "Enter number of columns in second matrix: 2\n",
            "enter element of Matrix 2: 1\n",
            "enter element of Matrix 2: 1\n",
            "enter element of Matrix 2: 1\n",
            "enter element of Matrix 2: 1\n",
            "[[2, 2], [2, 2]]\n"
          ]
        }
      ]
    },
    {
      "cell_type": "markdown",
      "source": [
        "3. Write a Python Program to Transpose a Matrix?"
      ],
      "metadata": {
        "id": "XL-0NmsrWEsj"
      }
    },
    {
      "cell_type": "code",
      "source": [
        "rows = int(input(\"Enter number of rows in matrix: \"))\n",
        "cols = int(input(\"Enter number of columns in matrix: \"))\n",
        "mat = []\n",
        "for i in range(rows):\n",
        "  col = []\n",
        "  for j in range(cols):\n",
        "    col.append(int(input(\"enter element of Matrix 1: \")))\n",
        "  mat.append(col)\n",
        "\n",
        "trans_mat = []\n",
        "for i in range(cols):\n",
        "  col = []\n",
        "  for j in range(rows):\n",
        "    col.append(0)\n",
        "  trans_mat.append(col)\n",
        "\n",
        "for i in range(cols):\n",
        "  for j in range(rows):\n",
        "      trans_mat[i][j] = mat[j][i]\n",
        "\n",
        "print(trans_mat)\n"
      ],
      "metadata": {
        "colab": {
          "base_uri": "https://localhost:8080/"
        },
        "id": "lmndWQWdMGfc",
        "outputId": "5c7c919e-a12c-49b7-fc6a-fe9d64714c9a"
      },
      "execution_count": 9,
      "outputs": [
        {
          "output_type": "stream",
          "name": "stdout",
          "text": [
            "Enter number of rows in matrix: 2\n",
            "Enter number of columns in matrix: 1\n",
            "enter element of Matrix 1: 23\n",
            "enter element of Matrix 1: 45\n",
            "[[23, 45]]\n"
          ]
        }
      ]
    },
    {
      "cell_type": "markdown",
      "source": [
        "4. Write a Python Program to Sort Words in Alphabetic Order?"
      ],
      "metadata": {
        "id": "CYHEMtlaYB0C"
      }
    },
    {
      "cell_type": "code",
      "source": [
        "text = input(\"Enter the text: \")\n",
        "list = text.upper()\n",
        "list = list.split()\n",
        "list.sort()\n",
        "print(list)"
      ],
      "metadata": {
        "colab": {
          "base_uri": "https://localhost:8080/"
        },
        "id": "oQJRPXmoWekW",
        "outputId": "a23c125a-8d98-41ba-c81f-5bd80969664c"
      },
      "execution_count": 6,
      "outputs": [
        {
          "output_type": "stream",
          "name": "stdout",
          "text": [
            "Enter the text: Hi How are you God bless you\n",
            "['HI', 'HOW', 'ARE', 'YOU', 'GOD', 'BLESS', 'YOU']\n",
            "['ARE', 'BLESS', 'GOD', 'HI', 'HOW', 'YOU', 'YOU']\n"
          ]
        }
      ]
    },
    {
      "cell_type": "markdown",
      "source": [
        "5. Write a Python Program to Remove Punctuation From a String?"
      ],
      "metadata": {
        "id": "zUxKlebXvrT8"
      }
    },
    {
      "cell_type": "code",
      "source": [
        "print(\"COPIED COPIED COPIED COPIED COPIED COPIED COPIED COPIED\")\n",
        "\n",
        "text = input(\"Enter the text: \")\n",
        "list = text.split()\n",
        "punc = \"\"\"!()-[]{};:'\"\\,<>./?@#$%^&*_~\"\"\"\n",
        "type(text)\n",
        "for ele in text:\n",
        "  if ele in punc:\n",
        "    text = text.replace(ele,\"\")\n",
        "\n",
        "print(text)\n",
        "\n",
        "\n",
        "print(\"COPIED COPIED COPIED COPIED COPIED COPIED COPIED COPIED\")"
      ],
      "metadata": {
        "colab": {
          "base_uri": "https://localhost:8080/",
          "height": 269
        },
        "id": "zjokVJ1Fwmks",
        "outputId": "ab00fc2a-0bb3-4ce4-b171-eaf278cba1dc"
      },
      "execution_count": 23,
      "outputs": [
        {
          "name": "stdout",
          "output_type": "stream",
          "text": [
            "COPIED COPIED COPIED COPIED COPIED COPIED COPIED COPIED\n",
            "Enter the text: asfqr.qrwfq, qrwfq\n"
          ]
        },
        {
          "output_type": "error",
          "ename": "AttributeError",
          "evalue": "ignored",
          "traceback": [
            "\u001b[0;31m---------------------------------------------------------------------------\u001b[0m",
            "\u001b[0;31mAttributeError\u001b[0m                            Traceback (most recent call last)",
            "\u001b[0;32m<ipython-input-23-64f5d3e642b3>\u001b[0m in \u001b[0;36m<module>\u001b[0;34m()\u001b[0m\n\u001b[1;32m      7\u001b[0m \u001b[0;32mfor\u001b[0m \u001b[0mele\u001b[0m \u001b[0;32min\u001b[0m \u001b[0mtext\u001b[0m\u001b[0;34m:\u001b[0m\u001b[0;34m\u001b[0m\u001b[0;34m\u001b[0m\u001b[0m\n\u001b[1;32m      8\u001b[0m   \u001b[0;32mif\u001b[0m \u001b[0mele\u001b[0m \u001b[0;32min\u001b[0m \u001b[0mpunc\u001b[0m\u001b[0;34m:\u001b[0m\u001b[0;34m\u001b[0m\u001b[0;34m\u001b[0m\u001b[0m\n\u001b[0;32m----> 9\u001b[0;31m     \u001b[0mtext\u001b[0m\u001b[0;34m.\u001b[0m\u001b[0mremove\u001b[0m\u001b[0;34m(\u001b[0m\u001b[0mele\u001b[0m\u001b[0;34m)\u001b[0m\u001b[0;34m\u001b[0m\u001b[0;34m\u001b[0m\u001b[0m\n\u001b[0m\u001b[1;32m     10\u001b[0m     \u001b[0mtext\u001b[0m \u001b[0;34m=\u001b[0m \u001b[0mtext\u001b[0m\u001b[0;34m.\u001b[0m\u001b[0mreplace\u001b[0m\u001b[0;34m(\u001b[0m\u001b[0mele\u001b[0m\u001b[0;34m,\u001b[0m\u001b[0;34m\"\"\u001b[0m\u001b[0;34m)\u001b[0m\u001b[0;34m\u001b[0m\u001b[0;34m\u001b[0m\u001b[0m\n\u001b[1;32m     11\u001b[0m \u001b[0;34m\u001b[0m\u001b[0m\n",
            "\u001b[0;31mAttributeError\u001b[0m: 'str' object has no attribute 'remove'"
          ]
        }
      ]
    },
    {
      "cell_type": "code",
      "source": [
        "WEF\n",
        "  "
      ],
      "metadata": {
        "id": "Beyu8Hn0vsxx"
      },
      "execution_count": null,
      "outputs": []
    },
    {
      "cell_type": "code",
      "execution_count": null,
      "metadata": {
        "id": "NAdzyPSdMFiX"
      },
      "outputs": [],
      "source": [
        ""
      ]
    }
  ]
}