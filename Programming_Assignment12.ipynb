{
  "nbformat": 4,
  "nbformat_minor": 0,
  "metadata": {
    "colab": {
      "name": "Programming_Assignment12.ipynb",
      "provenance": [],
      "collapsed_sections": []
    },
    "kernelspec": {
      "name": "python3",
      "display_name": "Python 3"
    },
    "language_info": {
      "name": "python"
    }
  },
  "cells": [
    {
      "cell_type": "markdown",
      "source": [
        "1. Write a Python program to Extract Unique values dictionary values? <br>\n",
        "2. Write a Python program to find the sum of all items in a dictionary?<br>\n",
        "3. Write a Python program to Merging two Dictionaries?<br>\n",
        "4. Write a Python program to convert key-values list to flat dictionary?<br>\n",
        "5. Write a Python program to insertion at the beginning in OrderedDict?<br>\n",
        "6. Write a Python program to check order of character in string using OrderedDict()?<br>\n",
        "7. Write a Python program to sort Python Dictionaries by Key or Value?<br>"
      ],
      "metadata": {
        "id": "rXrsvIKrVoT7"
      }
    },
    {
      "cell_type": "markdown",
      "source": [
        "1. Write a Python program to Extract Unique values dictionary values?"
      ],
      "metadata": {
        "id": "F9evK-BCVwyh"
      }
    },
    {
      "cell_type": "code",
      "source": [
        "d = {23:56, 33:256, 34:2346, 'sdff':345, 'dfg':'dfgh',75:2346 }\n",
        "set(d.values())\n"
      ],
      "metadata": {
        "colab": {
          "base_uri": "https://localhost:8080/"
        },
        "id": "FBWjJWxLVuAq",
        "outputId": "fd424d62-a685-470a-f533-0d7a251d3264"
      },
      "execution_count": null,
      "outputs": [
        {
          "output_type": "execute_result",
          "data": {
            "text/plain": [
              "{2346, 256, 345, 56, 'dfgh'}"
            ]
          },
          "metadata": {},
          "execution_count": 18
        }
      ]
    },
    {
      "cell_type": "markdown",
      "source": [
        "Write a Python program to find the sum of all items in a dictionary?"
      ],
      "metadata": {
        "id": "yIcYHYvhbJru"
      }
    },
    {
      "cell_type": "code",
      "source": [
        "l=[]\n",
        "sum = 0\n",
        "for i in d.values():\n",
        "  l.append(i)\n",
        "for i in d.keys():\n",
        "  l.append(i)\n",
        "for i in l:\n",
        "  if type(i) == int or type(i) == float:\n",
        "    sum += i\n",
        "sum"
      ],
      "metadata": {
        "colab": {
          "base_uri": "https://localhost:8080/"
        },
        "id": "UdaT36vvbITH",
        "outputId": "765fe312-3e09-4408-9e98-b8b66a6728f9"
      },
      "execution_count": null,
      "outputs": [
        {
          "output_type": "execute_result",
          "data": {
            "text/plain": [
              "5514"
            ]
          },
          "metadata": {},
          "execution_count": 29
        }
      ]
    },
    {
      "cell_type": "markdown",
      "source": [
        "Write a Python program to Merging two Dictionaries?"
      ],
      "metadata": {
        "id": "GrT1OImgdsUI"
      }
    },
    {
      "cell_type": "code",
      "source": [
        "d2 = {1:2, 3:4, 5:6, 'a':54, 'b':'c'}\n",
        "d3 = {**d,**d2}\n",
        "d3\n",
        "\n",
        "d3['a']"
      ],
      "metadata": {
        "colab": {
          "base_uri": "https://localhost:8080/"
        },
        "id": "GgWgqR8jbIO0",
        "outputId": "1fb27fc2-c232-4ce9-b966-6479adf77419"
      },
      "execution_count": null,
      "outputs": [
        {
          "output_type": "execute_result",
          "data": {
            "text/plain": [
              "54"
            ]
          },
          "metadata": {},
          "execution_count": 34
        }
      ]
    },
    {
      "cell_type": "markdown",
      "source": [
        "Write a Python program to convert key-values list to flat dictionary?"
      ],
      "metadata": {
        "id": "n34tspS1e99x"
      }
    },
    {
      "cell_type": "code",
      "source": [
        "k = [23,45,6,3,67,'werg', 'sdfg']\n",
        "v = [2345,3457,367,256,234,'etg', 'wettg']\n",
        "d = dict()\n",
        "for i in range(len(k)):\n",
        "  d1 = {k[i]:v[i]}\n",
        "  d = {**d,**d1}\n",
        "d"
      ],
      "metadata": {
        "colab": {
          "base_uri": "https://localhost:8080/"
        },
        "id": "eiOkZiSUY1Uq",
        "outputId": "3ef4529a-0268-4bdb-8457-2a5d303231f9"
      },
      "execution_count": null,
      "outputs": [
        {
          "output_type": "execute_result",
          "data": {
            "text/plain": [
              "{23: 2345, 3: 256, 45: 3457, 6: 367, 67: 234, 'sdfg': 'wettg', 'werg': 'etg'}"
            ]
          },
          "metadata": {},
          "execution_count": 2
        }
      ]
    },
    {
      "cell_type": "markdown",
      "source": [
        "Write a Python program to insertion at the beginning in OrderedDict?"
      ],
      "metadata": {
        "id": "LHsdkjs0vYQX"
      }
    },
    {
      "cell_type": "code",
      "source": [
        "from collections import OrderedDict\n",
        "od = OrderedDict()\n",
        "od['a'] = 1\n",
        "od['b'] = 2\n",
        "od['c'] = 3\n",
        "od['d'] = 4\n",
        "\n",
        "new_od_ele = OrderedDict()\n",
        "new_od_ele = {456:2356}\n",
        "new_od_ele = {**new_od_ele,**od}\n",
        "new_od_ele\n",
        "\n",
        "\"\"\"\n",
        "l_k = []\n",
        "l_v = []\n",
        "for key in od.keys():\n",
        "    l_k.append(key)\n",
        "for value in od.values():\n",
        "    l_v.append(value)\n",
        "  \n",
        "def convert_list_to_ordereddict(l_k,l_v):\n",
        "  od1 = OrderedDict()\n",
        "  od2 = OrderedDict()\n",
        "  for i in range(len(l_k)):\n",
        "    od2 = {l_k[i]:l_v[i]}\n",
        "    od1 = {**od1,**od2}\n",
        "  return od1\n",
        "\n",
        "convert_list_to_ordereddict(l_k,l_v)\n",
        "\"\"\"\n"
      ],
      "metadata": {
        "id": "ZEIuG4KOY1Nx",
        "colab": {
          "base_uri": "https://localhost:8080/",
          "height": 70
        },
        "outputId": "130f04d7-acc9-47e9-81ee-9b4f9114e05b"
      },
      "execution_count": null,
      "outputs": [
        {
          "output_type": "execute_result",
          "data": {
            "text/plain": [
              "'\\nl_k = []\\nl_v = []\\nfor key in od.keys():\\n    l_k.append(key)\\nfor value in od.values():\\n    l_v.append(value)\\n  \\ndef convert_list_to_ordereddict(l_k,l_v):\\n  od1 = OrderedDict()\\n  od2 = OrderedDict()\\n  for i in range(len(l_k)):\\n    od2 = {l_k[i]:l_v[i]}\\n    od1 = {**od1,**od2}\\n  return od1\\n\\nconvert_list_to_ordereddict(l_k,l_v)\\n'"
            ],
            "application/vnd.google.colaboratory.intrinsic+json": {
              "type": "string"
            }
          },
          "metadata": {},
          "execution_count": 25
        }
      ]
    },
    {
      "cell_type": "markdown",
      "source": [
        "Write a Python program to check order of character in string using OrderedDict()?"
      ],
      "metadata": {
        "id": "wVvkEC2pveuL"
      }
    },
    {
      "cell_type": "code",
      "source": [
        "a = OrderedDict()\n",
        "c = OrderedDict()\n",
        "b = \"asdfgh\"\n",
        "for i in range(len(b)):\n",
        "  c = { b[i]:i}\n",
        "  a = {**a,**c}\n",
        "a['h']"
      ],
      "metadata": {
        "id": "8geDDWF4Y1Kf",
        "colab": {
          "base_uri": "https://localhost:8080/"
        },
        "outputId": "f172aa18-99c2-44be-82a3-d7140ba090fe"
      },
      "execution_count": null,
      "outputs": [
        {
          "output_type": "execute_result",
          "data": {
            "text/plain": [
              "5"
            ]
          },
          "metadata": {},
          "execution_count": 38
        }
      ]
    },
    {
      "cell_type": "markdown",
      "source": [
        "Write a Python program to sort Python Dictionaries by Key or Value?"
      ],
      "metadata": {
        "id": "FQzq75zZvgSP"
      }
    },
    {
      "cell_type": "code",
      "source": [
        "# code to sort a dict by keys and values\n",
        "d = {1:2, 3:4, 5:6,'f':23, 'a':54, 'e':345, 'b':'c'}\n",
        "\n",
        "#sort list with both int and str\n",
        "def sort_list(l):\n",
        "  l = [str(i) for i in l]\n",
        "  l.sort()\n",
        "  l = [int(i) if i.isdigit() else i for i in l]\n",
        "  return l\n",
        "\n",
        "#sort using keys\n",
        "def sort_dict_keys(d):\n",
        "  l_k = []\n",
        "  for k in d.keys():\n",
        "    l_k.append(k)\n",
        "  l_k = sort_list(l_k)\n",
        "  sorted_d_k = dict()\n",
        "  temp_d = dict()\n",
        "  for i in l_k:\n",
        "    temp_d = {i:d[i]}\n",
        "    sorted_d_k = {**sorted_d_k, **temp_d}\n",
        "  return sorted_d_k\n",
        "print(\"Dictionary sorted by keys: \",  sort_dict_keys(d))\n",
        "\n",
        "#sort using values\n",
        "def sort_dict_values(d):\n",
        "  l_v = []\n",
        "  sorted_d_v = dict()\n",
        "  temp_d = dict()\n",
        "  for v in d.values():\n",
        "    l_v.append(v)\n",
        "  l_v = sort_list(l_v)\n",
        "  for i in l_v:\n",
        "    for k,v in d.items():\n",
        "      if i == v:\n",
        "        temp_d = {k:v}\n",
        "        sorted_d_v = {**sorted_d_v, **temp_d}\n",
        "  return sorted_d_v\n",
        "    \n",
        "print(\"Dictionary sorted by values: \",sort_dict_values(d))\n",
        "sort_dict_values(d)\n"
      ],
      "metadata": {
        "id": "60Z1-mCFvf2e",
        "colab": {
          "base_uri": "https://localhost:8080/"
        },
        "outputId": "2ad7c30f-baf8-4708-fc69-b4ca12d69512"
      },
      "execution_count": 47,
      "outputs": [
        {
          "output_type": "stream",
          "name": "stdout",
          "text": [
            "Dictionary sorted by keys:  {1: 2, 3: 4, 5: 6, 'a': 54, 'b': 'c', 'e': 345, 'f': 23}\n",
            "Dictionary sorted by values:  {1: 2, 'f': 23, 'e': 345, 3: 4, 'a': 54, 5: 6, 'b': 'c'}\n"
          ]
        },
        {
          "output_type": "execute_result",
          "data": {
            "text/plain": [
              "{1: 2, 3: 4, 5: 6, 'a': 54, 'b': 'c', 'e': 345, 'f': 23}"
            ]
          },
          "metadata": {},
          "execution_count": 47
        }
      ]
    },
    {
      "cell_type": "code",
      "source": [
        ""
      ],
      "metadata": {
        "id": "yx9PIO-60c8Z"
      },
      "execution_count": null,
      "outputs": []
    }
  ]
}