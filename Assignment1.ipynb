{
  "nbformat": 4,
  "nbformat_minor": 0,
  "metadata": {
    "colab": {
      "name": "Assignment1.ipynb",
      "provenance": []
    },
    "kernelspec": {
      "name": "python3",
      "display_name": "Python 3"
    },
    "language_info": {
      "name": "python"
    }
  },
  "cells": [
    {
      "cell_type": "markdown",
      "source": [
        "1. In the below elements which of them are values or an expression? eg:- values can be\n",
        "integer or string and expressions will be mathematical operators.\n",
        " // * is expression\n",
        "'hello' is value\n",
        "-87.8  is value\n",
        "// - is expression\n",
        "/ is expression\n",
        "// + is expression\n",
        "6 is value"
      ],
      "metadata": {
        "id": "wxihSj-QkBnJ"
      }
    },
    {
      "cell_type": "markdown",
      "source": [
        "2. What is the difference between string and variable?\n",
        "\n",
        "Variable holds different values //\n",
        "String is a value or a collection of characters that can be stored in a variable. "
      ],
      "metadata": {
        "id": "Ij-C-T2HkZ1Q"
      }
    },
    {
      "cell_type": "code",
      "source": [
        "type('a')"
      ],
      "metadata": {
        "colab": {
          "base_uri": "https://localhost:8080/"
        },
        "id": "s98gSYV3lUE0",
        "outputId": "20f4b845-2f26-480e-eecd-7fc474a69852"
      },
      "execution_count": 9,
      "outputs": [
        {
          "output_type": "execute_result",
          "data": {
            "text/plain": [
              "str"
            ]
          },
          "metadata": {},
          "execution_count": 9
        }
      ]
    },
    {
      "cell_type": "markdown",
      "source": [
        "3. Describe three different data types.\n",
        "\n",
        "Integer - is a proper number without decimals\n",
        "Float - is a number with decimal points\n",
        "String - is an alphabet"
      ],
      "metadata": {
        "id": "KHKYboFXllrh"
      }
    },
    {
      "cell_type": "code",
      "source": [
        ""
      ],
      "metadata": {
        "id": "-r8eXSlymPLa"
      },
      "execution_count": null,
      "outputs": []
    },
    {
      "cell_type": "markdown",
      "source": [
        "What is an expression made up of? What do all expressions do?\n",
        " \n",
        " expression is made of mathematical operators and variables. They do calculations and give a result"
      ],
      "metadata": {
        "id": "zp4VDuy6mb20"
      }
    },
    {
      "cell_type": "code",
      "source": [
        ""
      ],
      "metadata": {
        "id": "2x6kpxsimkb7"
      },
      "execution_count": null,
      "outputs": []
    },
    {
      "cell_type": "markdown",
      "source": [
        "This assignment statements, like spam = 10. What is the difference between an\n",
        "expression and a statement?\n",
        " \n",
        "statement can be executed but not return anything. An expression is executed and gives a result which may or maynot be assigned to a variable. "
      ],
      "metadata": {
        "id": "DLiEDPn2nLry"
      }
    },
    {
      "cell_type": "code",
      "source": [
        ""
      ],
      "metadata": {
        "id": "bOvYOEhNoiq4"
      },
      "execution_count": null,
      "outputs": []
    },
    {
      "cell_type": "markdown",
      "source": [
        "After running the following code, what does the variable bacon contain?\n",
        "bacon = 22\n",
        "bacon + 1\n",
        " \n",
        " 22"
      ],
      "metadata": {
        "id": "jOzQY-Gcou_1"
      }
    },
    {
      "cell_type": "code",
      "source": [
        ""
      ],
      "metadata": {
        "id": "1l6BqqPIpAWR"
      },
      "execution_count": null,
      "outputs": []
    },
    {
      "cell_type": "markdown",
      "source": [
        "7. What should the values of the following two terms be?\n",
        "'spam' + 'spamspam'\n",
        "'spam' * 3\n",
        " \n",
        " 'spamspamspam'\n",
        "  \n",
        "  'spamspamspam'"
      ],
      "metadata": {
        "id": "Kcm1ChkZpFnw"
      }
    },
    {
      "cell_type": "markdown",
      "source": [
        "8. Why is eggs a valid variable name while 100 is invalid?\n",
        " \n",
        " 100 is an integer so we cant assign one muber to another like 1 = 2"
      ],
      "metadata": {
        "id": "HWCya0Ejpfou"
      }
    },
    {
      "cell_type": "code",
      "source": [
        ""
      ],
      "metadata": {
        "id": "p7QJHG41xuh3"
      },
      "execution_count": null,
      "outputs": []
    },
    {
      "cell_type": "markdown",
      "source": [
        "What three functions can be used to get the integer, floating-point number, or string version of a value?\n",
        "\n",
        "int()\n",
        " \n",
        " float()\n",
        "  \n",
        "  str()"
      ],
      "metadata": {
        "id": "5OhGCa-NxvKa"
      }
    },
    {
      "cell_type": "code",
      "source": [
        "a = 100.2345\n",
        "str(a)"
      ],
      "metadata": {
        "colab": {
          "base_uri": "https://localhost:8080/",
          "height": 35
        },
        "id": "9iWBfmQex1K1",
        "outputId": "50f3b266-afcd-4cfc-837e-662740a2f75a"
      },
      "execution_count": 17,
      "outputs": [
        {
          "output_type": "execute_result",
          "data": {
            "text/plain": [
              "'100.2345'"
            ],
            "application/vnd.google.colaboratory.intrinsic+json": {
              "type": "string"
            }
          },
          "metadata": {},
          "execution_count": 17
        }
      ]
    },
    {
      "cell_type": "code",
      "source": [
        ""
      ],
      "metadata": {
        "id": "8e-vuK8Px5k4"
      },
      "execution_count": null,
      "outputs": []
    },
    {
      "cell_type": "markdown",
      "source": [
        "Why does this expression cause an error? How can you fix it? 'I have eaten' + 99 +'burritos'\n",
        " \n",
        " 'I have eaten' + ' 99 ' +'burritos'"
      ],
      "metadata": {
        "id": "5E-NQ990yGLm"
      }
    },
    {
      "cell_type": "code",
      "source": [
        ""
      ],
      "metadata": {
        "id": "sFKTELoHyXNk"
      },
      "execution_count": null,
      "outputs": []
    }
  ]
}