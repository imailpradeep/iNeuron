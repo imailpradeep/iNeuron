{
  "nbformat": 4,
  "nbformat_minor": 0,
  "metadata": {
    "colab": {
      "name": "Programming_Assignment13.ipynb",
      "provenance": [],
      "collapsed_sections": []
    },
    "kernelspec": {
      "name": "python3",
      "display_name": "Python 3"
    },
    "language_info": {
      "name": "python"
    }
  },
  "cells": [
    {
      "cell_type": "markdown",
      "source": [
        "Question 1:\n",
        "Write a program that calculates and prints the value according to the given formula:\n",
        "Q = Square root of [(2 * C * D)/H]\n",
        "Following are the fixed values of C and H:\n",
        "C is 50. H is 30.\n",
        "D is the variable whose values should be input to your program in a comma-separated\n",
        "sequence.\n",
        "Example\n",
        "Let us assume the following comma separated input sequence is given to the program:\n",
        "100,150,180\n",
        "The output of the program should be:\n",
        "18,22,24"
      ],
      "metadata": {
        "id": "xuHromSDNUa1"
      }
    },
    {
      "cell_type": "code",
      "source": [
        "import math\n",
        "\n",
        "\n",
        "def Q(dvalues):\n",
        "    f = []\n",
        "    for i in dvalues:\n",
        "        Q1 = math.sqrt(10 * i / 3)\n",
        "        f.append(Q1)\n",
        "    return f\n",
        "\n",
        "str_numbers = input(\"Enter the numbers separated by commas: \")\n",
        "l = str_numbers.split(\",\")\n",
        "l1=[]\n",
        "l1 = [int(i) for i in l]\n",
        "\n",
        "f = Q(l1)\n",
        "# to get output in the format required\n",
        "for i in range(len(f)):\n",
        "  if i == len(f)-1:\n",
        "    print(f[i])\n",
        "  else:\n",
        "    print(f[i], end = \", \")"
      ],
      "metadata": {
        "colab": {
          "base_uri": "https://localhost:8080/"
        },
        "id": "eOe5835SNTfj",
        "outputId": "00b06be9-5716-4374-bf15-446fe64bc183"
      },
      "execution_count": null,
      "outputs": [
        {
          "output_type": "stream",
          "name": "stdout",
          "text": [
            "Enter the numbers separated by commas: 1,5,9\n",
            "1.8257418583505538, 4.08248290463863, 5.477225575051661\n"
          ]
        }
      ]
    },
    {
      "cell_type": "markdown",
      "source": [
        "Question 2:\n",
        "Write a program which takes 2 digits, X,Y as input and generates a 2-dimensional array. The\n",
        "element value in the i-th row and j-th column of the array should be i*j.\n",
        "Note: i=0,1.., X-1; j=0,1,¡Y-1.\n",
        "Example\n",
        "Suppose the following inputs are given to the program:\n",
        "3,5\n",
        "Then, the output of the program should be:\n",
        "[[0, 0, 0, 0, 0], [0, 1, 2, 3, 4], [0, 2, 4, 6, 8]]"
      ],
      "metadata": {
        "id": "mJ-hqqef1WeU"
      }
    },
    {
      "cell_type": "code",
      "source": [
        "str_numbers = input(\"Enter the two numbers separated by commas: \")\n",
        "l = str_numbers.split(\",\")\n",
        "l1=[]\n",
        "l1 = [int(i) for i in l]\n",
        "\n",
        "output_array = []\n",
        "for i in range(l1[0]):\n",
        "  l2 = []\n",
        "  for j in range(l1[1]):\n",
        "    l2.append(i*j)\n",
        "  output_array.append(l2)\n",
        "\n",
        "print(output_array)\n",
        "\n"
      ],
      "metadata": {
        "id": "6djNEFkLNTdI",
        "colab": {
          "base_uri": "https://localhost:8080/"
        },
        "outputId": "1a66d6b1-7c59-4a80-e676-bf090a651aeb"
      },
      "execution_count": null,
      "outputs": [
        {
          "output_type": "stream",
          "name": "stdout",
          "text": [
            "Enter the two numbers separated by commas: 3,5\n",
            "[[0, 0, 0, 0, 0], [0, 1, 2, 3, 4], [0, 2, 4, 6, 8]]\n"
          ]
        }
      ]
    },
    {
      "cell_type": "markdown",
      "source": [
        "Question 3:\n",
        "Write a program that accepts a comma separated sequence of words as input and prints the\n",
        "words in a comma-separated sequence after sorting them alphabetically.\n",
        "Suppose the following input is supplied to the program:\n",
        "without,hello,bag,world\n",
        "Then, the output should be:\n",
        "bag,hello,without,world"
      ],
      "metadata": {
        "id": "zhGgN7i_5C6Y"
      }
    },
    {
      "cell_type": "code",
      "source": [
        "str_input = input(\"Enter the words separated by commas: \")\n",
        "str_list = str_input.split(\",\")\n",
        "str_list.sort()\n",
        "\n",
        "# to get output in the format required\n",
        "for i in range(len(str_list)):\n",
        "  if i == len(str_list)-1:\n",
        "    print(str_list[i])\n",
        "  else:\n",
        "    print(str_list[i], end = \", \")"
      ],
      "metadata": {
        "id": "xcG-wFcvNTZ6",
        "colab": {
          "base_uri": "https://localhost:8080/"
        },
        "outputId": "3581bdaf-bcc8-48f6-ba0b-25081d52fbd4"
      },
      "execution_count": null,
      "outputs": [
        {
          "output_type": "stream",
          "name": "stdout",
          "text": [
            "Enter the words separated by commas: wer,asdf,reh\n",
            "asdf, reh, wer\n"
          ]
        }
      ]
    },
    {
      "cell_type": "markdown",
      "source": [
        "Question 4:\n",
        "Write a program that accepts a sequence of whitespace separated words as input and prints\n",
        "the words after removing all duplicate words and sorting them alphanumerically.\n",
        "Suppose the following input is supplied to the program:\n",
        "hello world and practice makes perfect and hello world again\n",
        "Then, the output should be:\n",
        "again and hello makes perfect practice world"
      ],
      "metadata": {
        "id": "8ltamZi7DnQ-"
      }
    },
    {
      "cell_type": "code",
      "source": [
        "str_input = input(\"Enter the words separated by whitespace: \")\n",
        "str_list = str_input.split(\" \")\n",
        "\n",
        "# to remove duplicates\n",
        "str_set = set(str_list)\n",
        "str_list = list(str_set)\n",
        "str_list.sort()\n",
        "\n",
        "# to get output in the format required\n",
        "for i in range(len(str_list)):\n",
        "  if i == len(str_list)-1:\n",
        "    print(str_list[i])\n",
        "  else:\n",
        "    print(str_list[i], end = \" \")\n"
      ],
      "metadata": {
        "colab": {
          "base_uri": "https://localhost:8080/"
        },
        "id": "V4kUcLn05CGq",
        "outputId": "26e91358-4544-4404-e6bf-9e0aac6aa1eb"
      },
      "execution_count": null,
      "outputs": [
        {
          "output_type": "stream",
          "name": "stdout",
          "text": [
            "Enter the words separated by whitespace: sf sf ewrt gfn asdf\n",
            "asdf, ewrt, gfn, sf\n"
          ]
        }
      ]
    },
    {
      "cell_type": "markdown",
      "source": [
        "Question 5:\n",
        "Write a program that accepts a sentence and calculate the number of letters and digits.\n",
        "Suppose the following input is supplied to the program:\n",
        "hello world! 123\n",
        "Then, the output should be:\n",
        "LETTERS 10\n",
        "\n",
        "DIGITS 3"
      ],
      "metadata": {
        "id": "Uvi5jnfHG9jC"
      }
    },
    {
      "cell_type": "code",
      "source": [
        "import string\n",
        "str_input = input(\"Enter the sentence: \")\n",
        "count_letters, count_digits, count_special = 0,0,0\n",
        "for i in str_input:\n",
        "  try:\n",
        "    int(i)\n",
        "    count_digits += 1\n",
        "  except:\n",
        "    if i in string.ascii_letters:\n",
        "      count_letters += 1\n",
        "    else:\n",
        "      count_special +=1\n",
        "\n",
        "print(f\"LETTERS {count_letters} DIGITS {count_digits}\")\n"
      ],
      "metadata": {
        "colab": {
          "base_uri": "https://localhost:8080/"
        },
        "id": "tf_LOwN15CDK",
        "outputId": "74763857-cb5a-4667-eb38-30dbcaa4f166"
      },
      "execution_count": null,
      "outputs": [
        {
          "output_type": "stream",
          "name": "stdout",
          "text": [
            "Enter the sentence: dgh23 asg; dfw8\n",
            "LETTERS 9 DIGITS 3\n"
          ]
        }
      ]
    },
    {
      "cell_type": "markdown",
      "source": [
        "Question 6:\n",
        "A website requires the users to input username and password to register. Write a program to\n",
        "check the validity of password input by users.\n",
        "Following are the criteria for checking the password:\n",
        "1. At least 1 letter between [a-z]\n",
        "2. At least 1 number between [0-9]\n",
        "1. At least 1 letter between [A-Z]\n",
        "3. At least 1 character from [$#@]\n",
        "4. Minimum length of transaction password: 6\n",
        "5. Maximum length of transaction password: 12\n",
        "Your program should accept a sequence of comma separated passwords and will check them\n",
        "according to the above criteria. Passwords that match the criteria are to be printed, each\n",
        "separated by a comma.\n",
        "Example\n",
        "If the following passwords are given as input to the program:\n",
        "ABd1234@1,a F1#,2w3E*,2We3345\n",
        "Then, the output of the program should be:\n",
        "ABd1234@1"
      ],
      "metadata": {
        "id": "_Za0f0LOw2DN"
      }
    },
    {
      "cell_type": "code",
      "source": [
        "import string\n",
        "pswd_input = input(\"Enter the list of passwords separated by comma: \")\n",
        "pswd_list = pswd_input.split(\",\")\n",
        "\n",
        "list_numbers = ['0','1','2','3','4','5','6','7','8','9']\n",
        "list_sp_char = ['$','#','@']\n",
        "final_list = []\n",
        "\n",
        "for i in pswd_list:\n",
        "  if (len(i)>5 and len(i)<13):\n",
        "    flag = 1\n",
        "    count_lower, count_upper, count_digit, count_sp_char, flag = 0,0,0,0,0\n",
        "    for j in i:\n",
        "      if j in string.ascii_lowercase:\n",
        "        count_lower +=1\n",
        "      if j in list_numbers:\n",
        "        count_digit += 1\n",
        "      if j in string.ascii_uppercase:\n",
        "        count_upper += 1\n",
        "      if j in list_sp_char:\n",
        "        count_sp_char += 1\n",
        "    if (count_lower>0 and count_upper>0 and count_digit>0 and count_sp_char>0 ):\n",
        "      print(i)\n"
      ],
      "metadata": {
        "id": "Rt8r2ujb5CAY",
        "colab": {
          "base_uri": "https://localhost:8080/"
        },
        "outputId": "d88e1334-5d68-4d94-9d8e-1e35fa284a8e"
      },
      "execution_count": 15,
      "outputs": [
        {
          "output_type": "stream",
          "name": "stdout",
          "text": [
            "Enter the list of passwords separated by comma: ABd1234@1,a F1#,2w3E*,2We3345\n",
            "ABd1234@1\n"
          ]
        }
      ]
    },
    {
      "cell_type": "code",
      "source": [
        ""
      ],
      "metadata": {
        "id": "IIjZgY0YNTXZ",
        "colab": {
          "base_uri": "https://localhost:8080/",
          "height": 130
        },
        "outputId": "644c8238-77e6-43fe-c60e-57ec1d37a726"
      },
      "execution_count": 10,
      "outputs": [
        {
          "output_type": "error",
          "ename": "SyntaxError",
          "evalue": "ignored",
          "traceback": [
            "\u001b[0;36m  File \u001b[0;32m\"<ipython-input-10-cc35a7963146>\"\u001b[0;36m, line \u001b[0;32m1\u001b[0m\n\u001b[0;31m    [count = 1 for ele in 'zsdff': if ele == 'z']\u001b[0m\n\u001b[0m           ^\u001b[0m\n\u001b[0;31mSyntaxError\u001b[0m\u001b[0;31m:\u001b[0m invalid syntax\n"
          ]
        }
      ]
    },
    {
      "cell_type": "code",
      "execution_count": null,
      "metadata": {
        "id": "F66pnaUrNMkm"
      },
      "outputs": [],
      "source": [
        ""
      ]
    }
  ]
}