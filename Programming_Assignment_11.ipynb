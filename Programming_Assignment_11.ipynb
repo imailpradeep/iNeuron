{
  "nbformat": 4,
  "nbformat_minor": 0,
  "metadata": {
    "colab": {
      "name": " Programming Assignment_11.ipynb",
      "provenance": [],
      "collapsed_sections": []
    },
    "kernelspec": {
      "name": "python3",
      "display_name": "Python 3"
    },
    "language_info": {
      "name": "python"
    }
  },
  "cells": [
    {
      "cell_type": "markdown",
      "source": [
        "1. Write a Python program to find words which are greater than given length k?"
      ],
      "metadata": {
        "id": "--VxSByt4KqS"
      }
    },
    {
      "cell_type": "code",
      "source": [
        "strg = \"\"\"Recent Examples on the Web: Noun Since then, Republicans have turned against the legislation, with only one GOP lawmaker supporting passage in the House last week.\n",
        "— Farnoush Amiri And Lisa Mascaro, Chicago Tribune, 26 May 2022 By 2019, following Michigan’s passage of Proposal 1, vendors peddling cannabis and CBD accessories popped up onsite.\n",
        "— Brian Mccollum, Detroit Free Press, 26 May 2022 The Alaska Reads Act’s passage, which was unanimous in the Senate and approved in a 21-19 vote in the House, came after years of work from the measure’s proponents, including Begich and members of Dunleavy’s administration.\n",
        "— Iris Samuels, Anchorage Daily News, 25 May 2022\"\"\"\n",
        "\n",
        "long_words = []\n",
        "for ele in strg.split(\" \"):\n",
        "  if len(ele)>5:\n",
        "    long_words.append(ele)\n",
        "\n",
        "print(long_words)"
      ],
      "metadata": {
        "colab": {
          "base_uri": "https://localhost:8080/"
        },
        "id": "ELFK6Jpp4NZL",
        "outputId": "2df9b46d-ad9e-4a14-c99c-526b7aa60e01"
      },
      "execution_count": 9,
      "outputs": [
        {
          "output_type": "stream",
          "name": "stdout",
          "text": [
            "['Recent', 'Examples', 'Republicans', 'turned', 'against', 'legislation,', 'lawmaker', 'supporting', 'passage', 'week.\\n—', 'Farnoush', 'Mascaro,', 'Chicago', 'Tribune,', 'following', 'Michigan’s', 'passage', 'Proposal', 'vendors', 'peddling', 'cannabis', 'accessories', 'popped', 'onsite.\\n—', 'Mccollum,', 'Detroit', 'Press,', 'Alaska', 'passage,', 'unanimous', 'Senate', 'approved', 'House,', 'measure’s', 'proponents,', 'including', 'Begich', 'members', 'Dunleavy’s', 'administration.\\n—', 'Samuels,', 'Anchorage']\n"
          ]
        }
      ]
    },
    {
      "cell_type": "markdown",
      "source": [
        "2. Write a Python program for removing i-th character from a string?"
      ],
      "metadata": {
        "id": "t-m5gb7s4Km-"
      }
    },
    {
      "cell_type": "code",
      "source": [
        "i = 3\n",
        "strg = \"Republicans\"\n",
        "strg.replace(strg[i], \"\")"
      ],
      "metadata": {
        "colab": {
          "base_uri": "https://localhost:8080/",
          "height": 35
        },
        "id": "X8FluMkT4Otz",
        "outputId": "cfd71d6f-f4af-46a5-b327-e27659c3f079"
      },
      "execution_count": null,
      "outputs": [
        {
          "output_type": "execute_result",
          "data": {
            "text/plain": [
              "'Repblicans'"
            ],
            "application/vnd.google.colaboratory.intrinsic+json": {
              "type": "string"
            }
          },
          "metadata": {},
          "execution_count": 5
        }
      ]
    },
    {
      "cell_type": "markdown",
      "source": [
        "3. Write a Python program to split and join a string?"
      ],
      "metadata": {
        "id": "F-sgDTx04KkE"
      }
    },
    {
      "cell_type": "code",
      "source": [
        "strg = \"Republicans\"\n",
        "strg1 = strg[:4]\n",
        "strg2 = strg[4:]\n",
        "print(strg1 + \" \" + strg2)\n",
        "strg3 = strg1+strg2\n",
        "print(strg3)"
      ],
      "metadata": {
        "colab": {
          "base_uri": "https://localhost:8080/"
        },
        "id": "fU8Emvp44RSp",
        "outputId": "50f7114a-d072-4b00-9211-602c51a5190f"
      },
      "execution_count": 13,
      "outputs": [
        {
          "output_type": "stream",
          "name": "stdout",
          "text": [
            "Repu blicans\n",
            "Republicans\n"
          ]
        }
      ]
    },
    {
      "cell_type": "markdown",
      "source": [
        "4. Write a Python to check if a given string is binary string or not?"
      ],
      "metadata": {
        "id": "uE6PLJcp4Kg6"
      }
    },
    {
      "cell_type": "code",
      "source": [
        "s = \"101110011001\"\n",
        "flag = 0\n",
        "for i in s:\n",
        "  if i != '1' and i != '0':\n",
        "    flag = 1\n",
        "    break\n",
        "  else:\n",
        "    flag = 0\n",
        "if flag == 1:\n",
        "  print(\"Not binary\")\n",
        "else:\n",
        "  print(\"binary\")"
      ],
      "metadata": {
        "id": "RxqJwIU64UXT",
        "colab": {
          "base_uri": "https://localhost:8080/"
        },
        "outputId": "30c12c51-6fd7-4638-98a2-d567febb2edd"
      },
      "execution_count": null,
      "outputs": [
        {
          "output_type": "stream",
          "name": "stdout",
          "text": [
            "binary\n"
          ]
        }
      ]
    },
    {
      "cell_type": "markdown",
      "source": [
        "5. Write a Python program to find uncommon words from two Strings?"
      ],
      "metadata": {
        "id": "oC25CA5N4KdA"
      }
    },
    {
      "cell_type": "code",
      "source": [
        "s1 = \"dgfsjf hlkyrfu itguitgp oit;itp; iugjgl lhglhg;h yeriryedriyd dhsxdgjs ehys\"\n",
        "s2 = \"dgfsjf hlkyrfu itguitgp oit;itp; yupyp lhglhg;h yeriryedriyd dhsxdgjs fd\"\n",
        "\n",
        "l1 = s1.split()\n",
        "l2 = s2.split()\n",
        "l3 =[]\n",
        "for i in l1:\n",
        "  if i not in l2:\n",
        "    l3.append(i)\n",
        "for i in l2:\n",
        "  if i not in l1:\n",
        "    l3.append(i)\n",
        "l3"
      ],
      "metadata": {
        "id": "ihEGolYz4KLk",
        "colab": {
          "base_uri": "https://localhost:8080/"
        },
        "outputId": "17b1723d-816c-4dd1-a5ce-c6fe692d0675"
      },
      "execution_count": null,
      "outputs": [
        {
          "output_type": "execute_result",
          "data": {
            "text/plain": [
              "['iugjgl', 'ehys', 'yupyp', 'fd']"
            ]
          },
          "metadata": {},
          "execution_count": 11
        }
      ]
    },
    {
      "cell_type": "markdown",
      "source": [
        "6. Write a Python to find all duplicate characters in string?"
      ],
      "metadata": {
        "id": "-6VgHIr34YEJ"
      }
    },
    {
      "cell_type": "code",
      "source": [
        "s = \"td,c,yiutyufyjdfcxfgcjy\"\n",
        "dup = []\n",
        "for i in s:\n",
        "  if s.count(i)>1:\n",
        "    dup.append(i)\n",
        "dup\n"
      ],
      "metadata": {
        "id": "i1s31bEG4KId",
        "colab": {
          "base_uri": "https://localhost:8080/"
        },
        "outputId": "38c8ff0e-e583-45b8-a3cd-433771e52768"
      },
      "execution_count": 1,
      "outputs": [
        {
          "output_type": "execute_result",
          "data": {
            "text/plain": [
              "['t',\n",
              " 'd',\n",
              " ',',\n",
              " 'c',\n",
              " ',',\n",
              " 'y',\n",
              " 'u',\n",
              " 't',\n",
              " 'y',\n",
              " 'u',\n",
              " 'f',\n",
              " 'y',\n",
              " 'j',\n",
              " 'd',\n",
              " 'f',\n",
              " 'c',\n",
              " 'f',\n",
              " 'c',\n",
              " 'j',\n",
              " 'y']"
            ]
          },
          "metadata": {},
          "execution_count": 1
        }
      ]
    },
    {
      "cell_type": "markdown",
      "source": [
        "7. Write a Python Program to check if a string contains any special character?"
      ],
      "metadata": {
        "id": "UzrmH0Iy4csR"
      }
    },
    {
      "cell_type": "code",
      "source": [
        "sp_char = ['~', ':', \"'\", '+', '[', '\\\\', '@', '^', '{', '%', '(', '-', '\"', '*', '|', ',', '&', '<', '`', '}', '.', '_', '=', ']', '!', '>', ';', '?', '#', '$', ')', '/']\n",
        "check_str = input(\"Enter character: \")\n",
        "sp_in_str = []\n",
        "for ele in check_str:\n",
        "  if ele in sp_char:\n",
        "    sp_in_str.append(ele)\n",
        "\n",
        "print(f\"You entered {check_str}, It contains the special characters in the list {sp_in_str} \")\n"
      ],
      "metadata": {
        "id": "2E0nqJuW4KFd",
        "colab": {
          "base_uri": "https://localhost:8080/"
        },
        "outputId": "4b508bfa-2d6f-4933-f1ba-b4c8b9774058"
      },
      "execution_count": 3,
      "outputs": [
        {
          "output_type": "stream",
          "name": "stdout",
          "text": [
            "Enter character: fol.lk;j\n",
            "You entered fol.lk;j, It contains the special characters in the list ['.', ';'] \n"
          ]
        }
      ]
    },
    {
      "cell_type": "code",
      "source": [
        "from string import punctuation\n",
        "check_str = input(\"Enter character: \")\n",
        "sp_in_str = []\n",
        "for ele in check_str:\n",
        "  if ele in punctuation:\n",
        "    sp_in_str.append(ele)\n",
        "\n",
        "print(f\"You entered {check_str}, It contains the special characters in the list {sp_in_str} \")"
      ],
      "metadata": {
        "id": "_6vCgFgt4KCV",
        "colab": {
          "base_uri": "https://localhost:8080/"
        },
        "outputId": "0d4d607b-679b-48ef-f24f-32d1c0855f75"
      },
      "execution_count": 7,
      "outputs": [
        {
          "output_type": "stream",
          "name": "stdout",
          "text": [
            "Enter character: flyfrft./Lhyiuti\n",
            "You entered flyfrft./Lhyiuti, It contains the special characters in the list ['.', '/'] \n"
          ]
        }
      ]
    },
    {
      "cell_type": "code",
      "execution_count": 8,
      "metadata": {
        "id": "iUAM1l514En4"
      },
      "outputs": [],
      "source": [
        ""
      ]
    },
    {
      "cell_type": "code",
      "source": [
        ""
      ],
      "metadata": {
        "id": "PiltiQwUxCo_"
      },
      "execution_count": null,
      "outputs": []
    }
  ]
}