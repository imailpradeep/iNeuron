{
  "nbformat": 4,
  "nbformat_minor": 0,
  "metadata": {
    "colab": {
      "name": "Programming_Assignment4.ipynb",
      "provenance": [],
      "collapsed_sections": []
    },
    "kernelspec": {
      "name": "python3",
      "display_name": "Python 3"
    },
    "language_info": {
      "name": "python"
    }
  },
  "cells": [
    {
      "cell_type": "code",
      "execution_count": null,
      "metadata": {
        "id": "FSlDFruahCF3"
      },
      "outputs": [],
      "source": [
        ""
      ]
    },
    {
      "cell_type": "markdown",
      "source": [
        "1. Write a Python Program to Find the Factorial of a Number?"
      ],
      "metadata": {
        "id": "Dhlz-M8rhLH1"
      }
    },
    {
      "cell_type": "code",
      "source": [
        "num = int(input(\"Enter the number to find the factorial: \"))\n",
        "a=1\n",
        "for i in range(1,num):\n",
        "  a = a*(i+1)\n",
        "print(a)"
      ],
      "metadata": {
        "colab": {
          "base_uri": "https://localhost:8080/"
        },
        "id": "dXnNyGDzhMrN",
        "outputId": "d0dec1f9-5739-4b47-fad6-10a596096e15"
      },
      "execution_count": 5,
      "outputs": [
        {
          "output_type": "stream",
          "name": "stdout",
          "text": [
            "Enter the number to find the factorial: 11\n",
            "39916800\n"
          ]
        }
      ]
    },
    {
      "cell_type": "markdown",
      "source": [
        "2. Write a Python Program to Display the multiplication Table?"
      ],
      "metadata": {
        "id": "qKu4A0V5i254"
      }
    },
    {
      "cell_type": "code",
      "source": [
        "num = int(input(\"Enter the number to find the multiplication table: \"))\n",
        "for i in range(0,num+1):\n",
        "  ans = i*num\n",
        "  print(f\"{i} x {num} = {ans}\")\n"
      ],
      "metadata": {
        "colab": {
          "base_uri": "https://localhost:8080/"
        },
        "id": "N0I5fM7nhLon",
        "outputId": "366e0fcf-2e72-4a66-b6bf-a237956047ec"
      },
      "execution_count": 8,
      "outputs": [
        {
          "output_type": "stream",
          "name": "stdout",
          "text": [
            "Enter the number to find the factorial: 20\n",
            "0 x 20 = 0\n",
            "1 x 20 = 20\n",
            "2 x 20 = 40\n",
            "3 x 20 = 60\n",
            "4 x 20 = 80\n",
            "5 x 20 = 100\n",
            "6 x 20 = 120\n",
            "7 x 20 = 140\n",
            "8 x 20 = 160\n",
            "9 x 20 = 180\n",
            "10 x 20 = 200\n",
            "11 x 20 = 220\n",
            "12 x 20 = 240\n",
            "13 x 20 = 260\n",
            "14 x 20 = 280\n",
            "15 x 20 = 300\n",
            "16 x 20 = 320\n",
            "17 x 20 = 340\n",
            "18 x 20 = 360\n",
            "19 x 20 = 380\n",
            "20 x 20 = 400\n"
          ]
        }
      ]
    },
    {
      "cell_type": "markdown",
      "source": [
        "3. Write a Python Program to Print the Fibonacci sequence?"
      ],
      "metadata": {
        "id": "bvEgW5pyjsc7"
      }
    },
    {
      "cell_type": "code",
      "source": [
        "num = int(input(\"Enter the number for fibonacci sequence: \"))\n",
        "a = [0,1]\n",
        "print(a[1])\n",
        "for i in range(2,num+1):\n",
        "  a.append(a[i-2] + a[i-1])\n",
        "  print(a[i])\n"
      ],
      "metadata": {
        "colab": {
          "base_uri": "https://localhost:8080/"
        },
        "id": "571n2RWkjeqg",
        "outputId": "288e9fbd-82fe-4f87-dba7-5f0b142d4ae4"
      },
      "execution_count": 27,
      "outputs": [
        {
          "output_type": "stream",
          "name": "stdout",
          "text": [
            "Enter the number for fibonacci sequence: 10\n",
            "1\n",
            "1\n",
            "2\n",
            "3\n",
            "5\n",
            "8\n",
            "13\n",
            "21\n",
            "34\n",
            "55\n"
          ]
        }
      ]
    },
    {
      "cell_type": "markdown",
      "source": [
        "4. Write a Python Program to Check Armstrong Number?"
      ],
      "metadata": {
        "id": "AVqVCjm2my1y"
      }
    },
    {
      "cell_type": "code",
      "source": [
        "num = (input(\"Enter a number to check Armstrong nature: \"))\n",
        "digits = len(num)\n",
        "number = int(num)\n",
        "ans = 0\n",
        "for i in range(0,digits):\n",
        "  ans += int(num[i])**3\n",
        "if (ans == number):\n",
        "  print(f\"{num} is an Angstrom number\")\n",
        "else:\n",
        "  print(f\"{num} is not an Angstrom number\")"
      ],
      "metadata": {
        "colab": {
          "base_uri": "https://localhost:8080/"
        },
        "id": "cS7tAia1j7YZ",
        "outputId": "19b6377c-c740-4214-91bf-4967cd034550"
      },
      "execution_count": 33,
      "outputs": [
        {
          "output_type": "stream",
          "name": "stdout",
          "text": [
            "Enter a number to check Armstrong nature: 153\n",
            "153 is an Angstrom number\n"
          ]
        }
      ]
    },
    {
      "cell_type": "markdown",
      "source": [
        "5. Write a Python Program to Find Armstrong Number in an Interval?"
      ],
      "metadata": {
        "id": "7qVy6AkirMRl"
      }
    },
    {
      "cell_type": "code",
      "source": [
        "def check_angstrom(num):\n",
        "  str_num = str(num)\n",
        "  digits = len(str_num)\n",
        "  number = int(num)\n",
        "  ans = 0\n",
        "  for i in range(0,digits):\n",
        "    ans += int(str_num[i])**3\n",
        "  if (ans == number):\n",
        "    return ans\n",
        "\n",
        "first_num = int(input(\"Enter the first number: \"))\n",
        "second_num = int(input(\"Enter the second number: \"))\n",
        "\n",
        "for i in range (first_num, second_num):\n",
        "  angstrom_num = check_angstrom(i)\n",
        "  if (angstrom_num != None):\n",
        "    print(angstrom_num)\n"
      ],
      "metadata": {
        "colab": {
          "base_uri": "https://localhost:8080/"
        },
        "id": "8vit55FAj7VX",
        "outputId": "7f3d4722-f985-4760-a77e-b4cf834d2dca"
      },
      "execution_count": 45,
      "outputs": [
        {
          "output_type": "stream",
          "name": "stdout",
          "text": [
            "Enter the first number: 100\n",
            "Enter the second number: 200\n",
            "153\n"
          ]
        }
      ]
    },
    {
      "cell_type": "markdown",
      "source": [
        "6. Write a Python Program to Find the Sum of Natural Numbers?"
      ],
      "metadata": {
        "id": "auW9y-m_wF6k"
      }
    },
    {
      "cell_type": "code",
      "source": [
        "num = int(input(\"Enter the number to find sum: \"))\n",
        "sum = int(num*(num+1)/2)\n",
        "print(f\"Sum of first n natural numbers is {sum}\")"
      ],
      "metadata": {
        "colab": {
          "base_uri": "https://localhost:8080/"
        },
        "id": "UwbhXHCMj7FU",
        "outputId": "380f126d-6935-4662-eb88-0ff13a82af94"
      },
      "execution_count": 50,
      "outputs": [
        {
          "output_type": "stream",
          "name": "stdout",
          "text": [
            "Enter the number to find sum: 200\n",
            "Sum of first n natural numbers is 20100\n"
          ]
        }
      ]
    },
    {
      "cell_type": "markdown",
      "source": [
        ""
      ],
      "metadata": {
        "id": "a_AKjHlJwtrW"
      }
    },
    {
      "cell_type": "code",
      "source": [
        ""
      ],
      "metadata": {
        "id": "0-v9DLF0wuhl"
      },
      "execution_count": null,
      "outputs": []
    }
  ]
}