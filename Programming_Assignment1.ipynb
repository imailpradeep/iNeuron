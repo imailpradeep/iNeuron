{
  "nbformat": 4,
  "nbformat_minor": 0,
  "metadata": {
    "colab": {
      "name": "Programming_Assignment1.ipynb",
      "provenance": [],
      "collapsed_sections": []
    },
    "kernelspec": {
      "name": "python3",
      "display_name": "Python 3"
    },
    "language_info": {
      "name": "python"
    }
  },
  "cells": [
    {
      "cell_type": "markdown",
      "source": [
        "1. Write a Python program to print &quot;Hello Python&quot;?"
      ],
      "metadata": {
        "id": "cclOyNQ0Go1s"
      }
    },
    {
      "cell_type": "code",
      "execution_count": null,
      "metadata": {
        "colab": {
          "base_uri": "https://localhost:8080/"
        },
        "id": "UnlTtk_0Gnyo",
        "outputId": "5dba141f-23c2-4163-c4ac-d6c5e81c2023"
      },
      "outputs": [
        {
          "output_type": "stream",
          "name": "stdout",
          "text": [
            "Hello Python\n",
            "\"Hello Python\"\n"
          ]
        }
      ],
      "source": [
        "print(\"Hello Python\")\n",
        "print('\"Hello Python\"')"
      ]
    },
    {
      "cell_type": "markdown",
      "source": [
        "2. Write a Python program to do arithmetical operations addition and division.?"
      ],
      "metadata": {
        "id": "tGw9zZL7G6Xp"
      }
    },
    {
      "cell_type": "code",
      "source": [
        "s = input(\"Type a for addition and d for division : \")\n",
        "num1 = float(input(\" Enter the first number or numerator: \"))\n",
        "num2 = float(input(\" Enter the second number or denominator: \"))\n",
        "try:\n",
        "  if (s.lower() == 'a'):\n",
        "    ans = num1 + num2\n",
        "  elif (s.lower() == 'd'):\n",
        "    ans = num1 / num2\n",
        "  else:\n",
        "    print(\"Smarty\")\n",
        "  print (ans)\n",
        "except:\n",
        "  print(\"Try again\")\n"
      ],
      "metadata": {
        "colab": {
          "base_uri": "https://localhost:8080/"
        },
        "id": "gbW5MmRJHRkr",
        "outputId": "ca43461f-9a04-450d-c57b-6e02427c0eda"
      },
      "execution_count": 8,
      "outputs": [
        {
          "output_type": "stream",
          "name": "stdout",
          "text": [
            "Type a for addition and d for division : a\n",
            " Enter the first number or numerator: 34\n",
            " Enter the second number or denominator: 3456\n",
            "3490.0\n"
          ]
        }
      ]
    },
    {
      "cell_type": "markdown",
      "source": [
        "3. Write a Python program to find the area of a triangle?"
      ],
      "metadata": {
        "id": "NKsQlZdgT9n6"
      }
    },
    {
      "cell_type": "code",
      "source": [
        "num1 = float(input(\" Enter the base : \"))\n",
        "num2 = float(input(\" Enter the height: \"))\n",
        "area = 0.5*num1*num2\n",
        "print(area)"
      ],
      "metadata": {
        "colab": {
          "base_uri": "https://localhost:8080/"
        },
        "id": "VRn4MmiVUBRS",
        "outputId": "cd55fc2c-65e5-4ac4-d501-1b632ff7aecb"
      },
      "execution_count": 9,
      "outputs": [
        {
          "output_type": "stream",
          "name": "stdout",
          "text": [
            " Enter the base : 435\n",
            " Enter the height: 345.6\n",
            "75168.0\n"
          ]
        }
      ]
    },
    {
      "cell_type": "markdown",
      "source": [
        "4. Write a Python program to swap two variables?"
      ],
      "metadata": {
        "id": "DXVGWo93Uct6"
      }
    },
    {
      "cell_type": "code",
      "source": [
        "num1 = input(\" Enter the value of string variable A : \")\n",
        "num2 = int(input(\" Enter the  value of integer variable B : \"))\n",
        "\n",
        "print (f'{num2} is the number and {num1} is the string')\n",
        "\n",
        "num1,num2=num2,num1\n",
        "\n",
        "print (f'{num2} is the string and {num1} is the number')\n"
      ],
      "metadata": {
        "colab": {
          "base_uri": "https://localhost:8080/"
        },
        "id": "WQ0T-J_vUcVG",
        "outputId": "47655ab4-4417-4ef7-ebf0-baf9d7a63ebc"
      },
      "execution_count": 21,
      "outputs": [
        {
          "output_type": "stream",
          "name": "stdout",
          "text": [
            " Enter the value of string variable A : sehtfghedr\n",
            " Enter the  value of integer variable B : 267427642746\n",
            "267427642746 is the number and sehtfghedr is the string\n",
            "sehtfghedr is the string and 267427642746 is the number\n"
          ]
        }
      ]
    },
    {
      "cell_type": "markdown",
      "source": [
        "Write a Python program to generate a random number?"
      ],
      "metadata": {
        "id": "LwQBJaIXhqpm"
      }
    },
    {
      "cell_type": "code",
      "source": [
        "import random\n",
        "\n",
        "a = random.randint(1,100)\n",
        "print(a)"
      ],
      "metadata": {
        "colab": {
          "base_uri": "https://localhost:8080/"
        },
        "id": "kPsFXBBuhsoa",
        "outputId": "9166832b-0234-4104-c5c3-9d2884258f2c"
      },
      "execution_count": 25,
      "outputs": [
        {
          "output_type": "stream",
          "name": "stdout",
          "text": [
            "65\n"
          ]
        }
      ]
    },
    {
      "cell_type": "code",
      "source": [
        ""
      ],
      "metadata": {
        "id": "0lyW9xDtGwKw"
      },
      "execution_count": null,
      "outputs": []
    }
  ]
}