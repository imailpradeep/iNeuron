{
  "nbformat": 4,
  "nbformat_minor": 0,
  "metadata": {
    "colab": {
      "provenance": []
    },
    "kernelspec": {
      "name": "python3",
      "display_name": "Python 3"
    },
    "language_info": {
      "name": "python"
    }
  },
  "cells": [
    {
      "cell_type": "markdown",
      "source": [
        "Question 1:<br>\n",
        "Please write a program using generator to print the numbers which can be divisible by 5 and\n",
        "7 between 0 and n in comma separated form while n is input by console.\n",
        "Example:<br>\n",
        "If the following n is given as input to the program:\n",
        "100\n",
        "Then, the output of the program should be:\n",
        "0,35,70\n",
        "<br>\n",
        "Question 2:<br>\n",
        "Please write a program using generator to print the even numbers between 0 and n in comma\n",
        "separated form while n is input by console.\n",
        "Example:<br>\n",
        "If the following n is given as input to the program:\n",
        "10<br>\n",
        "Then, the output of the program should be:\n",
        "0,2,4,6,8,10\n",
        "<br>\n",
        "Question 3:<br>\n",
        "The Fibonacci Sequence is computed based on the following formula:\n",
        "f(n)=0 if n=0<br>\n",
        "f(n)=1 if n=1<br>\n",
        "f(n)=f(n-1)+f(n-2) if n&gt;1<br>\n",
        "Please write a program using list comprehension to print the Fibonacci Sequence in comma\n",
        "separated form with a given n input by console.<br>\n",
        "Example:\n",
        "If the following n is given as input to the program:\n",
        "7\n",
        "<br>\n",
        "Then, the output of the program should be:\n",
        "0,1,1,2,3,5,8,13\n",
        "<br>\n",
        "Question 4:<br>\n",
        "Assuming that we have some email addresses in the &quot;username@companyname.com&quot; format,\n",
        "please write program to print the user name of a given email address. Both user names and\n",
        "company names are composed of letters only.<br>\n",
        "Example:<br>\n",
        "If the following email address is given as input to the program:\n",
        "john@google.com<br>\n",
        "Then, the output of the program should be:\n",
        "john<br>\n",
        "\n",
        "Question 5:<br>\n",
        "Define a class named Shape and its subclass Square. The Square class has an init function\n",
        "which takes a length as argument. Both classes have a area function which can print the area\n",
        "of the shape where Shape&#39;s area is 0 by default.<br>"
      ],
      "metadata": {
        "id": "eN-a53p0nNG8"
      }
    },
    {
      "cell_type": "markdown",
      "source": [
        "\n",
        "Question 1:\n",
        "Please write a program using generator to print the numbers which can be divisible by 5 and 7 between 0 and n in comma separated form while n is input by console. <br> Example:\n",
        "If the following n is given as input to the program:<br> 100 <br>Then, the output of the program should be:<br> 0,35,70<br>"
      ],
      "metadata": {
        "id": "Y5QiZdd6qD1U"
      }
    },
    {
      "cell_type": "code",
      "execution_count": null,
      "metadata": {
        "id": "zfkmeeAlnCd0",
        "colab": {
          "base_uri": "https://localhost:8080/"
        },
        "outputId": "1af3eaa8-5af6-4829-9202-15548e885f65"
      },
      "outputs": [
        {
          "output_type": "stream",
          "name": "stdout",
          "text": [
            "0,35,70,"
          ]
        }
      ],
      "source": [
        "def Seven_Five_Generator(n):\n",
        "  for i in range(n+1):\n",
        "    if (i%5 +i%7) == 0:\n",
        "      yield i\n",
        "\n",
        "for value in Seven_Five_Generator(100):\n",
        "  print(f\"{value},\",end=\"\")"
      ]
    },
    {
      "cell_type": "markdown",
      "source": [
        "Question 2:\n",
        "Please write a program using generator to print the even numbers between 0 and n in comma separated form while n is input by console."
      ],
      "metadata": {
        "id": "ftFME88OclRH"
      }
    },
    {
      "cell_type": "code",
      "source": [
        "def even(n):\n",
        "  for i in range(n+1):\n",
        "    if i%2 == 0:\n",
        "      yield i\n",
        "\n",
        "for value in even(24):\n",
        "  print(f\"{value},\",end=\"\")"
      ],
      "metadata": {
        "colab": {
          "base_uri": "https://localhost:8080/"
        },
        "id": "DxIWNiKRnVZP",
        "outputId": "d0ba78a0-1cbe-4c00-d5e9-3e8226ce0370"
      },
      "execution_count": null,
      "outputs": [
        {
          "output_type": "stream",
          "name": "stdout",
          "text": [
            "0,2,4,6,8,10,12,14,16,18,20,22,24,"
          ]
        }
      ]
    },
    {
      "cell_type": "markdown",
      "source": [
        "Question 3: <br>\n",
        "The Fibonacci Sequence is computed based on the following formula: <br>\n",
        "f(n)=0 if n=0 <br>\n",
        "f(n)=1 if n=1 <br>\n",
        "f(n)=f(n-1)+f(n-2) if n>1 <br>\n",
        "Please write a program using list comprehension to print the Fibonacci Sequence in comma separated form with a given n input by console."
      ],
      "metadata": {
        "id": "DvPb99X3d23K"
      }
    },
    {
      "cell_type": "code",
      "source": [
        "def fibonacci(max):\n",
        "    a, b = 0, 1\n",
        "    while a < max:\n",
        "        yield a\n",
        "        a, b = b, a+b\n",
        "\n",
        "print([x for x in fibonacci(100)])"
      ],
      "metadata": {
        "colab": {
          "base_uri": "https://localhost:8080/"
        },
        "id": "xVNyZAM0lngQ",
        "outputId": "db4b1f79-065c-4bca-e0d9-a0f27fd2163c"
      },
      "execution_count": 46,
      "outputs": [
        {
          "output_type": "stream",
          "name": "stdout",
          "text": [
            "[0, 1, 1, 2, 3, 5, 8, 13, 21, 34, 55, 89]\n"
          ]
        }
      ]
    },
    {
      "cell_type": "code",
      "source": [
        "n = int(input(\"Enter the n value: \"))\n",
        "x = [0,1]\n",
        "for i in range(2,n):\n",
        "  fb = x[i-1]+ x[i-2]\n",
        "  x.append(fb)\n",
        "x\n"
      ],
      "metadata": {
        "id": "nXItrjgnbMhD",
        "colab": {
          "base_uri": "https://localhost:8080/"
        },
        "outputId": "a95f5867-9e4e-41cf-c220-639e5bfaa254"
      },
      "execution_count": 38,
      "outputs": [
        {
          "name": "stdout",
          "output_type": "stream",
          "text": [
            "Enter the n value: 5\n"
          ]
        },
        {
          "output_type": "execute_result",
          "data": {
            "text/plain": [
              "[0, 1, 1, 2, 3]"
            ]
          },
          "metadata": {},
          "execution_count": 38
        }
      ]
    },
    {
      "cell_type": "code",
      "source": [
        "def fib():\n",
        "  n = int(input(\"Enter the n value: \"))\n",
        "  \n",
        "  if n == 0:\n",
        "    x = [0]\n",
        "  if n == 1:\n",
        "    x = [0,1]\n",
        "  if n>1:\n",
        "    a = [0,1]\n",
        "    x = [a[i-1]+a[i-2] for i in range(2,n+1)]\n",
        "  return x\n",
        "\n",
        "fib()"
      ],
      "metadata": {
        "colab": {
          "base_uri": "https://localhost:8080/",
          "height": 378
        },
        "id": "a_aOGAJenqgz",
        "outputId": "d772a976-1ad4-44a5-b961-8f4a155c95b8"
      },
      "execution_count": 80,
      "outputs": [
        {
          "name": "stdout",
          "output_type": "stream",
          "text": [
            "Enter the n value: 5\n"
          ]
        },
        {
          "output_type": "error",
          "ename": "IndexError",
          "evalue": "ignored",
          "traceback": [
            "\u001b[0;31m---------------------------------------------------------------------------\u001b[0m",
            "\u001b[0;31mIndexError\u001b[0m                                Traceback (most recent call last)",
            "\u001b[0;32m<ipython-input-80-55a13dad8c97>\u001b[0m in \u001b[0;36m<module>\u001b[0;34m\u001b[0m\n\u001b[1;32m     11\u001b[0m   \u001b[0;32mreturn\u001b[0m \u001b[0mx\u001b[0m\u001b[0;34m\u001b[0m\u001b[0;34m\u001b[0m\u001b[0m\n\u001b[1;32m     12\u001b[0m \u001b[0;34m\u001b[0m\u001b[0m\n\u001b[0;32m---> 13\u001b[0;31m \u001b[0mfib\u001b[0m\u001b[0;34m(\u001b[0m\u001b[0;34m)\u001b[0m\u001b[0;34m\u001b[0m\u001b[0;34m\u001b[0m\u001b[0m\n\u001b[0m",
            "\u001b[0;32m<ipython-input-80-55a13dad8c97>\u001b[0m in \u001b[0;36mfib\u001b[0;34m()\u001b[0m\n\u001b[1;32m      8\u001b[0m   \u001b[0;32mif\u001b[0m \u001b[0mn\u001b[0m\u001b[0;34m>\u001b[0m\u001b[0;36m1\u001b[0m\u001b[0;34m:\u001b[0m\u001b[0;34m\u001b[0m\u001b[0;34m\u001b[0m\u001b[0m\n\u001b[1;32m      9\u001b[0m     \u001b[0ma\u001b[0m \u001b[0;34m=\u001b[0m \u001b[0;34m[\u001b[0m\u001b[0;36m0\u001b[0m\u001b[0;34m,\u001b[0m\u001b[0;36m1\u001b[0m\u001b[0;34m]\u001b[0m\u001b[0;34m\u001b[0m\u001b[0;34m\u001b[0m\u001b[0m\n\u001b[0;32m---> 10\u001b[0;31m     \u001b[0mx\u001b[0m \u001b[0;34m=\u001b[0m \u001b[0;34m[\u001b[0m\u001b[0ma\u001b[0m\u001b[0;34m[\u001b[0m\u001b[0mi\u001b[0m\u001b[0;34m-\u001b[0m\u001b[0;36m1\u001b[0m\u001b[0;34m]\u001b[0m\u001b[0;34m+\u001b[0m\u001b[0ma\u001b[0m\u001b[0;34m[\u001b[0m\u001b[0mi\u001b[0m\u001b[0;34m-\u001b[0m\u001b[0;36m2\u001b[0m\u001b[0;34m]\u001b[0m \u001b[0;32mfor\u001b[0m \u001b[0mi\u001b[0m \u001b[0;32min\u001b[0m \u001b[0mrange\u001b[0m\u001b[0;34m(\u001b[0m\u001b[0;36m2\u001b[0m\u001b[0;34m,\u001b[0m\u001b[0mn\u001b[0m\u001b[0;34m+\u001b[0m\u001b[0;36m1\u001b[0m\u001b[0;34m)\u001b[0m\u001b[0;34m]\u001b[0m\u001b[0;34m\u001b[0m\u001b[0;34m\u001b[0m\u001b[0m\n\u001b[0m\u001b[1;32m     11\u001b[0m   \u001b[0;32mreturn\u001b[0m \u001b[0mx\u001b[0m\u001b[0;34m\u001b[0m\u001b[0;34m\u001b[0m\u001b[0m\n\u001b[1;32m     12\u001b[0m \u001b[0;34m\u001b[0m\u001b[0m\n",
            "\u001b[0;32m<ipython-input-80-55a13dad8c97>\u001b[0m in \u001b[0;36m<listcomp>\u001b[0;34m(.0)\u001b[0m\n\u001b[1;32m      8\u001b[0m   \u001b[0;32mif\u001b[0m \u001b[0mn\u001b[0m\u001b[0;34m>\u001b[0m\u001b[0;36m1\u001b[0m\u001b[0;34m:\u001b[0m\u001b[0;34m\u001b[0m\u001b[0;34m\u001b[0m\u001b[0m\n\u001b[1;32m      9\u001b[0m     \u001b[0ma\u001b[0m \u001b[0;34m=\u001b[0m \u001b[0;34m[\u001b[0m\u001b[0;36m0\u001b[0m\u001b[0;34m,\u001b[0m\u001b[0;36m1\u001b[0m\u001b[0;34m]\u001b[0m\u001b[0;34m\u001b[0m\u001b[0;34m\u001b[0m\u001b[0m\n\u001b[0;32m---> 10\u001b[0;31m     \u001b[0mx\u001b[0m \u001b[0;34m=\u001b[0m \u001b[0;34m[\u001b[0m\u001b[0ma\u001b[0m\u001b[0;34m[\u001b[0m\u001b[0mi\u001b[0m\u001b[0;34m-\u001b[0m\u001b[0;36m1\u001b[0m\u001b[0;34m]\u001b[0m\u001b[0;34m+\u001b[0m\u001b[0ma\u001b[0m\u001b[0;34m[\u001b[0m\u001b[0mi\u001b[0m\u001b[0;34m-\u001b[0m\u001b[0;36m2\u001b[0m\u001b[0;34m]\u001b[0m \u001b[0;32mfor\u001b[0m \u001b[0mi\u001b[0m \u001b[0;32min\u001b[0m \u001b[0mrange\u001b[0m\u001b[0;34m(\u001b[0m\u001b[0;36m2\u001b[0m\u001b[0;34m,\u001b[0m\u001b[0mn\u001b[0m\u001b[0;34m+\u001b[0m\u001b[0;36m1\u001b[0m\u001b[0;34m)\u001b[0m\u001b[0;34m]\u001b[0m\u001b[0;34m\u001b[0m\u001b[0;34m\u001b[0m\u001b[0m\n\u001b[0m\u001b[1;32m     11\u001b[0m   \u001b[0;32mreturn\u001b[0m \u001b[0mx\u001b[0m\u001b[0;34m\u001b[0m\u001b[0;34m\u001b[0m\u001b[0m\n\u001b[1;32m     12\u001b[0m \u001b[0;34m\u001b[0m\u001b[0m\n",
            "\u001b[0;31mIndexError\u001b[0m: list index out of range"
          ]
        }
      ]
    },
    {
      "cell_type": "code",
      "source": [
        "x = [i for i in range(10)]\n",
        "[x[i-1]+x[i-2] for i in range(2,10)]\n"
      ],
      "metadata": {
        "colab": {
          "base_uri": "https://localhost:8080/"
        },
        "id": "liTzH6dLp6ef",
        "outputId": "faf91264-e953-4e28-8b90-0b80794de635"
      },
      "execution_count": 76,
      "outputs": [
        {
          "output_type": "execute_result",
          "data": {
            "text/plain": [
              "[1, 3, 5, 7, 9, 11, 13, 15]"
            ]
          },
          "metadata": {},
          "execution_count": 76
        }
      ]
    },
    {
      "cell_type": "markdown",
      "source": [
        "Question 4:\n",
        "Assuming that we have some email addresses in the \"username@companyname.com\" format, please write program to print the user name of a given email address. Both user names and company names are composed of letters only."
      ],
      "metadata": {
        "id": "EwD4NClHgLqv"
      }
    },
    {
      "cell_type": "code",
      "source": [
        "email = input(\"Enter the company name: \")\n",
        "user_name = email.split('@')[0]\n",
        "user_name"
      ],
      "metadata": {
        "colab": {
          "base_uri": "https://localhost:8080/",
          "height": 54
        },
        "id": "4EULsjiXgLY_",
        "outputId": "6cebb2fc-3c3c-49a0-84e3-e0e22b90c1bb"
      },
      "execution_count": 22,
      "outputs": [
        {
          "name": "stdout",
          "output_type": "stream",
          "text": [
            "Enter the company name: pradeepbhaskar@tesla.com\n"
          ]
        },
        {
          "output_type": "execute_result",
          "data": {
            "text/plain": [
              "'pradeepbhaskar'"
            ],
            "application/vnd.google.colaboratory.intrinsic+json": {
              "type": "string"
            }
          },
          "metadata": {},
          "execution_count": 22
        }
      ]
    },
    {
      "cell_type": "markdown",
      "source": [],
      "metadata": {
        "id": "cs_YucKGl4QF"
      }
    },
    {
      "cell_type": "markdown",
      "source": [
        "Question 5:<br>\n",
        "Define a class named Shape and its subclass Square. The Square class has an init function\n",
        "which takes a length as argument. Both classes have a area function which can print the area\n",
        "of the shape where Shape&#39;s area is 0 by default.<br>"
      ],
      "metadata": {
        "id": "NZGEppfKl4h9"
      }
    },
    {
      "cell_type": "code",
      "source": [
        "class shape:\n",
        "  def __init__(self, length):\n",
        "    self.length = length\n",
        "    self.area = 0\n",
        "  def square(self):\n",
        "    area = self.length*self.length\n",
        "    return area\n",
        "\n",
        "sq = shape(10)\n",
        "sq.square()"
      ],
      "metadata": {
        "colab": {
          "base_uri": "https://localhost:8080/"
        },
        "id": "YKwCcEQ3fwyv",
        "outputId": "1aa81fec-a364-484a-fc7e-0930a5f4b5a3"
      },
      "execution_count": 54,
      "outputs": [
        {
          "output_type": "execute_result",
          "data": {
            "text/plain": [
              "100"
            ]
          },
          "metadata": {},
          "execution_count": 54
        }
      ]
    },
    {
      "cell_type": "code",
      "source": [],
      "metadata": {
        "id": "ZPHaS74CmzrF"
      },
      "execution_count": null,
      "outputs": []
    }
  ]
}