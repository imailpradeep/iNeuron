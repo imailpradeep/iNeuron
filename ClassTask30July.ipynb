{
  "nbformat": 4,
  "nbformat_minor": 0,
  "metadata": {
    "colab": {
      "name": "Temp1.ipynb",
      "provenance": [],
      "collapsed_sections": []
    },
    "kernelspec": {
      "name": "python3",
      "display_name": "Python 3"
    },
    "language_info": {
      "name": "python"
    }
  },
  "cells": [
    {
      "cell_type": "code",
      "execution_count": null,
      "metadata": {
        "id": "zuy4gWjWBKZ_"
      },
      "outputs": [],
      "source": [
        "import pandas as pd"
      ]
    },
    {
      "cell_type": "code",
      "source": [
        "df_login = pd.read_csv('LoginReport.csv', parse_dates = ['Date'])\n",
        "df_performance = pd.read_csv('Performance.csv', parse_dates = ['Date']) # without parse_dates getting error in dt. \n",
        "# unicode error hence uploaded to Colab manually"
      ],
      "metadata": {
        "id": "EM5ZDqAHCoQA"
      },
      "execution_count": null,
      "outputs": []
    },
    {
      "cell_type": "markdown",
      "source": [
        "**1 .Find out there avarage rating on weekly basis keep this in a mind that they take two days of leave** <br>\n",
        "*-not able to solve this*"
      ],
      "metadata": {
        "id": "JT0zekABfRTy"
      }
    },
    {
      "cell_type": "markdown",
      "source": [
        "**2 .Total working days for each agents** <br>\n",
        "*-Count the total hours logged and divided by 8 to get total working days but I donot know how to divide this sum*"
      ],
      "metadata": {
        "id": "SaN_MfRxTTqY"
      }
    },
    {
      "cell_type": "code",
      "source": [
        "df_login['Duration1'] = pd.to_timedelta(df_login['Duration'])"
      ],
      "metadata": {
        "id": "eJt4n0bnTVF_"
      },
      "execution_count": null,
      "outputs": []
    },
    {
      "cell_type": "code",
      "source": [
        "df_login.groupby('Agent')['Duration1'].sum().sort_values(ascending=False).head()"
      ],
      "metadata": {
        "colab": {
          "base_uri": "https://localhost:8080/"
        },
        "id": "9F2GqKy3TVCo",
        "outputId": "1eebbc6a-7de6-4830-90dc-ed04c11ad788"
      },
      "execution_count": null,
      "outputs": [
        {
          "output_type": "execute_result",
          "data": {
            "text/plain": [
              "Agent\n",
              "Tarun              21 days 10:08:20\n",
              "Deepranjan Gupta    4 days 10:16:31\n",
              "Jaydeep Dixit       2 days 11:50:26\n",
              "Hrisikesh Neogi     2 days 09:34:07\n",
              "Shubham Sharma      2 days 05:47:54\n",
              "Name: Duration1, dtype: timedelta64[ns]"
            ]
          },
          "metadata": {},
          "execution_count": 120
        }
      ]
    },
    {
      "cell_type": "markdown",
      "source": [
        "**3. Total query that agents have taken**"
      ],
      "metadata": {
        "id": "81ArCL9pVniB"
      }
    },
    {
      "cell_type": "code",
      "source": [
        "df_performance.groupby(['Agent Name'])['Total Chats'].sum().sort_values(ascending=False).head()"
      ],
      "metadata": {
        "id": "ba-26c4BCP15",
        "colab": {
          "base_uri": "https://localhost:8080/"
        },
        "outputId": "47aa2c3a-c686-4bc9-fd9c-5564f0a635f3"
      },
      "execution_count": null,
      "outputs": [
        {
          "output_type": "execute_result",
          "data": {
            "text/plain": [
              "Agent Name\n",
              "Hrisikesh Neogi    578\n",
              "Nandani Gupta      560\n",
              "Zeeshan            542\n",
              "Maitry             542\n",
              "Swati              524\n",
              "Name: Total Chats, dtype: int64"
            ]
          },
          "metadata": {},
          "execution_count": 118
        }
      ]
    },
    {
      "cell_type": "markdown",
      "source": [
        "**4. total Feedback that you have received**"
      ],
      "metadata": {
        "id": "RWDV9I3Uf4ht"
      }
    },
    {
      "cell_type": "code",
      "source": [
        "df_performance.groupby(['Agent Name'])['Total Feedback'].sum().sort_values(ascending=False).head()"
      ],
      "metadata": {
        "colab": {
          "base_uri": "https://localhost:8080/"
        },
        "id": "lpnQqdM0f8Fj",
        "outputId": "2310f115-006b-4d16-a2cd-9fecdf1ed5bc"
      },
      "execution_count": null,
      "outputs": [
        {
          "output_type": "execute_result",
          "data": {
            "text/plain": [
              "Agent Name\n",
              "Hrisikesh Neogi    367\n",
              "Mithun S           364\n",
              "Maitry             347\n",
              "Zeeshan            335\n",
              "Ayushi Mishra      329\n",
              "Name: Total Feedback, dtype: int64"
            ]
          },
          "metadata": {},
          "execution_count": 119
        }
      ]
    },
    {
      "cell_type": "markdown",
      "source": [
        "**5. a agent name who have average rating between 3.5 to 4**"
      ],
      "metadata": {
        "id": "Lq-wvkDigPWw"
      }
    },
    {
      "cell_type": "code",
      "source": [
        "Rating_data = df_performance.groupby(['Agent Name'])['Average Rating'].mean().sort_values(ascending=False)"
      ],
      "metadata": {
        "id": "e6QohFITffXB"
      },
      "execution_count": null,
      "outputs": []
    },
    {
      "cell_type": "code",
      "source": [
        "Rating_data.head()"
      ],
      "metadata": {
        "colab": {
          "base_uri": "https://localhost:8080/"
        },
        "id": "4ZWUW3egiVhM",
        "outputId": "5cbd3661-aee2-477f-8b52-86c38609563d"
      },
      "execution_count": null,
      "outputs": [
        {
          "output_type": "execute_result",
          "data": {
            "text/plain": [
              "Agent Name\n",
              "Shivananda Sonwane     4.232667\n",
              "Khushboo Priya         3.703667\n",
              "Manjunatha A           3.594667\n",
              "Boktiar Ahmed Bappy    3.568000\n",
              "Ishawant Kumar         3.543333\n",
              "Name: Average Rating, dtype: float64"
            ]
          },
          "metadata": {},
          "execution_count": 117
        }
      ]
    },
    {
      "cell_type": "code",
      "source": [
        "Rating_df = pd.DataFrame(Rating_data)"
      ],
      "metadata": {
        "id": "RKN-b2EKJ-_i"
      },
      "execution_count": null,
      "outputs": []
    },
    {
      "cell_type": "code",
      "source": [
        "Rating_df[(Rating_df['Average Rating']>3.5) & (Rating_df['Average Rating']<5)] # 'and' does not work"
      ],
      "metadata": {
        "id": "dCClIVCLRPSZ",
        "colab": {
          "base_uri": "https://localhost:8080/",
          "height": 237
        },
        "outputId": "e8a3650e-9552-4dcd-af22-7cc73faaa8b8"
      },
      "execution_count": null,
      "outputs": [
        {
          "output_type": "execute_result",
          "data": {
            "text/plain": [
              "                     Average Rating\n",
              "Agent Name                         \n",
              "Shivananda Sonwane         4.232667\n",
              "Khushboo Priya             3.703667\n",
              "Manjunatha A               3.594667\n",
              "Boktiar Ahmed Bappy        3.568000\n",
              "Ishawant Kumar             3.543333"
            ],
            "text/html": [
              "\n",
              "  <div id=\"df-1f84961c-d727-4897-a3fc-9cdccb01a37f\">\n",
              "    <div class=\"colab-df-container\">\n",
              "      <div>\n",
              "<style scoped>\n",
              "    .dataframe tbody tr th:only-of-type {\n",
              "        vertical-align: middle;\n",
              "    }\n",
              "\n",
              "    .dataframe tbody tr th {\n",
              "        vertical-align: top;\n",
              "    }\n",
              "\n",
              "    .dataframe thead th {\n",
              "        text-align: right;\n",
              "    }\n",
              "</style>\n",
              "<table border=\"1\" class=\"dataframe\">\n",
              "  <thead>\n",
              "    <tr style=\"text-align: right;\">\n",
              "      <th></th>\n",
              "      <th>Average Rating</th>\n",
              "    </tr>\n",
              "    <tr>\n",
              "      <th>Agent Name</th>\n",
              "      <th></th>\n",
              "    </tr>\n",
              "  </thead>\n",
              "  <tbody>\n",
              "    <tr>\n",
              "      <th>Shivananda Sonwane</th>\n",
              "      <td>4.232667</td>\n",
              "    </tr>\n",
              "    <tr>\n",
              "      <th>Khushboo Priya</th>\n",
              "      <td>3.703667</td>\n",
              "    </tr>\n",
              "    <tr>\n",
              "      <th>Manjunatha A</th>\n",
              "      <td>3.594667</td>\n",
              "    </tr>\n",
              "    <tr>\n",
              "      <th>Boktiar Ahmed Bappy</th>\n",
              "      <td>3.568000</td>\n",
              "    </tr>\n",
              "    <tr>\n",
              "      <th>Ishawant Kumar</th>\n",
              "      <td>3.543333</td>\n",
              "    </tr>\n",
              "  </tbody>\n",
              "</table>\n",
              "</div>\n",
              "      <button class=\"colab-df-convert\" onclick=\"convertToInteractive('df-1f84961c-d727-4897-a3fc-9cdccb01a37f')\"\n",
              "              title=\"Convert this dataframe to an interactive table.\"\n",
              "              style=\"display:none;\">\n",
              "        \n",
              "  <svg xmlns=\"http://www.w3.org/2000/svg\" height=\"24px\"viewBox=\"0 0 24 24\"\n",
              "       width=\"24px\">\n",
              "    <path d=\"M0 0h24v24H0V0z\" fill=\"none\"/>\n",
              "    <path d=\"M18.56 5.44l.94 2.06.94-2.06 2.06-.94-2.06-.94-.94-2.06-.94 2.06-2.06.94zm-11 1L8.5 8.5l.94-2.06 2.06-.94-2.06-.94L8.5 2.5l-.94 2.06-2.06.94zm10 10l.94 2.06.94-2.06 2.06-.94-2.06-.94-.94-2.06-.94 2.06-2.06.94z\"/><path d=\"M17.41 7.96l-1.37-1.37c-.4-.4-.92-.59-1.43-.59-.52 0-1.04.2-1.43.59L10.3 9.45l-7.72 7.72c-.78.78-.78 2.05 0 2.83L4 21.41c.39.39.9.59 1.41.59.51 0 1.02-.2 1.41-.59l7.78-7.78 2.81-2.81c.8-.78.8-2.07 0-2.86zM5.41 20L4 18.59l7.72-7.72 1.47 1.35L5.41 20z\"/>\n",
              "  </svg>\n",
              "      </button>\n",
              "      \n",
              "  <style>\n",
              "    .colab-df-container {\n",
              "      display:flex;\n",
              "      flex-wrap:wrap;\n",
              "      gap: 12px;\n",
              "    }\n",
              "\n",
              "    .colab-df-convert {\n",
              "      background-color: #E8F0FE;\n",
              "      border: none;\n",
              "      border-radius: 50%;\n",
              "      cursor: pointer;\n",
              "      display: none;\n",
              "      fill: #1967D2;\n",
              "      height: 32px;\n",
              "      padding: 0 0 0 0;\n",
              "      width: 32px;\n",
              "    }\n",
              "\n",
              "    .colab-df-convert:hover {\n",
              "      background-color: #E2EBFA;\n",
              "      box-shadow: 0px 1px 2px rgba(60, 64, 67, 0.3), 0px 1px 3px 1px rgba(60, 64, 67, 0.15);\n",
              "      fill: #174EA6;\n",
              "    }\n",
              "\n",
              "    [theme=dark] .colab-df-convert {\n",
              "      background-color: #3B4455;\n",
              "      fill: #D2E3FC;\n",
              "    }\n",
              "\n",
              "    [theme=dark] .colab-df-convert:hover {\n",
              "      background-color: #434B5C;\n",
              "      box-shadow: 0px 1px 3px 1px rgba(0, 0, 0, 0.15);\n",
              "      filter: drop-shadow(0px 1px 2px rgba(0, 0, 0, 0.3));\n",
              "      fill: #FFFFFF;\n",
              "    }\n",
              "  </style>\n",
              "\n",
              "      <script>\n",
              "        const buttonEl =\n",
              "          document.querySelector('#df-1f84961c-d727-4897-a3fc-9cdccb01a37f button.colab-df-convert');\n",
              "        buttonEl.style.display =\n",
              "          google.colab.kernel.accessAllowed ? 'block' : 'none';\n",
              "\n",
              "        async function convertToInteractive(key) {\n",
              "          const element = document.querySelector('#df-1f84961c-d727-4897-a3fc-9cdccb01a37f');\n",
              "          const dataTable =\n",
              "            await google.colab.kernel.invokeFunction('convertToInteractive',\n",
              "                                                     [key], {});\n",
              "          if (!dataTable) return;\n",
              "\n",
              "          const docLinkHtml = 'Like what you see? Visit the ' +\n",
              "            '<a target=\"_blank\" href=https://colab.research.google.com/notebooks/data_table.ipynb>data table notebook</a>'\n",
              "            + ' to learn more about interactive tables.';\n",
              "          element.innerHTML = '';\n",
              "          dataTable['output_type'] = 'display_data';\n",
              "          await google.colab.output.renderOutput(dataTable, element);\n",
              "          const docLink = document.createElement('div');\n",
              "          docLink.innerHTML = docLinkHtml;\n",
              "          element.appendChild(docLink);\n",
              "        }\n",
              "      </script>\n",
              "    </div>\n",
              "  </div>\n",
              "  "
            ]
          },
          "metadata": {},
          "execution_count": 114
        }
      ]
    },
    {
      "cell_type": "markdown",
      "source": [
        "**6 . Agent name who have rating lesss then 3.5**"
      ],
      "metadata": {
        "id": "fDbLQ8SxjfXc"
      }
    },
    {
      "cell_type": "code",
      "source": [
        "Rating_df[(Rating_df['Average Rating']<3.5)].head()"
      ],
      "metadata": {
        "id": "gR3ldvbRgXW5",
        "colab": {
          "base_uri": "https://localhost:8080/",
          "height": 237
        },
        "outputId": "2b83070e-1b65-4b13-f9c6-dda954f0442b"
      },
      "execution_count": null,
      "outputs": [
        {
          "output_type": "execute_result",
          "data": {
            "text/plain": [
              "                Average Rating\n",
              "Agent Name                    \n",
              "Madhulika G           3.498667\n",
              "Ayushi Mishra         3.482000\n",
              "Jawala Prakash        3.472000\n",
              "Sanjeev Kumar         3.383000\n",
              "Nishtha Jain          3.282333"
            ],
            "text/html": [
              "\n",
              "  <div id=\"df-ee747078-8fd1-4a9a-b4e2-a10ebf4f47f2\">\n",
              "    <div class=\"colab-df-container\">\n",
              "      <div>\n",
              "<style scoped>\n",
              "    .dataframe tbody tr th:only-of-type {\n",
              "        vertical-align: middle;\n",
              "    }\n",
              "\n",
              "    .dataframe tbody tr th {\n",
              "        vertical-align: top;\n",
              "    }\n",
              "\n",
              "    .dataframe thead th {\n",
              "        text-align: right;\n",
              "    }\n",
              "</style>\n",
              "<table border=\"1\" class=\"dataframe\">\n",
              "  <thead>\n",
              "    <tr style=\"text-align: right;\">\n",
              "      <th></th>\n",
              "      <th>Average Rating</th>\n",
              "    </tr>\n",
              "    <tr>\n",
              "      <th>Agent Name</th>\n",
              "      <th></th>\n",
              "    </tr>\n",
              "  </thead>\n",
              "  <tbody>\n",
              "    <tr>\n",
              "      <th>Madhulika G</th>\n",
              "      <td>3.498667</td>\n",
              "    </tr>\n",
              "    <tr>\n",
              "      <th>Ayushi Mishra</th>\n",
              "      <td>3.482000</td>\n",
              "    </tr>\n",
              "    <tr>\n",
              "      <th>Jawala Prakash</th>\n",
              "      <td>3.472000</td>\n",
              "    </tr>\n",
              "    <tr>\n",
              "      <th>Sanjeev Kumar</th>\n",
              "      <td>3.383000</td>\n",
              "    </tr>\n",
              "    <tr>\n",
              "      <th>Nishtha Jain</th>\n",
              "      <td>3.282333</td>\n",
              "    </tr>\n",
              "  </tbody>\n",
              "</table>\n",
              "</div>\n",
              "      <button class=\"colab-df-convert\" onclick=\"convertToInteractive('df-ee747078-8fd1-4a9a-b4e2-a10ebf4f47f2')\"\n",
              "              title=\"Convert this dataframe to an interactive table.\"\n",
              "              style=\"display:none;\">\n",
              "        \n",
              "  <svg xmlns=\"http://www.w3.org/2000/svg\" height=\"24px\"viewBox=\"0 0 24 24\"\n",
              "       width=\"24px\">\n",
              "    <path d=\"M0 0h24v24H0V0z\" fill=\"none\"/>\n",
              "    <path d=\"M18.56 5.44l.94 2.06.94-2.06 2.06-.94-2.06-.94-.94-2.06-.94 2.06-2.06.94zm-11 1L8.5 8.5l.94-2.06 2.06-.94-2.06-.94L8.5 2.5l-.94 2.06-2.06.94zm10 10l.94 2.06.94-2.06 2.06-.94-2.06-.94-.94-2.06-.94 2.06-2.06.94z\"/><path d=\"M17.41 7.96l-1.37-1.37c-.4-.4-.92-.59-1.43-.59-.52 0-1.04.2-1.43.59L10.3 9.45l-7.72 7.72c-.78.78-.78 2.05 0 2.83L4 21.41c.39.39.9.59 1.41.59.51 0 1.02-.2 1.41-.59l7.78-7.78 2.81-2.81c.8-.78.8-2.07 0-2.86zM5.41 20L4 18.59l7.72-7.72 1.47 1.35L5.41 20z\"/>\n",
              "  </svg>\n",
              "      </button>\n",
              "      \n",
              "  <style>\n",
              "    .colab-df-container {\n",
              "      display:flex;\n",
              "      flex-wrap:wrap;\n",
              "      gap: 12px;\n",
              "    }\n",
              "\n",
              "    .colab-df-convert {\n",
              "      background-color: #E8F0FE;\n",
              "      border: none;\n",
              "      border-radius: 50%;\n",
              "      cursor: pointer;\n",
              "      display: none;\n",
              "      fill: #1967D2;\n",
              "      height: 32px;\n",
              "      padding: 0 0 0 0;\n",
              "      width: 32px;\n",
              "    }\n",
              "\n",
              "    .colab-df-convert:hover {\n",
              "      background-color: #E2EBFA;\n",
              "      box-shadow: 0px 1px 2px rgba(60, 64, 67, 0.3), 0px 1px 3px 1px rgba(60, 64, 67, 0.15);\n",
              "      fill: #174EA6;\n",
              "    }\n",
              "\n",
              "    [theme=dark] .colab-df-convert {\n",
              "      background-color: #3B4455;\n",
              "      fill: #D2E3FC;\n",
              "    }\n",
              "\n",
              "    [theme=dark] .colab-df-convert:hover {\n",
              "      background-color: #434B5C;\n",
              "      box-shadow: 0px 1px 3px 1px rgba(0, 0, 0, 0.15);\n",
              "      filter: drop-shadow(0px 1px 2px rgba(0, 0, 0, 0.3));\n",
              "      fill: #FFFFFF;\n",
              "    }\n",
              "  </style>\n",
              "\n",
              "      <script>\n",
              "        const buttonEl =\n",
              "          document.querySelector('#df-ee747078-8fd1-4a9a-b4e2-a10ebf4f47f2 button.colab-df-convert');\n",
              "        buttonEl.style.display =\n",
              "          google.colab.kernel.accessAllowed ? 'block' : 'none';\n",
              "\n",
              "        async function convertToInteractive(key) {\n",
              "          const element = document.querySelector('#df-ee747078-8fd1-4a9a-b4e2-a10ebf4f47f2');\n",
              "          const dataTable =\n",
              "            await google.colab.kernel.invokeFunction('convertToInteractive',\n",
              "                                                     [key], {});\n",
              "          if (!dataTable) return;\n",
              "\n",
              "          const docLinkHtml = 'Like what you see? Visit the ' +\n",
              "            '<a target=\"_blank\" href=https://colab.research.google.com/notebooks/data_table.ipynb>data table notebook</a>'\n",
              "            + ' to learn more about interactive tables.';\n",
              "          element.innerHTML = '';\n",
              "          dataTable['output_type'] = 'display_data';\n",
              "          await google.colab.output.renderOutput(dataTable, element);\n",
              "          const docLink = document.createElement('div');\n",
              "          docLink.innerHTML = docLinkHtml;\n",
              "          element.appendChild(docLink);\n",
              "        }\n",
              "      </script>\n",
              "    </div>\n",
              "  </div>\n",
              "  "
            ]
          },
          "metadata": {},
          "execution_count": 116
        }
      ]
    },
    {
      "cell_type": "markdown",
      "source": [
        "**8 . how many feedaback agents have received more then 4.5 average**"
      ],
      "metadata": {
        "id": "UyAb-WSqklmQ"
      }
    },
    {
      "cell_type": "code",
      "source": [
        "Rating_df[(Rating_df['Average Rating']>4.5)].shape[0] # shape gives number of rows and columns as (r,c)"
      ],
      "metadata": {
        "id": "DXjbYGAbgXKG",
        "colab": {
          "base_uri": "https://localhost:8080/"
        },
        "outputId": "7ac15b96-6ceb-4eb6-ddb5-672542647fce"
      },
      "execution_count": null,
      "outputs": [
        {
          "output_type": "execute_result",
          "data": {
            "text/plain": [
              "0"
            ]
          },
          "metadata": {},
          "execution_count": 87
        }
      ]
    },
    {
      "cell_type": "markdown",
      "source": [
        "**7 . agent name who have rating more then 4.5** <br>\n",
        "*-I do not know to give 'NIL'*"
      ],
      "metadata": {
        "id": "GxvPb59JogeH"
      }
    },
    {
      "cell_type": "code",
      "source": [
        "Rating_df[(Rating_df['Average Rating']>4.5)].fillna('NIL')"
      ],
      "metadata": {
        "colab": {
          "base_uri": "https://localhost:8080/",
          "height": 81
        },
        "id": "pruS64eqlaIK",
        "outputId": "c93dfcfb-8877-4f90-f6d3-961525f0af13"
      },
      "execution_count": 183,
      "outputs": [
        {
          "output_type": "execute_result",
          "data": {
            "text/plain": [
              "Empty DataFrame\n",
              "Columns: [Average Rating]\n",
              "Index: []"
            ],
            "text/html": [
              "\n",
              "  <div id=\"df-71b866c3-de7c-4058-97c8-5005cb62499d\">\n",
              "    <div class=\"colab-df-container\">\n",
              "      <div>\n",
              "<style scoped>\n",
              "    .dataframe tbody tr th:only-of-type {\n",
              "        vertical-align: middle;\n",
              "    }\n",
              "\n",
              "    .dataframe tbody tr th {\n",
              "        vertical-align: top;\n",
              "    }\n",
              "\n",
              "    .dataframe thead th {\n",
              "        text-align: right;\n",
              "    }\n",
              "</style>\n",
              "<table border=\"1\" class=\"dataframe\">\n",
              "  <thead>\n",
              "    <tr style=\"text-align: right;\">\n",
              "      <th></th>\n",
              "      <th>Average Rating</th>\n",
              "    </tr>\n",
              "    <tr>\n",
              "      <th>Agent Name</th>\n",
              "      <th></th>\n",
              "    </tr>\n",
              "  </thead>\n",
              "  <tbody>\n",
              "  </tbody>\n",
              "</table>\n",
              "</div>\n",
              "      <button class=\"colab-df-convert\" onclick=\"convertToInteractive('df-71b866c3-de7c-4058-97c8-5005cb62499d')\"\n",
              "              title=\"Convert this dataframe to an interactive table.\"\n",
              "              style=\"display:none;\">\n",
              "        \n",
              "  <svg xmlns=\"http://www.w3.org/2000/svg\" height=\"24px\"viewBox=\"0 0 24 24\"\n",
              "       width=\"24px\">\n",
              "    <path d=\"M0 0h24v24H0V0z\" fill=\"none\"/>\n",
              "    <path d=\"M18.56 5.44l.94 2.06.94-2.06 2.06-.94-2.06-.94-.94-2.06-.94 2.06-2.06.94zm-11 1L8.5 8.5l.94-2.06 2.06-.94-2.06-.94L8.5 2.5l-.94 2.06-2.06.94zm10 10l.94 2.06.94-2.06 2.06-.94-2.06-.94-.94-2.06-.94 2.06-2.06.94z\"/><path d=\"M17.41 7.96l-1.37-1.37c-.4-.4-.92-.59-1.43-.59-.52 0-1.04.2-1.43.59L10.3 9.45l-7.72 7.72c-.78.78-.78 2.05 0 2.83L4 21.41c.39.39.9.59 1.41.59.51 0 1.02-.2 1.41-.59l7.78-7.78 2.81-2.81c.8-.78.8-2.07 0-2.86zM5.41 20L4 18.59l7.72-7.72 1.47 1.35L5.41 20z\"/>\n",
              "  </svg>\n",
              "      </button>\n",
              "      \n",
              "  <style>\n",
              "    .colab-df-container {\n",
              "      display:flex;\n",
              "      flex-wrap:wrap;\n",
              "      gap: 12px;\n",
              "    }\n",
              "\n",
              "    .colab-df-convert {\n",
              "      background-color: #E8F0FE;\n",
              "      border: none;\n",
              "      border-radius: 50%;\n",
              "      cursor: pointer;\n",
              "      display: none;\n",
              "      fill: #1967D2;\n",
              "      height: 32px;\n",
              "      padding: 0 0 0 0;\n",
              "      width: 32px;\n",
              "    }\n",
              "\n",
              "    .colab-df-convert:hover {\n",
              "      background-color: #E2EBFA;\n",
              "      box-shadow: 0px 1px 2px rgba(60, 64, 67, 0.3), 0px 1px 3px 1px rgba(60, 64, 67, 0.15);\n",
              "      fill: #174EA6;\n",
              "    }\n",
              "\n",
              "    [theme=dark] .colab-df-convert {\n",
              "      background-color: #3B4455;\n",
              "      fill: #D2E3FC;\n",
              "    }\n",
              "\n",
              "    [theme=dark] .colab-df-convert:hover {\n",
              "      background-color: #434B5C;\n",
              "      box-shadow: 0px 1px 3px 1px rgba(0, 0, 0, 0.15);\n",
              "      filter: drop-shadow(0px 1px 2px rgba(0, 0, 0, 0.3));\n",
              "      fill: #FFFFFF;\n",
              "    }\n",
              "  </style>\n",
              "\n",
              "      <script>\n",
              "        const buttonEl =\n",
              "          document.querySelector('#df-71b866c3-de7c-4058-97c8-5005cb62499d button.colab-df-convert');\n",
              "        buttonEl.style.display =\n",
              "          google.colab.kernel.accessAllowed ? 'block' : 'none';\n",
              "\n",
              "        async function convertToInteractive(key) {\n",
              "          const element = document.querySelector('#df-71b866c3-de7c-4058-97c8-5005cb62499d');\n",
              "          const dataTable =\n",
              "            await google.colab.kernel.invokeFunction('convertToInteractive',\n",
              "                                                     [key], {});\n",
              "          if (!dataTable) return;\n",
              "\n",
              "          const docLinkHtml = 'Like what you see? Visit the ' +\n",
              "            '<a target=\"_blank\" href=https://colab.research.google.com/notebooks/data_table.ipynb>data table notebook</a>'\n",
              "            + ' to learn more about interactive tables.';\n",
              "          element.innerHTML = '';\n",
              "          dataTable['output_type'] = 'display_data';\n",
              "          await google.colab.output.renderOutput(dataTable, element);\n",
              "          const docLink = document.createElement('div');\n",
              "          docLink.innerHTML = docLinkHtml;\n",
              "          element.appendChild(docLink);\n",
              "        }\n",
              "      </script>\n",
              "    </div>\n",
              "  </div>\n",
              "  "
            ]
          },
          "metadata": {},
          "execution_count": 183
        }
      ]
    },
    {
      "cell_type": "markdown",
      "source": [
        "**9 . average weekly response time for each agent**"
      ],
      "metadata": {
        "id": "yASqAjGrrTiH"
      }
    },
    {
      "cell_type": "code",
      "source": [
        "df_performance['Week'] = df_performance['Date'].dt.isocalendar().week"
      ],
      "metadata": {
        "id": "u5LTpu5Tq7BU"
      },
      "execution_count": null,
      "outputs": []
    },
    {
      "cell_type": "code",
      "source": [
        "df_performance['Average Response Time1'] = pd.to_timedelta(df_performance['Average Response Time'])\n",
        "Response_Time_data = df_performance.groupby(['Agent Name','Week'])['Average Response Time1'].mean()"
      ],
      "metadata": {
        "id": "PElX862ksBc3"
      },
      "execution_count": 148,
      "outputs": []
    },
    {
      "cell_type": "code",
      "source": [
        "Response_Time_data"
      ],
      "metadata": {
        "colab": {
          "base_uri": "https://localhost:8080/"
        },
        "id": "YNMIED-7wDGt",
        "outputId": "71a1d751-2018-438d-c6aa-a6540d62b042"
      },
      "execution_count": 149,
      "outputs": [
        {
          "output_type": "execute_result",
          "data": {
            "text/plain": [
              "Agent Name  Week\n",
              "Abhishek    1      0 days 00:00:00\n",
              "            6      0 days 00:00:00\n",
              "            10     0 days 00:00:00\n",
              "            14     0 days 00:00:00\n",
              "            18     0 days 00:00:00\n",
              "                         ...      \n",
              "Zeeshan     31     0 days 00:01:23\n",
              "            36     0 days 00:00:00\n",
              "            40     0 days 00:00:00\n",
              "            45     0 days 00:01:53\n",
              "            49     0 days 00:01:44\n",
              "Name: Average Response Time1, Length: 1050, dtype: timedelta64[ns]"
            ]
          },
          "metadata": {},
          "execution_count": 149
        }
      ]
    },
    {
      "cell_type": "markdown",
      "source": [
        "**10 . average weekely resolution time for each agents**"
      ],
      "metadata": {
        "id": "nsjvvIzvET9-"
      }
    },
    {
      "cell_type": "code",
      "source": [
        "df_performance['Average Resolution Time1'] = pd.to_timedelta(df_performance['Average Resolution Time'])\n",
        "Resolution_Time_data = df_performance.groupby(['Agent Name','Week'])['Average Resolution Time1'].mean()"
      ],
      "metadata": {
        "id": "3V62U_ZrETzf"
      },
      "execution_count": 151,
      "outputs": []
    },
    {
      "cell_type": "code",
      "source": [
        "Resolution_Time_data"
      ],
      "metadata": {
        "colab": {
          "base_uri": "https://localhost:8080/"
        },
        "id": "3hrfL6uoETwG",
        "outputId": "27a4e803-928c-4374-c074-193f8232822e"
      },
      "execution_count": 153,
      "outputs": [
        {
          "output_type": "execute_result",
          "data": {
            "text/plain": [
              "Agent Name  Week\n",
              "Abhishek    1      0 days 00:00:00\n",
              "            6      0 days 00:00:00\n",
              "            10     0 days 00:00:00\n",
              "            14     0 days 00:00:00\n",
              "            18     0 days 00:00:00\n",
              "                         ...      \n",
              "Zeeshan     31     0 days 00:21:15\n",
              "            36     0 days 00:00:00\n",
              "            40     0 days 00:00:00\n",
              "            45     0 days 00:24:05\n",
              "            49     0 days 00:25:50\n",
              "Name: Average Resolution Time1, Length: 1050, dtype: timedelta64[ns]"
            ]
          },
          "metadata": {},
          "execution_count": 153
        }
      ]
    },
    {
      "cell_type": "markdown",
      "source": [
        "**11 . list of all agents name**"
      ],
      "metadata": {
        "id": "qsCxPw8kEuwP"
      }
    },
    {
      "cell_type": "code",
      "source": [
        "df_performance['Agent Name'].unique()"
      ],
      "metadata": {
        "colab": {
          "base_uri": "https://localhost:8080/"
        },
        "id": "zcPoVEf4Euk3",
        "outputId": "06ee0c0b-fb13-4a0f-9fa4-774680044537"
      },
      "execution_count": 154,
      "outputs": [
        {
          "output_type": "execute_result",
          "data": {
            "text/plain": [
              "array(['Abhishek ', 'Aditya ', 'Aditya Shinde', 'Aditya_iot ', 'Amersh ',\n",
              "       'Ameya Jain', 'Anirudh ', 'Ankit Sharma', 'Ankitjha ',\n",
              "       'Anurag Tiwari', 'Aravind ', 'Ashad Nasim', 'Ashish ',\n",
              "       'Ayushi Mishra', 'Bharath ', 'Boktiar Ahmed Bappy',\n",
              "       'Chaitra K Hiremath', 'Deepranjan Gupta', 'Dibyanshu ',\n",
              "       'Harikrishnan Shaji', 'Hitesh Choudhary', 'Hrisikesh Neogi',\n",
              "       'Hyder Abbas', 'Ineuron Intelligence ', 'Ishawant Kumar',\n",
              "       'Jawala Prakash', 'Jayant Kumar', 'Jaydeep Dixit',\n",
              "       'Khushboo Priya', 'Madhulika G', 'Mahak ', 'Mahesh Sarade',\n",
              "       'Maitry ', 'Maneesh ', 'Manjunatha A', 'Mithun S', 'Mukesh ',\n",
              "       'Mukesh Rao ', 'Muskan Garg', 'Nandani Gupta', 'Nishtha Jain',\n",
              "       'Nitin M', 'Prabir Kumar Satapathy', 'Prateek _iot ',\n",
              "       'Prerna Singh', 'Rishav Dash', 'Rohan ', 'Saif Khan',\n",
              "       'Saikumarreddy N', 'Samprit ', 'Sandipan Saha', 'Sanjeev Kumar',\n",
              "       'Sanjeevan ', 'Saurabh Shukla', 'Shiva Srivastava', 'Shivan K',\n",
              "       'Shivan_S ', 'Shivananda Sonwane', 'Shubham Sharma',\n",
              "       'Sowmiya Sivakumar', 'Spuri ', 'Sudhanshu Kumar', 'Suraj S Bilgi',\n",
              "       'Swati ', 'Tarun ', 'Uday Mishra', 'Vasanth P', 'Vivek ', 'Wasim ',\n",
              "       'Zeeshan '], dtype=object)"
            ]
          },
          "metadata": {},
          "execution_count": 154
        }
      ]
    },
    {
      "cell_type": "markdown",
      "source": [
        "**12 . percentage of chat on which they have received a feedback**"
      ],
      "metadata": {
        "id": "Xq41TXpWFHkC"
      }
    },
    {
      "cell_type": "code",
      "source": [
        "df_performance['Percent Feedback'] = ((df_performance['Total Feedback']*100) / df_performance['Total Chats']).fillna(0)\n",
        "df_performance.groupby(['Agent Name'])['Percent Feedback'].mean().sort_values(ascending = False)"
      ],
      "metadata": {
        "colab": {
          "base_uri": "https://localhost:8080/"
        },
        "id": "K9PWeNbtEuh4",
        "outputId": "d052259a-8678-44af-d7f3-0eee3b8ed238"
      },
      "execution_count": 197,
      "outputs": [
        {
          "output_type": "execute_result",
          "data": {
            "text/plain": [
              "Agent Name\n",
              "Boktiar Ahmed Bappy      58.219228\n",
              "Khushboo Priya           57.218382\n",
              "Shivananda Sonwane       55.150435\n",
              "Nishtha Jain             52.935930\n",
              "Ishawant Kumar           52.642559\n",
              "                           ...    \n",
              "Sanjeevan                 0.000000\n",
              "Ankit Sharma              0.000000\n",
              "Samprit                   0.000000\n",
              "Ineuron Intelligence      0.000000\n",
              "Abhishek                  0.000000\n",
              "Name: Percent Feedback, Length: 70, dtype: float64"
            ]
          },
          "metadata": {},
          "execution_count": 197
        }
      ]
    },
    {
      "cell_type": "markdown",
      "source": [
        "**13 . Total contributation hour for each and every agents weekly basis**"
      ],
      "metadata": {
        "id": "DtxTG8r6Mfww"
      }
    },
    {
      "cell_type": "code",
      "source": [
        "df_login['Week'] = df_login['Date'].dt.isocalendar().week\n",
        "df_login.groupby(['Agent', 'Week'])['Duration1'].sum().sort_values(ascending=False)"
      ],
      "metadata": {
        "colab": {
          "base_uri": "https://localhost:8080/"
        },
        "id": "6SB2l3PSN0Mi",
        "outputId": "1cd15e5e-a481-4551-a0a7-f724855487df"
      },
      "execution_count": 188,
      "outputs": [
        {
          "output_type": "execute_result",
          "data": {
            "text/plain": [
              "Agent               Week\n",
              "Tarun               26     21 days 10:08:20\n",
              "Deepranjan Gupta    30      2 days 09:16:44\n",
              "                    29      2 days 00:59:47\n",
              "Jaydeep Dixit       29      1 days 17:54:52\n",
              "Harikrishnan Shaji  30      1 days 08:16:35\n",
              "                                 ...       \n",
              "Hyder Abbas         29      0 days 00:20:10\n",
              "Anurag Tiwari       29      0 days 00:15:52\n",
              "Aravind             30      0 days 00:03:49\n",
              "Hyder Abbas         30      0 days 00:03:07\n",
              "Aditya Shinde       30      0 days 00:02:10\n",
              "Name: Duration1, Length: 89, dtype: timedelta64[ns]"
            ]
          },
          "metadata": {},
          "execution_count": 188
        }
      ]
    },
    {
      "cell_type": "markdown",
      "source": [
        "**14. total percentage of active hour for a month**"
      ],
      "metadata": {
        "id": "e8FJ_kX1QANy"
      }
    },
    {
      "cell_type": "code",
      "source": [
        "df_login['Hours'] = (df_login['Duration1'].dt.total_seconds())/3600"
      ],
      "metadata": {
        "id": "QimOQE2YZ8W4"
      },
      "execution_count": 255,
      "outputs": []
    },
    {
      "cell_type": "code",
      "source": [
        "df_Active_Hours = pd.DataFrame(df_login.groupby(['Agent'])['Hours'].sum().sort_values(ascending=False))\n",
        "df_Active_Hours['Percentage_Active_Hours'] = (df_Active_Hours['Hours']*100)/173.5 # average work hours per month is 173.5"
      ],
      "metadata": {
        "id": "VX1uFo58avf0"
      },
      "execution_count": 256,
      "outputs": []
    },
    {
      "cell_type": "code",
      "source": [
        "df_Active_Hours.head()"
      ],
      "metadata": {
        "colab": {
          "base_uri": "https://localhost:8080/",
          "height": 237
        },
        "id": "0m_7Fq_xb3e9",
        "outputId": "5b98a45d-4603-4760-a268-ddbb15f763b8"
      },
      "execution_count": 257,
      "outputs": [
        {
          "output_type": "execute_result",
          "data": {
            "text/plain": [
              "                       Hours  Percentage_Active_Hours\n",
              "Agent                                                \n",
              "Tarun             514.138889               296.333654\n",
              "Deepranjan Gupta  106.275278                61.253762\n",
              "Jaydeep Dixit      59.840556                34.490234\n",
              "Hrisikesh Neogi    57.568611                33.180756\n",
              "Shubham Sharma     53.798333                31.007685"
            ],
            "text/html": [
              "\n",
              "  <div id=\"df-e9c9aab6-0516-4bd6-bb34-f614d9623eee\">\n",
              "    <div class=\"colab-df-container\">\n",
              "      <div>\n",
              "<style scoped>\n",
              "    .dataframe tbody tr th:only-of-type {\n",
              "        vertical-align: middle;\n",
              "    }\n",
              "\n",
              "    .dataframe tbody tr th {\n",
              "        vertical-align: top;\n",
              "    }\n",
              "\n",
              "    .dataframe thead th {\n",
              "        text-align: right;\n",
              "    }\n",
              "</style>\n",
              "<table border=\"1\" class=\"dataframe\">\n",
              "  <thead>\n",
              "    <tr style=\"text-align: right;\">\n",
              "      <th></th>\n",
              "      <th>Hours</th>\n",
              "      <th>Percentage_Active_Hours</th>\n",
              "    </tr>\n",
              "    <tr>\n",
              "      <th>Agent</th>\n",
              "      <th></th>\n",
              "      <th></th>\n",
              "    </tr>\n",
              "  </thead>\n",
              "  <tbody>\n",
              "    <tr>\n",
              "      <th>Tarun</th>\n",
              "      <td>514.138889</td>\n",
              "      <td>296.333654</td>\n",
              "    </tr>\n",
              "    <tr>\n",
              "      <th>Deepranjan Gupta</th>\n",
              "      <td>106.275278</td>\n",
              "      <td>61.253762</td>\n",
              "    </tr>\n",
              "    <tr>\n",
              "      <th>Jaydeep Dixit</th>\n",
              "      <td>59.840556</td>\n",
              "      <td>34.490234</td>\n",
              "    </tr>\n",
              "    <tr>\n",
              "      <th>Hrisikesh Neogi</th>\n",
              "      <td>57.568611</td>\n",
              "      <td>33.180756</td>\n",
              "    </tr>\n",
              "    <tr>\n",
              "      <th>Shubham Sharma</th>\n",
              "      <td>53.798333</td>\n",
              "      <td>31.007685</td>\n",
              "    </tr>\n",
              "  </tbody>\n",
              "</table>\n",
              "</div>\n",
              "      <button class=\"colab-df-convert\" onclick=\"convertToInteractive('df-e9c9aab6-0516-4bd6-bb34-f614d9623eee')\"\n",
              "              title=\"Convert this dataframe to an interactive table.\"\n",
              "              style=\"display:none;\">\n",
              "        \n",
              "  <svg xmlns=\"http://www.w3.org/2000/svg\" height=\"24px\"viewBox=\"0 0 24 24\"\n",
              "       width=\"24px\">\n",
              "    <path d=\"M0 0h24v24H0V0z\" fill=\"none\"/>\n",
              "    <path d=\"M18.56 5.44l.94 2.06.94-2.06 2.06-.94-2.06-.94-.94-2.06-.94 2.06-2.06.94zm-11 1L8.5 8.5l.94-2.06 2.06-.94-2.06-.94L8.5 2.5l-.94 2.06-2.06.94zm10 10l.94 2.06.94-2.06 2.06-.94-2.06-.94-.94-2.06-.94 2.06-2.06.94z\"/><path d=\"M17.41 7.96l-1.37-1.37c-.4-.4-.92-.59-1.43-.59-.52 0-1.04.2-1.43.59L10.3 9.45l-7.72 7.72c-.78.78-.78 2.05 0 2.83L4 21.41c.39.39.9.59 1.41.59.51 0 1.02-.2 1.41-.59l7.78-7.78 2.81-2.81c.8-.78.8-2.07 0-2.86zM5.41 20L4 18.59l7.72-7.72 1.47 1.35L5.41 20z\"/>\n",
              "  </svg>\n",
              "      </button>\n",
              "      \n",
              "  <style>\n",
              "    .colab-df-container {\n",
              "      display:flex;\n",
              "      flex-wrap:wrap;\n",
              "      gap: 12px;\n",
              "    }\n",
              "\n",
              "    .colab-df-convert {\n",
              "      background-color: #E8F0FE;\n",
              "      border: none;\n",
              "      border-radius: 50%;\n",
              "      cursor: pointer;\n",
              "      display: none;\n",
              "      fill: #1967D2;\n",
              "      height: 32px;\n",
              "      padding: 0 0 0 0;\n",
              "      width: 32px;\n",
              "    }\n",
              "\n",
              "    .colab-df-convert:hover {\n",
              "      background-color: #E2EBFA;\n",
              "      box-shadow: 0px 1px 2px rgba(60, 64, 67, 0.3), 0px 1px 3px 1px rgba(60, 64, 67, 0.15);\n",
              "      fill: #174EA6;\n",
              "    }\n",
              "\n",
              "    [theme=dark] .colab-df-convert {\n",
              "      background-color: #3B4455;\n",
              "      fill: #D2E3FC;\n",
              "    }\n",
              "\n",
              "    [theme=dark] .colab-df-convert:hover {\n",
              "      background-color: #434B5C;\n",
              "      box-shadow: 0px 1px 3px 1px rgba(0, 0, 0, 0.15);\n",
              "      filter: drop-shadow(0px 1px 2px rgba(0, 0, 0, 0.3));\n",
              "      fill: #FFFFFF;\n",
              "    }\n",
              "  </style>\n",
              "\n",
              "      <script>\n",
              "        const buttonEl =\n",
              "          document.querySelector('#df-e9c9aab6-0516-4bd6-bb34-f614d9623eee button.colab-df-convert');\n",
              "        buttonEl.style.display =\n",
              "          google.colab.kernel.accessAllowed ? 'block' : 'none';\n",
              "\n",
              "        async function convertToInteractive(key) {\n",
              "          const element = document.querySelector('#df-e9c9aab6-0516-4bd6-bb34-f614d9623eee');\n",
              "          const dataTable =\n",
              "            await google.colab.kernel.invokeFunction('convertToInteractive',\n",
              "                                                     [key], {});\n",
              "          if (!dataTable) return;\n",
              "\n",
              "          const docLinkHtml = 'Like what you see? Visit the ' +\n",
              "            '<a target=\"_blank\" href=https://colab.research.google.com/notebooks/data_table.ipynb>data table notebook</a>'\n",
              "            + ' to learn more about interactive tables.';\n",
              "          element.innerHTML = '';\n",
              "          dataTable['output_type'] = 'display_data';\n",
              "          await google.colab.output.renderOutput(dataTable, element);\n",
              "          const docLink = document.createElement('div');\n",
              "          docLink.innerHTML = docLinkHtml;\n",
              "          element.appendChild(docLink);\n",
              "        }\n",
              "      </script>\n",
              "    </div>\n",
              "  </div>\n",
              "  "
            ]
          },
          "metadata": {},
          "execution_count": 257
        }
      ]
    },
    {
      "cell_type": "code",
      "source": [
        "df_login.groupby(['Agent'])['Hours'].sum().sort_values(ascending=False)"
      ],
      "metadata": {
        "colab": {
          "base_uri": "https://localhost:8080/"
        },
        "id": "wa5PQoMrVLjH",
        "outputId": "fbc159c7-0323-4466-ad47-2d5d953db6d3"
      },
      "execution_count": 259,
      "outputs": [
        {
          "output_type": "execute_result",
          "data": {
            "text/plain": [
              "Agent\n",
              "Tarun                     514.138889\n",
              "Deepranjan Gupta          106.275278\n",
              "Jaydeep Dixit              59.840556\n",
              "Hrisikesh Neogi            57.568611\n",
              "Shubham Sharma             53.798333\n",
              "Harikrishnan Shaji         53.714722\n",
              "Dibyanshu                  52.595833\n",
              "Ishawant Kumar             51.778889\n",
              "Shivananda Sonwane         49.287778\n",
              "Zeeshan                    49.088611\n",
              "Wasim                      48.179167\n",
              "Bharath                    48.076667\n",
              "Jawala Prakash             46.402222\n",
              "Sudhanshu Kumar            46.231111\n",
              "Madhulika G                46.060278\n",
              "Prerna Singh               45.715556\n",
              "Mithun S                   45.173611\n",
              "Sowmiya Sivakumar          44.754167\n",
              "Sanjeev Kumar              44.687222\n",
              "Nishtha Jain               43.852778\n",
              "Khushboo Priya             43.558611\n",
              "Saikumarreddy N            43.137500\n",
              "Mahesh Sarade              42.921944\n",
              "Ameya Jain                 42.075556\n",
              "Rishav Dash                41.775556\n",
              "Manjunatha A               41.274722\n",
              "Boktiar Ahmed Bappy        40.268611\n",
              "Nandani Gupta              40.172222\n",
              "Ayushi Mishra              38.121667\n",
              "Shivan K                   36.102222\n",
              "Chaitra K Hiremath         34.325556\n",
              "Prabir Kumar Satapathy     33.377222\n",
              "Maitry                     30.945000\n",
              "Swati                      25.001111\n",
              "Aravind                    24.299167\n",
              "Prateek _iot               18.418056\n",
              "Muskan Garg                17.335556\n",
              "Saurabh Shukla             16.663056\n",
              "Aditya_iot                 15.731111\n",
              "Shiva Srivastava           14.994167\n",
              "Suraj S Bilgi              12.559167\n",
              "Mukesh                      8.905000\n",
              "Amersh                      3.063889\n",
              "Anurag Tiwari               2.778889\n",
              "Ankitjha                    2.266944\n",
              "Ineuron Intelligence        1.448611\n",
              "Nitin M                     0.798889\n",
              "Hyder Abbas                 0.388056\n",
              "Aditya Shinde               0.036111\n",
              "Name: Hours, dtype: float64"
            ]
          },
          "metadata": {},
          "execution_count": 259
        }
      ]
    },
    {
      "cell_type": "markdown",
      "source": [
        "**Tarun hass logged in but not logged off**"
      ],
      "metadata": {
        "id": "9TOlHDjkedeH"
      }
    },
    {
      "cell_type": "code",
      "source": [
        ""
      ],
      "metadata": {
        "id": "bNQQS5BJMfYI"
      },
      "execution_count": null,
      "outputs": []
    },
    {
      "cell_type": "code",
      "source": [
        ""
      ],
      "metadata": {
        "id": "DA7ZMtYFEuey"
      },
      "execution_count": null,
      "outputs": []
    },
    {
      "cell_type": "code",
      "source": [
        ""
      ],
      "metadata": {
        "id": "Xlm2HfGEETsu"
      },
      "execution_count": null,
      "outputs": []
    },
    {
      "cell_type": "code",
      "source": [
        ""
      ],
      "metadata": {
        "id": "t4Q8GOKivEzq"
      },
      "execution_count": null,
      "outputs": []
    }
  ]
}