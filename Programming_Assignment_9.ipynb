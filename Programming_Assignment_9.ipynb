{
  "nbformat": 4,
  "nbformat_minor": 0,
  "metadata": {
    "colab": {
      "name": " Programming Assignment_9.ipynb",
      "provenance": [],
      "collapsed_sections": []
    },
    "kernelspec": {
      "name": "python3",
      "display_name": "Python 3"
    },
    "language_info": {
      "name": "python"
    }
  },
  "cells": [
    {
      "cell_type": "markdown",
      "source": [
        "1. Write a Python program to check if the given number is a Disarium Number?"
      ],
      "metadata": {
        "id": "WWvR2JOb-lOM"
      }
    },
    {
      "cell_type": "code",
      "source": [
        "num_str = input(\"Enter the number: \")\n",
        "digits = len(num_str)\n",
        "num = int(num_str)\n",
        "\n",
        "sum = 0\n",
        "for i in range(digits):\n",
        "  sum += (int(num_str[i]))**(i+1)\n",
        "\n",
        "if sum == num:\n",
        "  print(\"The number is a Disarium Number\")\n",
        "else:\n",
        "  print(\"The number is not a Disarium number\")\n"
      ],
      "metadata": {
        "colab": {
          "base_uri": "https://localhost:8080/"
        },
        "id": "lwbZiUb5-k3N",
        "outputId": "2f1bccdf-56cd-4b47-a343-73f38ef199fd"
      },
      "execution_count": null,
      "outputs": [
        {
          "output_type": "stream",
          "name": "stdout",
          "text": [
            "Enter the number: 175\n",
            "The number is a Disarium Number\n"
          ]
        }
      ]
    },
    {
      "cell_type": "markdown",
      "source": [
        "2. Write a Python program to print all disarium numbers between 1 to 100?"
      ],
      "metadata": {
        "id": "2Nd3uzT0ElfS"
      }
    },
    {
      "cell_type": "code",
      "source": [
        "def disarium(num):\n",
        "  num_str = str(num)\n",
        "  digits = len(num_str)\n",
        "\n",
        "  sum = 0\n",
        "  for i in range(digits):\n",
        "    sum += (int(num_str[i]))**(i+1)\n",
        "  if sum == num:\n",
        "    return num\n",
        "  else:\n",
        "    return 0\n",
        "\n",
        "for i in range(101):\n",
        "  a = disarium(i)\n",
        "  if (a != 0):\n",
        "    print(disarium(i))\n"
      ],
      "metadata": {
        "colab": {
          "base_uri": "https://localhost:8080/"
        },
        "id": "MVAF6mP1GvmP",
        "outputId": "9f28ab28-5d49-4696-c941-2edb0ed27c3b"
      },
      "execution_count": null,
      "outputs": [
        {
          "output_type": "stream",
          "name": "stdout",
          "text": [
            "1\n",
            "2\n",
            "3\n",
            "4\n",
            "5\n",
            "6\n",
            "7\n",
            "8\n",
            "9\n",
            "89\n"
          ]
        }
      ]
    },
    {
      "cell_type": "markdown",
      "source": [
        "3. Write a Python program to check if the given number is Happy Number?"
      ],
      "metadata": {
        "id": "oXawYy-8Eotg"
      }
    },
    {
      "cell_type": "code",
      "source": [
        "num_str = input(\"Enter the number: \")\n",
        "num = int(num_str)\n",
        "digits = len(num_str)\n",
        "\n",
        "def Happy(num):\n",
        "  num_str = str(num)\n",
        "  digits = len(num_str)\n",
        "  sum = 0\n",
        "  for i in range(digits):\n",
        "    sum += (int(num_str[i]))**2\n",
        "  if sum != 1 :\n",
        "    Happy(sum)\n",
        "  else:\n",
        "    print(\"The number is happy number\")\n",
        "\n",
        "try:\n",
        "  Happy(num)\n",
        "except:\n",
        "  print(\"The number is not happy\")\n",
        "\n"
      ],
      "metadata": {
        "colab": {
          "base_uri": "https://localhost:8080/"
        },
        "id": "-rUcTIStLSFt",
        "outputId": "66938eeb-f962-4424-c079-0133294b4619"
      },
      "execution_count": null,
      "outputs": [
        {
          "output_type": "stream",
          "name": "stdout",
          "text": [
            "Enter the number: 19\n",
            "The number is happy number\n"
          ]
        }
      ]
    },
    {
      "cell_type": "markdown",
      "source": [
        "4. Write a Python program to print all happy numbers between 1 and 100?"
      ],
      "metadata": {
        "id": "kp6jp-xzEyA0"
      }
    },
    {
      "cell_type": "code",
      "source": [
        "def Happy(num):\n",
        "  num_str = str(num)\n",
        "  digits = len(num_str)\n",
        "  sum = 0\n",
        "  for i in range(digits):\n",
        "    sum += (int(num_str[i]))**2\n",
        "  if sum != 1 :\n",
        "    Happy(sum)\n",
        "  else:\n",
        "    return 10\n",
        "\n",
        "try:\n",
        "  for k in range(1,101):\n",
        "    Happy(k)\n",
        "except:\n",
        "  k +=1"
      ],
      "metadata": {
        "id": "oHp0ndlOcF6D"
      },
      "execution_count": null,
      "outputs": []
    },
    {
      "cell_type": "markdown",
      "source": [
        "5. Write a Python program to determine whether the given number is a Harshad Number?"
      ],
      "metadata": {
        "id": "ECasGyTMFC2l"
      }
    },
    {
      "cell_type": "code",
      "source": [
        "num_str = input(\"Enter the number: \")\n",
        "num = int(num_str)\n",
        "digits = len(num_str)\n",
        "sum = 0\n",
        "\n",
        "for i in range(digits):\n",
        "  sum += num%10\n",
        "  num = num//10\n",
        "\n",
        "if int(num_str)%sum == 0:\n",
        "  print(f\"The number {num_str} is a Harshad number\")\n",
        "else:\n",
        "  print(f\"The number {num_str} is not a Harshad number\")\n",
        "\n"
      ],
      "metadata": {
        "colab": {
          "base_uri": "https://localhost:8080/"
        },
        "id": "qN8kaaYirAb7",
        "outputId": "de72bcc3-5820-4466-a071-d12e817d710e"
      },
      "execution_count": 10,
      "outputs": [
        {
          "output_type": "stream",
          "name": "stdout",
          "text": [
            "Enter the number: 156\n",
            "156\n",
            "12\n",
            "The number 156 is a Harshad number\n"
          ]
        }
      ]
    },
    {
      "cell_type": "markdown",
      "source": [
        "6. Write a Python program to print all pronic numbers between 1 and 100?"
      ],
      "metadata": {
        "id": "XZcd23D5FFGe"
      }
    },
    {
      "cell_type": "code",
      "source": [
        "for i in range(4,101):\n",
        "  for j in range (1,int(i/2 +1)):\n",
        "    if i/(j*(j+1)) == 1:\n",
        "      print(i, end = \" \")"
      ],
      "metadata": {
        "colab": {
          "base_uri": "https://localhost:8080/"
        },
        "id": "cAXBJYBpq_po",
        "outputId": "5cb16cba-7ff2-4ffd-f690-71633ade9c64"
      },
      "execution_count": 17,
      "outputs": [
        {
          "output_type": "stream",
          "name": "stdout",
          "text": [
            "6 12 20 30 42 56 72 90 "
          ]
        }
      ]
    },
    {
      "cell_type": "code",
      "source": [
        ""
      ],
      "metadata": {
        "id": "QKkCH3x1q_ji"
      },
      "execution_count": null,
      "outputs": []
    },
    {
      "cell_type": "code",
      "source": [
        ""
      ],
      "metadata": {
        "id": "UW7RoARGq_hH"
      },
      "execution_count": null,
      "outputs": []
    },
    {
      "cell_type": "code",
      "source": [
        ""
      ],
      "metadata": {
        "id": "OZOtmLc_q_eo"
      },
      "execution_count": null,
      "outputs": []
    },
    {
      "cell_type": "code",
      "source": [
        ""
      ],
      "metadata": {
        "id": "1kAWIMZoq_bz"
      },
      "execution_count": null,
      "outputs": []
    },
    {
      "cell_type": "code",
      "source": [
        ""
      ],
      "metadata": {
        "id": "BTBBY-9Nq_ZD"
      },
      "execution_count": null,
      "outputs": []
    }
  ]
}