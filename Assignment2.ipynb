{
  "nbformat": 4,
  "nbformat_minor": 0,
  "metadata": {
    "colab": {
      "name": "Assignment2.ipynb",
      "provenance": [],
      "collapsed_sections": []
    },
    "kernelspec": {
      "name": "python3",
      "display_name": "Python 3"
    },
    "language_info": {
      "name": "python"
    }
  },
  "cells": [
    {
      "cell_type": "markdown",
      "source": [
        "1.What are the two values of the Boolean data type? How do you write them?"
      ],
      "metadata": {
        "id": "jHDaK0_E9ZLH"
      }
    },
    {
      "cell_type": "markdown",
      "source": [
        "True False 1 and 0"
      ],
      "metadata": {
        "id": "POM14Nj_9b0O"
      }
    },
    {
      "cell_type": "markdown",
      "source": [
        "2. What are the three different types of Boolean operators?"
      ],
      "metadata": {
        "id": "1QbQDfWd-Ccw"
      }
    },
    {
      "cell_type": "markdown",
      "source": [
        "AND Or NOT == !="
      ],
      "metadata": {
        "id": "FqulC-_G-F-M"
      }
    },
    {
      "cell_type": "markdown",
      "source": [
        "3. Make a list of each Boolean operators truth tables (i.e. every possible combination of Boolean values for the operator and what it evaluate)."
      ],
      "metadata": {
        "id": "GGF-wNGb-VRy"
      }
    },
    {
      "cell_type": "markdown",
      "source": [
        "A\t     B\t  A or B     A and B\n",
        "1. True\tTrue\tTrue     True\n",
        "2. True\tFalse\tTrue     False\n",
        "3. False\tTrue\tTrue   False\n",
        "4. False\tFalse\tFalse  False"
      ],
      "metadata": {
        "id": "6F4lUy3Z-omh"
      }
    },
    {
      "cell_type": "markdown",
      "source": [
        "4. What are the values of the following expressions?\n",
        "(5 > 4) and (3 == 5), \n",
        "not (5 > 4), \n",
        "(5 > 4) or (3 == 5), \n",
        "not ((5 > 4) or (3 == 5)),\n",
        "(True and True) and (True == False),\n",
        "(not False) or (not True)"
      ],
      "metadata": {
        "id": "eCmUd8KSTFNk"
      }
    },
    {
      "cell_type": "markdown",
      "source": [
        "1 False\n",
        " 2 False\n",
        " 3 True\n",
        " 4 False\n",
        " 5 True\n",
        " 6 False\n",
        " 7 True"
      ],
      "metadata": {
        "id": "T-rcCZv1TndP"
      }
    },
    {
      "cell_type": "markdown",
      "source": [
        "5. What are the six comparison operators?"
      ],
      "metadata": {
        "id": "ObrKmHn3U42-"
      }
    },
    {
      "cell_type": "markdown",
      "source": [
        "==, !=, >, <, >=, <="
      ],
      "metadata": {
        "id": "eOr32UlQVa8z"
      }
    },
    {
      "cell_type": "markdown",
      "source": [
        "6. How do you tell the difference between the equal to and assignment operators?Describe a condition and when you would use one."
      ],
      "metadata": {
        "id": "5SXSke9DVjBM"
      }
    },
    {
      "cell_type": "markdown",
      "source": [
        "== is equal to , used for comparison.\n",
        " Ex\n",
        "> if(a==b):<br>\n",
        "\n",
        "<br>\n",
        "= is used for assignment\n",
        "\n",
        "Ex\n",
        "\n",
        "> a = 2\n",
        "\n",
        "\n",
        "\n"
      ],
      "metadata": {
        "id": "jzOy51VGVmxs"
      }
    },
    {
      "cell_type": "markdown",
      "source": [
        "7. Identify the three blocks in this code:\n",
        "spam = 0\n",
        "if spam == 10:\n",
        "print(&#39;eggs&#39;)\n",
        "if spam &gt; 5:\n",
        "print(&#39;bacon&#39;)\n",
        "else:\n",
        "print(&#39;ham&#39;)\n",
        "print(&#39;spam&#39;)\n",
        "print(&#39;spam&#39;)"
      ],
      "metadata": {
        "id": "m1IfOBp8W6mi"
      }
    },
    {
      "cell_type": "code",
      "source": [
        "spam = 0\n",
        "if spam == 10:\n",
        "  print('eggs')\n",
        "if spam > 5:\n",
        "  print('bacon')\n",
        "else:\n",
        "  print('ham')\n",
        "  print('spam')\n",
        "  print('spam')"
      ],
      "metadata": {
        "colab": {
          "base_uri": "https://localhost:8080/"
        },
        "id": "rEtgi7HmW9DS",
        "outputId": "a7eff802-2f26-44a4-a57d-11d226670d1d"
      },
      "execution_count": 9,
      "outputs": [
        {
          "output_type": "stream",
          "name": "stdout",
          "text": [
            "ham\n",
            "spam\n",
            "spam\n"
          ]
        }
      ]
    },
    {
      "cell_type": "markdown",
      "source": [
        "8. Write code that prints Hello if 1 is stored in spam, prints Howdy if 2 is stored in spam, and prints\n",
        "Greetings! if anything else is stored in spam."
      ],
      "metadata": {
        "id": "DmVy70YEXb7g"
      }
    },
    {
      "cell_type": "code",
      "source": [
        "spam = int(input('enter number: '))\n",
        "if (spam == 1):\n",
        "  print('Hello')\n",
        "if (spam == 2):\n",
        "  print('Howdy')\n",
        "else:\n",
        "  print('Greetings')"
      ],
      "metadata": {
        "colab": {
          "base_uri": "https://localhost:8080/"
        },
        "id": "2MPQo5Gh-asu",
        "outputId": "e5dde66a-3f58-4fcc-a658-00e1497a4903"
      },
      "execution_count": 11,
      "outputs": [
        {
          "output_type": "stream",
          "name": "stdout",
          "text": [
            "enter number1\n",
            "Hello\n",
            "Greetings\n"
          ]
        }
      ]
    },
    {
      "cell_type": "markdown",
      "source": [
        "9.If your programme is stuck in an endless loop, what keys you’ll press?"
      ],
      "metadata": {
        "id": "kXFgx5hiYsYd"
      }
    },
    {
      "cell_type": "markdown",
      "source": [
        "Ctrl + C"
      ],
      "metadata": {
        "id": "UZJG-PGcYzcc"
      }
    },
    {
      "cell_type": "markdown",
      "source": [
        "10. How can you tell the difference between break and continue?"
      ],
      "metadata": {
        "id": "PsqlQKBCY2EG"
      }
    },
    {
      "cell_type": "markdown",
      "source": [
        "Break statement stops the current cycle and exits the loop, continue statement only stops the current cycle and goes to the next cycle in the loop"
      ],
      "metadata": {
        "id": "wkaPbIXQZi3t"
      }
    },
    {
      "cell_type": "markdown",
      "source": [
        "11. In a for loop, what is the difference between range(10), range(0, 10), and range(0, 10, 1)?"
      ],
      "metadata": {
        "id": "eEteLr7-Z3Wo"
      }
    },
    {
      "cell_type": "markdown",
      "source": [
        "no difference. in range(a,b,c) a is the starting index, b is the ending index but not counted, c is the jump number"
      ],
      "metadata": {
        "id": "m1tdD1BZaLLC"
      }
    },
    {
      "cell_type": "markdown",
      "source": [
        "12. Write a short program that prints the numbers 1 to 10 using a for loop. Then write an equivalent\n",
        "program that prints the numbers 1 to 10 using a while loop."
      ],
      "metadata": {
        "id": "9H4qR-a5aqMG"
      }
    },
    {
      "cell_type": "code",
      "source": [
        "for i in range(1,11):\n",
        "  print(i)\n",
        "\n",
        "i = 1\n",
        "while (i<11):\n",
        "  print(i)\n",
        "  i +=1"
      ],
      "metadata": {
        "colab": {
          "base_uri": "https://localhost:8080/"
        },
        "id": "pEYoy9CLasvu",
        "outputId": "35704083-7dc9-466e-c7a3-02bced9f9010"
      },
      "execution_count": 22,
      "outputs": [
        {
          "output_type": "stream",
          "name": "stdout",
          "text": [
            "1\n",
            "2\n",
            "3\n",
            "4\n",
            "5\n",
            "6\n",
            "7\n",
            "8\n",
            "9\n",
            "10\n",
            "1\n",
            "2\n",
            "3\n",
            "4\n",
            "5\n",
            "6\n",
            "7\n",
            "8\n",
            "9\n",
            "10\n"
          ]
        }
      ]
    },
    {
      "cell_type": "markdown",
      "source": [
        "13. If you had a function named bacon() inside a module named spam, how would you call it after\n",
        "importing spam?"
      ],
      "metadata": {
        "id": "SterjszHbDS1"
      }
    },
    {
      "cell_type": "markdown",
      "source": [
        "spam.bacon()"
      ],
      "metadata": {
        "id": "U4oQVnXNbKHw"
      }
    },
    {
      "cell_type": "code",
      "source": [
        ""
      ],
      "metadata": {
        "id": "FhWEFLeAbK_z"
      },
      "execution_count": null,
      "outputs": []
    }
  ]
}