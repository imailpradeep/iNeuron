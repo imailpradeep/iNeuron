{
  "nbformat": 4,
  "nbformat_minor": 0,
  "metadata": {
    "colab": {
      "name": "Programming_Assignment5.ipynb",
      "provenance": [],
      "collapsed_sections": []
    },
    "kernelspec": {
      "name": "python3",
      "display_name": "Python 3"
    },
    "language_info": {
      "name": "python"
    }
  },
  "cells": [
    {
      "cell_type": "code",
      "source": [
        ""
      ],
      "metadata": {
        "id": "qq4n3UFCxwys"
      },
      "execution_count": null,
      "outputs": []
    },
    {
      "cell_type": "markdown",
      "source": [
        "1. Write a Python Program to Find LCM?"
      ],
      "metadata": {
        "id": "BeH-DMfPx285"
      }
    },
    {
      "cell_type": "code",
      "source": [
        "num1 = int(input(\"Enter the first number: \"))\n",
        "num2 = int(input(\"Enter the second number: \"))\n",
        "def GCD(n1,n2):\n",
        "  rem = n2%n1\n",
        "  if rem == 0:\n",
        "    return n1\n",
        "  while (rem !=0):\n",
        "    rem, n1 = n1%rem, rem\n",
        "  return n1\n",
        "\n",
        "if (num1>num2):\n",
        "  num1.num2 = num2,num1\n",
        "else:\n",
        "  LCM = (num1*num2)/GCD(num1,num2)\n",
        "print(f\"The LCM of the numbers {num1}  and {num2} is {LCM}\")"
      ],
      "metadata": {
        "colab": {
          "base_uri": "https://localhost:8080/"
        },
        "id": "L4Gem2Hvxwwt",
        "outputId": "f5b6d34a-4f45-4fe6-ebfb-befa57e6cdb3"
      },
      "execution_count": 8,
      "outputs": [
        {
          "output_type": "stream",
          "name": "stdout",
          "text": [
            "Enter the first number: 25\n",
            "Enter the second number: 50\n",
            "The LCM of the numbers 25  and 50 is 50.0\n"
          ]
        }
      ]
    },
    {
      "cell_type": "markdown",
      "source": [
        "2. Write a Python Program to Find HCF?"
      ],
      "metadata": {
        "id": "umKSxaqP2DfR"
      }
    },
    {
      "cell_type": "code",
      "source": [
        "num1 = int(input(\"Enter the first number: \"))\n",
        "num2 = int(input(\"Enter the second number: \"))\n",
        "def GCD(n1,n2):\n",
        "  rem = n2%n1\n",
        "  if rem == 0:\n",
        "    return n1\n",
        "  while (rem !=0):\n",
        "    rem, n1 = n1%rem, rem\n",
        "  return n1\n",
        "\n",
        "if (num1>num2):\n",
        "  num1.num2 = num2,num1\n",
        "else:\n",
        "  LCM = (num1*num2)/GCD(num1,num2)\n",
        "\n",
        "HCF = (num1*num2)/LCM\n",
        "print(f\"The HCF of the numbers {num1}  and {num2} is {HCF}\")\n"
      ],
      "metadata": {
        "colab": {
          "base_uri": "https://localhost:8080/"
        },
        "id": "p1PcYsQ-xwtm",
        "outputId": "3f277cb1-16ff-4f49-e490-fefab22520a3"
      },
      "execution_count": 10,
      "outputs": [
        {
          "output_type": "stream",
          "name": "stdout",
          "text": [
            "Enter the first number: 35\n",
            "Enter the second number: 75\n",
            "The HCF of the numbers 35  and 75 is 5.0\n"
          ]
        }
      ]
    },
    {
      "cell_type": "markdown",
      "source": [
        "3. Write a Python Program to Convert Decimal to Binary, Octal and Hexadecimal?"
      ],
      "metadata": {
        "id": "P4jrqrpo3MtW"
      }
    },
    {
      "cell_type": "code",
      "execution_count": 11,
      "metadata": {
        "colab": {
          "base_uri": "https://localhost:8080/"
        },
        "id": "Nrf7BVs3xurH",
        "outputId": "66a23509-a36e-4586-8fc0-dce0ee968e6e"
      },
      "outputs": [
        {
          "output_type": "stream",
          "name": "stdout",
          "text": [
            "Enter the number: 23\n",
            "The binary of the number 23 is 0b10111\n",
            "The octal of the number 23 is 0o27\n",
            "The hexa of the number 23 is 0x17\n"
          ]
        }
      ],
      "source": [
        "num = int(input(\"Enter the number: \"))\n",
        "binary = bin(num)\n",
        "octal = oct(num)\n",
        "hexa = hex(num)\n",
        "print(f\"The binary of the number {num} is {binary}\")\n",
        "print(f\"The octal of the number {num} is {octal}\")\n",
        "print(f\"The hexa of the number {num} is {hexa}\")"
      ]
    },
    {
      "cell_type": "markdown",
      "source": [
        "4. Write a Python Program To Find ASCII value of a character?"
      ],
      "metadata": {
        "id": "E0h-eeP-4C5s"
      }
    },
    {
      "cell_type": "code",
      "source": [
        "char = (input(\"Enter the number: \"))\n",
        "print(f\"The ASCII value for {char} is {ord(char)}\")"
      ],
      "metadata": {
        "colab": {
          "base_uri": "https://localhost:8080/"
        },
        "id": "A91kZ75w3RPA",
        "outputId": "05336ee8-cc10-4ddf-855f-40d692e01c61"
      },
      "execution_count": 14,
      "outputs": [
        {
          "output_type": "stream",
          "name": "stdout",
          "text": [
            "Enter the number: ]\n",
            "The ASCII value for ] is 93\n"
          ]
        }
      ]
    },
    {
      "cell_type": "markdown",
      "source": [
        "5. Write a Python Program to Make a Simple Calculator with 4 basic mathematical operations?"
      ],
      "metadata": {
        "id": "Ge5hvpg99vZ9"
      }
    },
    {
      "cell_type": "code",
      "source": [
        "num1 = int(input(\"Enter the first number: \"))\n",
        "num2 = int(input(\"Enter the second number: \"))\n",
        "\n",
        "operator = input(\"Enter d for division, s for substraction, p for addition and m for multiplication: \")\n",
        "\n",
        "if (operator.lower() == 'd'):\n",
        "  ans = num1/num2\n",
        "elif (operator.lower() == 's'):\n",
        "  ans = num1 - num2\n",
        "elif (operator.lower() == 'p'):\n",
        "  ans = num1 + num2\n",
        "elif (operator.lower() == 'm'):\n",
        "  ans = num1*num2\n",
        "else:\n",
        "  print(\"Please try again\")\n",
        "  \n",
        "print(f\"The answer is {ans}\")\n"
      ],
      "metadata": {
        "colab": {
          "base_uri": "https://localhost:8080/"
        },
        "id": "8fy7GGW63RLF",
        "outputId": "1ea4a8c8-861a-4b72-b1ef-bc19ab356f76"
      },
      "execution_count": 16,
      "outputs": [
        {
          "output_type": "stream",
          "name": "stdout",
          "text": [
            "Enter the first number: 10\n",
            "Enter the second number: 2\n",
            "Enter d for division, s for substraction, p for addition and m for multiplication: p\n",
            "The answer is 12\n"
          ]
        }
      ]
    },
    {
      "cell_type": "code",
      "source": [
        ""
      ],
      "metadata": {
        "id": "JB3DyaEe3RAS"
      },
      "execution_count": null,
      "outputs": []
    }
  ]
}