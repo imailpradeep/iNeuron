{
  "nbformat": 4,
  "nbformat_minor": 0,
  "metadata": {
    "colab": {
      "name": "Assignment3.ipynb",
      "provenance": []
    },
    "kernelspec": {
      "name": "python3",
      "display_name": "Python 3"
    },
    "language_info": {
      "name": "python"
    }
  },
  "cells": [
    {
      "cell_type": "markdown",
      "source": [
        "1. Why are functions advantageous to have in your programs?"
      ],
      "metadata": {
        "id": "RBGhDR1XrQbj"
      }
    },
    {
      "cell_type": "markdown",
      "source": [
        "It helps us to write clean code and call the functions as required any number of times and givevalues into them independently and get output independently. Reduces number of lines and reduces confusion."
      ],
      "metadata": {
        "id": "K5apJIXRrUL9"
      }
    },
    {
      "cell_type": "markdown",
      "source": [
        "2. When does the code in a function run: when it&#39;s specified or when it&#39;s called?"
      ],
      "metadata": {
        "id": "e6RJFn3Krq9A"
      }
    },
    {
      "cell_type": "markdown",
      "source": [
        "The code in a function runs when it is called. "
      ],
      "metadata": {
        "id": "oG1DJKk5rxch"
      }
    },
    {
      "cell_type": "markdown",
      "source": [
        "3. What statement creates a function?"
      ],
      "metadata": {
        "id": "AIF3VBidr8EG"
      }
    },
    {
      "cell_type": "markdown",
      "source": [
        "def function_name():\n",
        "  ....\n",
        "  .....\n",
        "  ......"
      ],
      "metadata": {
        "id": "bPH6ki33r9l8"
      }
    },
    {
      "cell_type": "markdown",
      "source": [
        "4. What is the difference between a function and a function call?"
      ],
      "metadata": {
        "id": "ey0hY2obsIMW"
      }
    },
    {
      "cell_type": "markdown",
      "source": [
        "function defines the steps to be executed. function call is when we excute the function by calling it in the program"
      ],
      "metadata": {
        "id": "HHS2m8z9sp6D"
      }
    },
    {
      "cell_type": "markdown",
      "source": [
        "5. How many global scopes are there in a Python program? How many local scopes?"
      ],
      "metadata": {
        "id": "XP8mepXRstxg"
      }
    },
    {
      "cell_type": "markdown",
      "source": [
        "there is one global scope and number of local scope is equal to number of functions and classes, etc. "
      ],
      "metadata": {
        "id": "xg3woaYetqrh"
      }
    },
    {
      "cell_type": "markdown",
      "source": [
        "7. What is the concept of a return value? Is it possible to have a return value in an expression?"
      ],
      "metadata": {
        "id": "WU3kT2dt8EUv"
      }
    },
    {
      "cell_type": "markdown",
      "source": [
        "the output of executing statements can be called as the return value. Yes, expressions can have return value. "
      ],
      "metadata": {
        "id": "fo3fC0DL8qQ9"
      }
    },
    {
      "cell_type": "markdown",
      "source": [
        "8. If a function does not have a return statement, what is the return value of a call to that function?"
      ],
      "metadata": {
        "id": "iQe8SiG8-QfY"
      }
    },
    {
      "cell_type": "markdown",
      "source": [
        "None"
      ],
      "metadata": {
        "id": "Ft9ZzsV2-SPF"
      }
    },
    {
      "cell_type": "markdown",
      "source": [
        "9. How do you make a function variable refer to the global variable?"
      ],
      "metadata": {
        "id": "v-mGTkGDKLQG"
      }
    },
    {
      "cell_type": "markdown",
      "source": [
        "global variable_name"
      ],
      "metadata": {
        "id": "Qh52k5PUKP-6"
      }
    },
    {
      "cell_type": "markdown",
      "source": [
        "10. What is the data type of None?"
      ],
      "metadata": {
        "id": "r5_Brk63Kzni"
      }
    },
    {
      "cell_type": "markdown",
      "source": [
        "None type"
      ],
      "metadata": {
        "id": "KyHL3HUqK0lN"
      }
    },
    {
      "cell_type": "markdown",
      "source": [
        "11. What does the sentence import areallyourpetsnamederic do?"
      ],
      "metadata": {
        "id": "Ui0H7Cy0LBtb"
      }
    },
    {
      "cell_type": "markdown",
      "source": [
        "import function looks into Python database to import a  module by that name and brings its functions into the local program"
      ],
      "metadata": {
        "id": "8PgZKYdvLM89"
      }
    },
    {
      "cell_type": "markdown",
      "source": [
        "12. If you had a bacon() feature in a spam module, what would you call it after importing spam?"
      ],
      "metadata": {
        "id": "T0eWXy5FLot7"
      }
    },
    {
      "cell_type": "markdown",
      "source": [
        "spam.bacon()"
      ],
      "metadata": {
        "id": "VEkTcfkmLrzM"
      }
    },
    {
      "cell_type": "markdown",
      "source": [
        "13. What can you do to save a programme from crashing if it encounters an error?"
      ],
      "metadata": {
        "id": "TWcjY6sPLyQ6"
      }
    },
    {
      "cell_type": "markdown",
      "source": [
        "try: \n",
        "<br>  something <br>\n",
        "except: <br>\n",
        "  another thing like print 'Error'"
      ],
      "metadata": {
        "id": "zHVT2-_YL9Pv"
      }
    },
    {
      "cell_type": "markdown",
      "source": [
        "14. What is the purpose of the try clause? What is the purpose of the except clause?"
      ],
      "metadata": {
        "id": "vXhIM0yGM4d0"
      }
    },
    {
      "cell_type": "markdown",
      "source": [
        "Try clause executes statements <br>\n",
        "except clause statements are run if try clause generates error. "
      ],
      "metadata": {
        "id": "qOQxtOfOM-IH"
      }
    },
    {
      "cell_type": "code",
      "source": [
        ""
      ],
      "metadata": {
        "id": "DzARQU9LK5CP"
      },
      "execution_count": null,
      "outputs": []
    }
  ]
}