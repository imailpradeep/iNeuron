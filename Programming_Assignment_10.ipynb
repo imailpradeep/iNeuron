{
  "nbformat": 4,
  "nbformat_minor": 0,
  "metadata": {
    "colab": {
      "name": " Programming Assignment_10.ipynb",
      "provenance": [],
      "collapsed_sections": []
    },
    "kernelspec": {
      "name": "python3",
      "display_name": "Python 3"
    },
    "language_info": {
      "name": "python"
    }
  },
  "cells": [
    {
      "cell_type": "markdown",
      "source": [
        "Write a Python program to find sum of elements in list?"
      ],
      "metadata": {
        "id": "0PDfi-cwZdMq"
      }
    },
    {
      "cell_type": "code",
      "source": [
        "num_ele = int(input(\"Enter the number of elements in the list: \"))\n",
        "lst = []\n",
        "for i in range(num_ele):\n",
        "  lst.append(float(input(\"Enter numbers: \")))\n",
        "sum = 0\n",
        "for ele in lst:\n",
        "  if type(ele) == float:\n",
        "    sum += ele\n",
        "print(sum)"
      ],
      "metadata": {
        "colab": {
          "base_uri": "https://localhost:8080/"
        },
        "id": "M466MYnuZe_A",
        "outputId": "83513eea-57a7-499b-97ad-2f4158247df8"
      },
      "execution_count": 4,
      "outputs": [
        {
          "output_type": "stream",
          "name": "stdout",
          "text": [
            "Enter the number of elements in the list: 3\n",
            "Enter numbers: 34\n",
            "Enter numbers: 31465.65\n",
            "Enter numbers: 56136536\n",
            "56168035.65\n"
          ]
        }
      ]
    },
    {
      "cell_type": "markdown",
      "source": [
        "2. Write a Python program to Multiply all numbers in the list?"
      ],
      "metadata": {
        "id": "iazdEFvGZdGn"
      }
    },
    {
      "cell_type": "code",
      "source": [
        "num_ele = int(input(\"Enter the number of elements in the list: \"))\n",
        "lst = []\n",
        "for i in range(num_ele):\n",
        "  lst.append(float(input(\"Enter numbers: \")))\n",
        "product = 1\n",
        "for ele in lst:\n",
        "  if type(ele) == float:\n",
        "    product *= ele\n",
        "print(product)"
      ],
      "metadata": {
        "colab": {
          "base_uri": "https://localhost:8080/"
        },
        "id": "9qgfGSvXZ6j9",
        "outputId": "881ff012-6485-497d-82d8-052c77cce4d4"
      },
      "execution_count": 7,
      "outputs": [
        {
          "output_type": "stream",
          "name": "stdout",
          "text": [
            "Enter the number of elements in the list: 3\n",
            "Enter numbers: 2\n",
            "Enter numbers: 1.5\n",
            "Enter numbers: 3\n",
            "9.0\n"
          ]
        }
      ]
    },
    {
      "cell_type": "markdown",
      "source": [
        "3. Write a Python program to find smallest number in a list?"
      ],
      "metadata": {
        "id": "TsL9zaX2Zi4g"
      }
    },
    {
      "cell_type": "code",
      "source": [
        "num_ele = int(input(\"Enter the number of elements in the list: \"))\n",
        "lst = []\n",
        "for i in range(num_ele):\n",
        "  lst.append(float(input(\"Enter numbers: \")))\n",
        "  \n",
        "print(min(lst))\n"
      ],
      "metadata": {
        "colab": {
          "base_uri": "https://localhost:8080/"
        },
        "id": "Rnbe5r1BZ6PA",
        "outputId": "78b19f03-76c1-4190-e440-4bd23a239f1c"
      },
      "execution_count": 11,
      "outputs": [
        {
          "output_type": "stream",
          "name": "stdout",
          "text": [
            "Enter the number of elements in the list: 3\n",
            "Enter numbers: 2\n",
            "Enter numbers: 3.5\n",
            "Enter numbers: 56\n",
            "2.0\n"
          ]
        }
      ]
    },
    {
      "cell_type": "markdown",
      "source": [
        "4. Write a Python program to find largest number in a list?"
      ],
      "metadata": {
        "id": "h1Bl0MiHZi1I"
      }
    },
    {
      "cell_type": "code",
      "source": [
        "num_ele = int(input(\"Enter the number of elements in the list: \"))\n",
        "lst = []\n",
        "for i in range(num_ele):\n",
        "  lst.append(float(input(\"Enter numbers: \")))\n",
        "  \n",
        "print(max(lst))"
      ],
      "metadata": {
        "colab": {
          "base_uri": "https://localhost:8080/"
        },
        "id": "Z5NdxJsBZ52a",
        "outputId": "0709a999-37c3-4a73-ec8c-d57418ea01b2"
      },
      "execution_count": 12,
      "outputs": [
        {
          "output_type": "stream",
          "name": "stdout",
          "text": [
            "Enter the number of elements in the list: 3\n",
            "Enter numbers: 34\n",
            "Enter numbers: 2\n",
            "Enter numbers: 2346572.7\n",
            "2346572.7\n"
          ]
        }
      ]
    },
    {
      "cell_type": "markdown",
      "source": [
        "5. Write a Python program to find second largest number in a list?"
      ],
      "metadata": {
        "id": "WUmoUt_1Zix7"
      }
    },
    {
      "cell_type": "code",
      "source": [
        "num_ele = int(input(\"Enter the number of elements in the list: \"))\n",
        "lst = []\n",
        "for i in range(num_ele):\n",
        "  lst.append(float(input(\"Enter numbers: \")))\n",
        "lst.remove(max(lst))\n",
        "print(max(lst))"
      ],
      "metadata": {
        "colab": {
          "base_uri": "https://localhost:8080/"
        },
        "id": "TBT6-8pfZ5fl",
        "outputId": "62374ada-b860-46cf-840f-14e4c8911635"
      },
      "execution_count": 24,
      "outputs": [
        {
          "output_type": "stream",
          "name": "stdout",
          "text": [
            "Enter the number of elements in the list: 2\n",
            "Enter numbers: 1\n",
            "Enter numbers: 2\n",
            "1.0\n"
          ]
        }
      ]
    },
    {
      "cell_type": "markdown",
      "source": [
        "6. Write a Python program to find N largest elements from a list?"
      ],
      "metadata": {
        "id": "Y3UhRMOWZiuz"
      }
    },
    {
      "cell_type": "code",
      "source": [
        "num_ele = int(input(\"Enter the number of elements in the list: \"))\n",
        "lst = []\n",
        "for i in range(num_ele):\n",
        "  lst.append(float(input(\"Enter numbers: \")))\n",
        "lst.sort()\n",
        "print(lst[-5:])"
      ],
      "metadata": {
        "colab": {
          "base_uri": "https://localhost:8080/"
        },
        "id": "TpHLFcI2Z4JX",
        "outputId": "288977ea-b194-4ad0-d2b8-c717062a5f05"
      },
      "execution_count": 39,
      "outputs": [
        {
          "output_type": "stream",
          "name": "stdout",
          "text": [
            "Enter the number of elements in the list: 6\n",
            "Enter numbers: 3\n",
            "Enter numbers: 2\n",
            "Enter numbers: 1\n",
            "Enter numbers: 4\n",
            "Enter numbers: 6\n",
            "Enter numbers: 5\n",
            "[2.0, 3.0, 4.0, 5.0, 6.0]\n"
          ]
        }
      ]
    },
    {
      "cell_type": "markdown",
      "source": [
        "7. Write a Python program to print even numbers in a list?3\n"
      ],
      "metadata": {
        "id": "vfV8GZn3Ziq5"
      }
    },
    {
      "cell_type": "code",
      "source": [
        "num_ele = int(input(\"Enter the number of elements in the list: \"))\n",
        "lst = []\n",
        "for i in range(num_ele):\n",
        "  a = float(input(\"Enter numbers: \"))\n",
        "  if a%2 == 0:\n",
        "    lst.append(a)\n",
        "\n",
        "print(lst)"
      ],
      "metadata": {
        "colab": {
          "base_uri": "https://localhost:8080/"
        },
        "id": "SWheOpNDZ30s",
        "outputId": "a973dde3-b661-4d31-af5e-456edb5737e0"
      },
      "execution_count": 44,
      "outputs": [
        {
          "output_type": "stream",
          "name": "stdout",
          "text": [
            "Enter the number of elements in the list: 5\n",
            "Enter numbers: 2\n",
            "Enter numbers: 3\n",
            "Enter numbers: 5\n",
            "Enter numbers: 6\n",
            "Enter numbers: 7\n",
            "[2.0, 6.0]\n"
          ]
        }
      ]
    },
    {
      "cell_type": "markdown",
      "source": [
        "8. Write a Python program to print odd numbers in a List?"
      ],
      "metadata": {
        "id": "Boa9GxSDZso8"
      }
    },
    {
      "cell_type": "code",
      "source": [
        "num_ele = int(input(\"Enter the number of elements in the list: \"))\n",
        "lst = []\n",
        "for i in range(num_ele):\n",
        "  a = float(input(\"Enter numbers: \"))\n",
        "  if a%2 != 0:\n",
        "    lst.append(a)\n",
        "\n",
        "print(lst)"
      ],
      "metadata": {
        "id": "a20Z0RBrZ3iC"
      },
      "execution_count": null,
      "outputs": []
    },
    {
      "cell_type": "markdown",
      "source": [
        "9. Write a Python program to Remove empty List from List?"
      ],
      "metadata": {
        "id": "ltQR9q3cZslB"
      }
    },
    {
      "cell_type": "code",
      "source": [
        "lst = [1,2,[],4,[2,4,5,6],[],7,[45,34,56,78]]\n",
        "print(lst)\n",
        "for ele in lst:\n",
        "  if ele == []:\n",
        "    lst.remove([])\n",
        "print(lst)"
      ],
      "metadata": {
        "colab": {
          "base_uri": "https://localhost:8080/"
        },
        "id": "vy5okKFJZ3NP",
        "outputId": "9791941a-e2fd-4f15-8269-91574e39ad7e"
      },
      "execution_count": 52,
      "outputs": [
        {
          "output_type": "stream",
          "name": "stdout",
          "text": [
            "[1, 2, [], 4, [2, 4, 5, 6], [], 7, [45, 34, 56, 78]]\n",
            "[1, 2, 4, [2, 4, 5, 6], 7, [45, 34, 56, 78]]\n"
          ]
        }
      ]
    },
    {
      "cell_type": "markdown",
      "source": [
        "10. Write a Python program to Cloning or Copying a list?"
      ],
      "metadata": {
        "id": "xfT3RlnFZsg5"
      }
    },
    {
      "cell_type": "code",
      "source": [
        "lst1 = [1, 2, [], 4, [2, 4, 5, 6], [], 7, [45, 34, 56, 78]]\n",
        "lst2 = [1, 2, [], [45, 34, 56, 78], (3,4,6,7), {23:345,45:567,'we':'awttw'}]\n",
        "lst3 = lst1\n",
        "print(lst3)\n",
        "\n",
        "lst4 = []\n",
        "for ele in lst2:\n",
        "  lst4.append(ele)\n",
        "print(lst4)"
      ],
      "metadata": {
        "colab": {
          "base_uri": "https://localhost:8080/"
        },
        "id": "ptqMUKXvZ2yt",
        "outputId": "06325c6a-87b7-47e0-b3fd-68c6999ffdc2"
      },
      "execution_count": 56,
      "outputs": [
        {
          "output_type": "stream",
          "name": "stdout",
          "text": [
            "[1, 2, [], 4, [2, 4, 5, 6], [], 7, [45, 34, 56, 78]]\n",
            "[1, 2, [], [45, 34, 56, 78], (3, 4, 6, 7), {23: 345, 45: 567, 'we': 'awttw'}]\n"
          ]
        }
      ]
    },
    {
      "cell_type": "markdown",
      "source": [
        "11. Write a Python program to Count occurrences of an element in a list?"
      ],
      "metadata": {
        "id": "O64SmutDZsAC"
      }
    },
    {
      "cell_type": "code",
      "source": [
        "lst = [1, 2, 4, 2, 4, 5, 6, 7, 45, 34, 56, 78]\n",
        "s = set(lst)\n",
        "for ele in s:\n",
        "  print(f\"the element {ele} occours {lst.count(ele)} times\")"
      ],
      "metadata": {
        "colab": {
          "base_uri": "https://localhost:8080/"
        },
        "id": "l5i1QRiLZ10z",
        "outputId": "4f4706c5-b4a5-4daf-fa02-420d36e1081d"
      },
      "execution_count": 65,
      "outputs": [
        {
          "output_type": "stream",
          "name": "stdout",
          "text": [
            "the element 1 occours 1 times\n",
            "the element 2 occours 2 times\n",
            "the element 34 occours 1 times\n",
            "the element 4 occours 2 times\n",
            "the element 5 occours 1 times\n",
            "the element 6 occours 1 times\n",
            "the element 7 occours 1 times\n",
            "the element 45 occours 1 times\n",
            "the element 78 occours 1 times\n",
            "the element 56 occours 1 times\n"
          ]
        }
      ]
    },
    {
      "cell_type": "code",
      "source": [
        ""
      ],
      "metadata": {
        "id": "js8xJ70DZ1vl"
      },
      "execution_count": null,
      "outputs": []
    },
    {
      "cell_type": "code",
      "source": [
        ""
      ],
      "metadata": {
        "id": "RJoSfUJuZ1sm"
      },
      "execution_count": null,
      "outputs": []
    },
    {
      "cell_type": "code",
      "execution_count": null,
      "metadata": {
        "id": "Zq4a0cCIw5sm"
      },
      "outputs": [],
      "source": [
        ""
      ]
    }
  ]
}