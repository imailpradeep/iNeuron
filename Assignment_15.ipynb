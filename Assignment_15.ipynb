{
  "nbformat": 4,
  "nbformat_minor": 0,
  "metadata": {
    "colab": {
      "name": "Assignment_15.ipynb",
      "provenance": []
    },
    "kernelspec": {
      "name": "python3",
      "display_name": "Python 3"
    },
    "language_info": {
      "name": "python"
    }
  },
  "cells": [
    {
      "cell_type": "markdown",
      "source": [
        "1.How many seconds are in an hour? Use the interactive interpreter as a calculator and multiply the number of seconds in a minute (60) by the number of minutes in an hour (also 60). <br>\n",
        "sol. 60<br>\n",
        "2. Assign the result from the previous task (seconds in an hour) to a variable called seconds_per_hour.<br>\n",
        "3. How many seconds do you think there are in a day? Make use of the variables seconds per hour and minutes per hour. <br>\n",
        "4. Calculate seconds per day again, but this time save the result in a variable called seconds_per_day <br>\n",
        "5. Divide seconds_per_day by seconds_per_hour. Use floating-point (/) division. <br>\n",
        "6. Divide seconds_per_day by seconds_per_hour, using integer (//) division. Did this number agree with the floating-point value from the previous question, aside from the final .0? <br>\n",
        "7. Write a generator, genPrimes, that returns the sequence of prime numbers on successive calls to its next() method: 2, 3, 5, 7, 11, ... <br>"
      ],
      "metadata": {
        "id": "ssjnN_9_yD12"
      }
    },
    {
      "cell_type": "markdown",
      "source": [
        "1.How many seconds are in an hour? Use the interactive interpreter as a calculator and multiply the number of seconds in a minute (60) by the number of minutes in an hour (also 60).\n",
        "sol. 60"
      ],
      "metadata": {
        "id": "xZfgaMHKz3X8"
      }
    },
    {
      "cell_type": "code",
      "source": [
        "seconds_per_minute = 60\n",
        "minutes_per_hour = 60\n",
        "seconds_per_hour = seconds_per_minute*minutes_per_hour\n",
        "seconds_per_hour"
      ],
      "metadata": {
        "colab": {
          "base_uri": "https://localhost:8080/"
        },
        "id": "wTO6rxf7z3D3",
        "outputId": "01bb457a-be88-4e37-bdb9-32f824585c19"
      },
      "execution_count": 11,
      "outputs": [
        {
          "output_type": "execute_result",
          "data": {
            "text/plain": [
              "3600"
            ]
          },
          "metadata": {},
          "execution_count": 11
        }
      ]
    },
    {
      "cell_type": "markdown",
      "source": [
        "Assign the result from the previous task (seconds in an hour) to a variable called seconds_per_hour."
      ],
      "metadata": {
        "id": "RfbJckKRz9sP"
      }
    },
    {
      "cell_type": "code",
      "source": [
        "seconds_per_hour = 60*60"
      ],
      "metadata": {
        "id": "CfXUgo5az3A0"
      },
      "execution_count": 10,
      "outputs": []
    },
    {
      "cell_type": "markdown",
      "source": [
        "How many seconds do you think there are in a day? Make use of the variables seconds per minute and minutes per hour."
      ],
      "metadata": {
        "id": "7EmeSD5n0Qjf"
      }
    },
    {
      "cell_type": "code",
      "source": [
        "minutes_per_hour = 60\n",
        "seconds_per_minute = 60\n",
        "hours_per_day = 24\n",
        "seconds_per_minute*minutes_per_hour*hours_per_day\n"
      ],
      "metadata": {
        "colab": {
          "base_uri": "https://localhost:8080/"
        },
        "id": "8xdHcn7Kz2-B",
        "outputId": "72052893-262f-44dd-ccaa-241873c29796"
      },
      "execution_count": 7,
      "outputs": [
        {
          "output_type": "execute_result",
          "data": {
            "text/plain": [
              "86400"
            ]
          },
          "metadata": {},
          "execution_count": 7
        }
      ]
    },
    {
      "cell_type": "markdown",
      "source": [
        "Calculate seconds per day again, but this time save the result in a variable called seconds_per_day"
      ],
      "metadata": {
        "id": "N5Kv93RQOdmn"
      }
    },
    {
      "cell_type": "code",
      "source": [
        "seconds_per_day = seconds_per_minute*minutes_per_hour*hours_per_day\n",
        "seconds_per_day"
      ],
      "metadata": {
        "colab": {
          "base_uri": "https://localhost:8080/"
        },
        "id": "WG7skgStOcfa",
        "outputId": "bb106162-f58a-43a8-b72d-8f6ab47f80ca"
      },
      "execution_count": 8,
      "outputs": [
        {
          "output_type": "execute_result",
          "data": {
            "text/plain": [
              "86400"
            ]
          },
          "metadata": {},
          "execution_count": 8
        }
      ]
    },
    {
      "cell_type": "markdown",
      "source": [
        "Divide seconds_per_day by seconds_per_hour. Use floating-point (/) division."
      ],
      "metadata": {
        "id": "rXEY50AwQbID"
      }
    },
    {
      "cell_type": "code",
      "source": [
        "seconds_per_day/seconds_per_hour"
      ],
      "metadata": {
        "colab": {
          "base_uri": "https://localhost:8080/"
        },
        "id": "VsNj2KbEz26g",
        "outputId": "c1892f81-bd5b-481f-b1d3-0e2335d0d55e"
      },
      "execution_count": 9,
      "outputs": [
        {
          "output_type": "execute_result",
          "data": {
            "text/plain": [
              "24.0"
            ]
          },
          "metadata": {},
          "execution_count": 9
        }
      ]
    },
    {
      "cell_type": "markdown",
      "source": [
        "Divide seconds_per_day by seconds_per_hour, using integer (//) division. Did this number agree\n",
        "with the floating-point value from the previous question, aside from the final .0?"
      ],
      "metadata": {
        "id": "ihOvK4-xRBwa"
      }
    },
    {
      "cell_type": "code",
      "source": [
        "seconds_per_day//seconds_per_hour"
      ],
      "metadata": {
        "colab": {
          "base_uri": "https://localhost:8080/"
        },
        "id": "QDho-1UDRDEn",
        "outputId": "e7d3ff2c-ff7a-44ec-9f0b-65fe8b53df19"
      },
      "execution_count": 12,
      "outputs": [
        {
          "output_type": "execute_result",
          "data": {
            "text/plain": [
              "24"
            ]
          },
          "metadata": {},
          "execution_count": 12
        }
      ]
    },
    {
      "cell_type": "markdown",
      "source": [
        "yes"
      ],
      "metadata": {
        "id": "Ce18fMDVRI2z"
      }
    },
    {
      "cell_type": "markdown",
      "source": [
        "7. Write a generator, genPrimes, that returns the sequence of prime numbers on successive calls to\n",
        "its next() method: 2, 3, 5, 7, 11, ..."
      ],
      "metadata": {
        "id": "tklcQZ9pRNgK"
      }
    },
    {
      "cell_type": "code",
      "source": [
        "def genPrimes(n):\n",
        "  l = []\n",
        "  for i in range(2,n):\n",
        "    for j in range(2,int(i/2 +1)):\n",
        "      if i%(j) == 0:\n",
        "        break\n",
        "    else:\n",
        "      l.append(i)\n",
        "      yield i\n",
        "#prime(25)\n",
        "genPrime = iter(genPrimes(250))\n",
        "next(genPrime)"
      ],
      "metadata": {
        "colab": {
          "base_uri": "https://localhost:8080/"
        },
        "id": "W3hgQViLRDBD",
        "outputId": "de6c46f6-caf5-49f2-de41-4991c3733079"
      },
      "execution_count": 63,
      "outputs": [
        {
          "output_type": "execute_result",
          "data": {
            "text/plain": [
              "2"
            ]
          },
          "metadata": {},
          "execution_count": 63
        }
      ]
    },
    {
      "cell_type": "code",
      "source": [
        "next(genPrime)"
      ],
      "metadata": {
        "colab": {
          "base_uri": "https://localhost:8080/"
        },
        "id": "69c-IhsshJw2",
        "outputId": "477c24e5-7f0f-431d-9dab-c8b9c2076811"
      },
      "execution_count": 66,
      "outputs": [
        {
          "output_type": "execute_result",
          "data": {
            "text/plain": [
              "7"
            ]
          },
          "metadata": {},
          "execution_count": 66
        }
      ]
    },
    {
      "cell_type": "code",
      "source": [
        ""
      ],
      "metadata": {
        "id": "3RnZzaunhJt4"
      },
      "execution_count": 56,
      "outputs": []
    },
    {
      "cell_type": "code",
      "source": [
        ""
      ],
      "metadata": {
        "id": "pZ14XnP8hJq0"
      },
      "execution_count": null,
      "outputs": []
    },
    {
      "cell_type": "code",
      "execution_count": null,
      "metadata": {
        "id": "9FV_ZQrryC6x"
      },
      "outputs": [],
      "source": [
        ""
      ]
    }
  ]
}