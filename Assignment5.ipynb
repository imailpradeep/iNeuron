{
  "nbformat": 4,
  "nbformat_minor": 0,
  "metadata": {
    "colab": {
      "name": "Assignment5.ipynb",
      "provenance": []
    },
    "kernelspec": {
      "name": "python3",
      "display_name": "Python 3"
    },
    "language_info": {
      "name": "python"
    }
  },
  "cells": [
    {
      "cell_type": "markdown",
      "source": [
        "1. What does an empty dictionary&#39;s code look like?"
      ],
      "metadata": {
        "id": "col1unrYl9hg"
      }
    },
    {
      "cell_type": "code",
      "execution_count": 1,
      "metadata": {
        "colab": {
          "base_uri": "https://localhost:8080/"
        },
        "id": "wqkA3q7jl7AV",
        "outputId": "a976147b-ec04-4ebb-b384-cec9b5470932"
      },
      "outputs": [
        {
          "output_type": "execute_result",
          "data": {
            "text/plain": [
              "dict"
            ]
          },
          "metadata": {},
          "execution_count": 1
        }
      ],
      "source": [
        "d = {}\n",
        "type(d)"
      ]
    },
    {
      "cell_type": "markdown",
      "source": [
        "2. What is the value of a dictionary value with the key 'foo' and the value 42?"
      ],
      "metadata": {
        "id": "xUUakGi2mMli"
      }
    },
    {
      "cell_type": "code",
      "source": [
        "d = {'foo':42}\n",
        "print( f'The answer is ',  d['foo'])\n"
      ],
      "metadata": {
        "colab": {
          "base_uri": "https://localhost:8080/"
        },
        "id": "fSQ0SGvimSw3",
        "outputId": "e374be3e-1c57-4535-b1b0-e541a89da6dd"
      },
      "execution_count": 10,
      "outputs": [
        {
          "output_type": "stream",
          "name": "stdout",
          "text": [
            "The answer is  42\n"
          ]
        }
      ]
    },
    {
      "cell_type": "markdown",
      "source": [
        "3. What is the most significant distinction between a dictionary and a list?"
      ],
      "metadata": {
        "id": "R52N_sRnm12r"
      }
    },
    {
      "cell_type": "markdown",
      "source": [
        "the values in a dictionary can be retrieved by using keys and they do not allow duplicates nor do they maintain order as in case of lists"
      ],
      "metadata": {
        "id": "g8wgHvcXm4rk"
      }
    },
    {
      "cell_type": "markdown",
      "source": [
        "4. What happens if you try to access spam[&#39;foo&#39;] if spam is {&#39;bar&#39;: 100}?"
      ],
      "metadata": {
        "id": "W_vtKi82nrjU"
      }
    },
    {
      "cell_type": "markdown",
      "source": [
        "It generates a KeyError"
      ],
      "metadata": {
        "id": "67s2w6Fnn6Ip"
      }
    },
    {
      "cell_type": "markdown",
      "source": [
        "5. If a dictionary is stored in spam, what is the difference between the expressions &#39;cat&#39; in spam and\n",
        "&#39;cat&#39; in spam.keys()?"
      ],
      "metadata": {
        "id": "qxOJq91coBbl"
      }
    },
    {
      "cell_type": "markdown",
      "source": [
        "'cat' in spam is a key which can be used to retrieve a value but 'cat' in spam.keys() is a part of dict_keys object and it will not support indexing"
      ],
      "metadata": {
        "id": "f169IntHofTi"
      }
    },
    {
      "cell_type": "markdown",
      "source": [
        "6. If a dictionary is stored in spam, what is the difference between the expressions &#39;cat&#39; in spam and\n",
        "&#39;cat&#39; in spam.values()?"
      ],
      "metadata": {
        "id": "cQiEnUP8s_gl"
      }
    },
    {
      "cell_type": "markdown",
      "source": [
        "'cat' in spam is a value which can be used to retrieved a key but 'cat' in spam.values() is a part of dict_values object and it will not support indexing\n",
        "\n"
      ],
      "metadata": {
        "id": "DAnRossVtN5C"
      }
    },
    {
      "cell_type": "markdown",
      "source": [
        "7. What is a shortcut for the following code? <br>\n",
        "if &#39;color&#39; not in spam: <br>\n",
        "spam[&#39;color&#39;] = &#39;black&#39; <br>|"
      ],
      "metadata": {
        "id": "j32h3FmrtbjE"
      }
    },
    {
      "cell_type": "code",
      "source": [
        "spam = {}\n",
        "if 'color' not in spam:\n",
        "  spam.update([('color','black')])"
      ],
      "metadata": {
        "id": "3BKlO88RvK0Z"
      },
      "execution_count": 62,
      "outputs": []
    },
    {
      "cell_type": "code",
      "source": [
        "spam.update([(4,34),(5,23),(356,236163)])"
      ],
      "metadata": {
        "id": "WtiaRWPqw9DQ"
      },
      "execution_count": 65,
      "outputs": []
    },
    {
      "cell_type": "markdown",
      "source": [
        "8. How do you &quot;pretty print&quot; dictionary values using which module and function?"
      ],
      "metadata": {
        "id": "YBUw1ccQwfcb"
      }
    },
    {
      "cell_type": "code",
      "source": [
        "import pprint\n",
        "pprint.pprint(spam)\n"
      ],
      "metadata": {
        "colab": {
          "base_uri": "https://localhost:8080/"
        },
        "id": "5MH4AXflwat8",
        "outputId": "0274fc71-5eef-4651-bc28-abc325cd7e44"
      },
      "execution_count": 68,
      "outputs": [
        {
          "output_type": "stream",
          "name": "stdout",
          "text": [
            "{4: 34, 5: 23, 356: 236163, 'color': 'black'}\n"
          ]
        }
      ]
    },
    {
      "cell_type": "code",
      "source": [
        ""
      ],
      "metadata": {
        "id": "xWajrwnXw6Bf"
      },
      "execution_count": null,
      "outputs": []
    }
  ]
}